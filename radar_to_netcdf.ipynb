{
 "cells": [
  {
   "cell_type": "code",
   "execution_count": null,
   "id": "9bdebffa-12a9-4249-a87c-636ddb9e0e79",
   "metadata": {},
   "outputs": [],
   "source": [
    "#This brief script allows users to convert NEXRAD radar files to .nc grid objects\n",
    "#Converting a radar object to a Cartesian grid object can more easily allow for some analytical tasks\n",
    "#The pyart package is a useful tool for working with radar data\n",
    "#See pyart documentation here: https://arm-doe.github.io/pyart/\n",
    "#See also https://arm-doe.github.io/pyart/notebooks/mapping_data_to_a_cartesian_grid.html"
   ]
  },
  {
   "cell_type": "code",
   "execution_count": 2,
   "id": "debcd525-609d-4dc4-a400-fdf4277be800",
   "metadata": {
    "tags": []
   },
   "outputs": [],
   "source": [
    "import os\n",
    "import pyart"
   ]
  },
  {
   "cell_type": "code",
   "execution_count": 3,
   "id": "e62cc32d-52c8-4215-8af5-4b995d657e89",
   "metadata": {
    "tags": []
   },
   "outputs": [],
   "source": [
    "#Connect to the folder containing your files\n",
    "path=\"path/to/folder\"\n",
    "os.chdir(path)"
   ]
  },
  {
   "cell_type": "code",
   "execution_count": 5,
   "id": "db69ed2a-8932-4ccf-82bf-7a54c5878cb1",
   "metadata": {
    "tags": []
   },
   "outputs": [
    {
     "name": "stderr",
     "output_type": "stream",
     "text": [
      "/Users/adkchappy/anaconda3/envs/pyart_env/lib/python3.8/site-packages/pyart/map/gates_to_grid.py:160: DeprecationWarning: Barnes weighting function is deprecated. Please use Barnes 2 to be consistent with Pauley and Wu 1990.\n",
      "  warnings.warn(\"Barnes weighting function is deprecated.\"\n",
      "/Users/adkchappy/anaconda3/envs/pyart_env/lib/python3.8/site-packages/pyart/filters/gatefilter.py:460: DeprecationWarning: `np.bool` is a deprecated alias for the builtin `bool`. To silence this warning, use `bool` by itself. Doing this will not modify any behavior and is safe. If you specifically wanted the numpy scalar type, use `np.bool_` here.\n",
      "Deprecated in NumPy 1.20; for more details and guidance: https://numpy.org/devdocs/release/1.20.0-notes.html#deprecations\n",
      "  self._gate_excluded = np.zeros(shape, dtype=np.bool)\n"
     ]
    },
    {
     "name": "stdout",
     "output_type": "stream",
     "text": [
      "Saved grid to KIND_SDUS53_N0RIND_201105011809_grid.nc\n"
     ]
    },
    {
     "name": "stderr",
     "output_type": "stream",
     "text": [
      "/Users/adkchappy/anaconda3/envs/pyart_env/lib/python3.8/site-packages/pyart/map/gates_to_grid.py:160: DeprecationWarning: Barnes weighting function is deprecated. Please use Barnes 2 to be consistent with Pauley and Wu 1990.\n",
      "  warnings.warn(\"Barnes weighting function is deprecated.\"\n",
      "/Users/adkchappy/anaconda3/envs/pyart_env/lib/python3.8/site-packages/pyart/filters/gatefilter.py:460: DeprecationWarning: `np.bool` is a deprecated alias for the builtin `bool`. To silence this warning, use `bool` by itself. Doing this will not modify any behavior and is safe. If you specifically wanted the numpy scalar type, use `np.bool_` here.\n",
      "Deprecated in NumPy 1.20; for more details and guidance: https://numpy.org/devdocs/release/1.20.0-notes.html#deprecations\n",
      "  self._gate_excluded = np.zeros(shape, dtype=np.bool)\n"
     ]
    },
    {
     "name": "stdout",
     "output_type": "stream",
     "text": [
      "Saved grid to KIND_SDUS53_N0RIND_201105010910_grid.nc\n"
     ]
    },
    {
     "name": "stderr",
     "output_type": "stream",
     "text": [
      "/Users/adkchappy/anaconda3/envs/pyart_env/lib/python3.8/site-packages/pyart/map/gates_to_grid.py:160: DeprecationWarning: Barnes weighting function is deprecated. Please use Barnes 2 to be consistent with Pauley and Wu 1990.\n",
      "  warnings.warn(\"Barnes weighting function is deprecated.\"\n",
      "/Users/adkchappy/anaconda3/envs/pyart_env/lib/python3.8/site-packages/pyart/filters/gatefilter.py:460: DeprecationWarning: `np.bool` is a deprecated alias for the builtin `bool`. To silence this warning, use `bool` by itself. Doing this will not modify any behavior and is safe. If you specifically wanted the numpy scalar type, use `np.bool_` here.\n",
      "Deprecated in NumPy 1.20; for more details and guidance: https://numpy.org/devdocs/release/1.20.0-notes.html#deprecations\n",
      "  self._gate_excluded = np.zeros(shape, dtype=np.bool)\n"
     ]
    },
    {
     "name": "stdout",
     "output_type": "stream",
     "text": [
      "Saved grid to KIND_SDUS53_N0RIND_201105010928_grid.nc\n"
     ]
    },
    {
     "name": "stderr",
     "output_type": "stream",
     "text": [
      "/Users/adkchappy/anaconda3/envs/pyart_env/lib/python3.8/site-packages/pyart/map/gates_to_grid.py:160: DeprecationWarning: Barnes weighting function is deprecated. Please use Barnes 2 to be consistent with Pauley and Wu 1990.\n",
      "  warnings.warn(\"Barnes weighting function is deprecated.\"\n",
      "/Users/adkchappy/anaconda3/envs/pyart_env/lib/python3.8/site-packages/pyart/filters/gatefilter.py:460: DeprecationWarning: `np.bool` is a deprecated alias for the builtin `bool`. To silence this warning, use `bool` by itself. Doing this will not modify any behavior and is safe. If you specifically wanted the numpy scalar type, use `np.bool_` here.\n",
      "Deprecated in NumPy 1.20; for more details and guidance: https://numpy.org/devdocs/release/1.20.0-notes.html#deprecations\n",
      "  self._gate_excluded = np.zeros(shape, dtype=np.bool)\n"
     ]
    },
    {
     "name": "stdout",
     "output_type": "stream",
     "text": [
      "Saved grid to KIND_SDUS53_N0RIND_201105012227_grid.nc\n"
     ]
    },
    {
     "name": "stderr",
     "output_type": "stream",
     "text": [
      "/Users/adkchappy/anaconda3/envs/pyart_env/lib/python3.8/site-packages/pyart/map/gates_to_grid.py:160: DeprecationWarning: Barnes weighting function is deprecated. Please use Barnes 2 to be consistent with Pauley and Wu 1990.\n",
      "  warnings.warn(\"Barnes weighting function is deprecated.\"\n",
      "/Users/adkchappy/anaconda3/envs/pyart_env/lib/python3.8/site-packages/pyart/filters/gatefilter.py:460: DeprecationWarning: `np.bool` is a deprecated alias for the builtin `bool`. To silence this warning, use `bool` by itself. Doing this will not modify any behavior and is safe. If you specifically wanted the numpy scalar type, use `np.bool_` here.\n",
      "Deprecated in NumPy 1.20; for more details and guidance: https://numpy.org/devdocs/release/1.20.0-notes.html#deprecations\n",
      "  self._gate_excluded = np.zeros(shape, dtype=np.bool)\n"
     ]
    },
    {
     "name": "stdout",
     "output_type": "stream",
     "text": [
      "Saved grid to KIND_SDUS53_N0RIND_201105011456_grid.nc\n"
     ]
    },
    {
     "name": "stderr",
     "output_type": "stream",
     "text": [
      "/Users/adkchappy/anaconda3/envs/pyart_env/lib/python3.8/site-packages/pyart/map/gates_to_grid.py:160: DeprecationWarning: Barnes weighting function is deprecated. Please use Barnes 2 to be consistent with Pauley and Wu 1990.\n",
      "  warnings.warn(\"Barnes weighting function is deprecated.\"\n",
      "/Users/adkchappy/anaconda3/envs/pyart_env/lib/python3.8/site-packages/pyart/filters/gatefilter.py:460: DeprecationWarning: `np.bool` is a deprecated alias for the builtin `bool`. To silence this warning, use `bool` by itself. Doing this will not modify any behavior and is safe. If you specifically wanted the numpy scalar type, use `np.bool_` here.\n",
      "Deprecated in NumPy 1.20; for more details and guidance: https://numpy.org/devdocs/release/1.20.0-notes.html#deprecations\n",
      "  self._gate_excluded = np.zeros(shape, dtype=np.bool)\n"
     ]
    },
    {
     "name": "stdout",
     "output_type": "stream",
     "text": [
      "Saved grid to KIND_SDUS53_N0RIND_201105011004_grid.nc\n"
     ]
    },
    {
     "name": "stderr",
     "output_type": "stream",
     "text": [
      "/Users/adkchappy/anaconda3/envs/pyart_env/lib/python3.8/site-packages/pyart/map/gates_to_grid.py:160: DeprecationWarning: Barnes weighting function is deprecated. Please use Barnes 2 to be consistent with Pauley and Wu 1990.\n",
      "  warnings.warn(\"Barnes weighting function is deprecated.\"\n",
      "/Users/adkchappy/anaconda3/envs/pyart_env/lib/python3.8/site-packages/pyart/filters/gatefilter.py:460: DeprecationWarning: `np.bool` is a deprecated alias for the builtin `bool`. To silence this warning, use `bool` by itself. Doing this will not modify any behavior and is safe. If you specifically wanted the numpy scalar type, use `np.bool_` here.\n",
      "Deprecated in NumPy 1.20; for more details and guidance: https://numpy.org/devdocs/release/1.20.0-notes.html#deprecations\n",
      "  self._gate_excluded = np.zeros(shape, dtype=np.bool)\n"
     ]
    },
    {
     "name": "stdout",
     "output_type": "stream",
     "text": [
      "Saved grid to KIND_SDUS53_N0RIND_201105011838_grid.nc\n"
     ]
    },
    {
     "name": "stderr",
     "output_type": "stream",
     "text": [
      "/Users/adkchappy/anaconda3/envs/pyart_env/lib/python3.8/site-packages/pyart/map/gates_to_grid.py:160: DeprecationWarning: Barnes weighting function is deprecated. Please use Barnes 2 to be consistent with Pauley and Wu 1990.\n",
      "  warnings.warn(\"Barnes weighting function is deprecated.\"\n",
      "/Users/adkchappy/anaconda3/envs/pyart_env/lib/python3.8/site-packages/pyart/filters/gatefilter.py:460: DeprecationWarning: `np.bool` is a deprecated alias for the builtin `bool`. To silence this warning, use `bool` by itself. Doing this will not modify any behavior and is safe. If you specifically wanted the numpy scalar type, use `np.bool_` here.\n",
      "Deprecated in NumPy 1.20; for more details and guidance: https://numpy.org/devdocs/release/1.20.0-notes.html#deprecations\n",
      "  self._gate_excluded = np.zeros(shape, dtype=np.bool)\n"
     ]
    },
    {
     "name": "stdout",
     "output_type": "stream",
     "text": [
      "Saved grid to KIND_SDUS53_N0RIND_201105011236_grid.nc\n"
     ]
    },
    {
     "name": "stderr",
     "output_type": "stream",
     "text": [
      "/Users/adkchappy/anaconda3/envs/pyart_env/lib/python3.8/site-packages/pyart/map/gates_to_grid.py:160: DeprecationWarning: Barnes weighting function is deprecated. Please use Barnes 2 to be consistent with Pauley and Wu 1990.\n",
      "  warnings.warn(\"Barnes weighting function is deprecated.\"\n",
      "/Users/adkchappy/anaconda3/envs/pyart_env/lib/python3.8/site-packages/pyart/filters/gatefilter.py:460: DeprecationWarning: `np.bool` is a deprecated alias for the builtin `bool`. To silence this warning, use `bool` by itself. Doing this will not modify any behavior and is safe. If you specifically wanted the numpy scalar type, use `np.bool_` here.\n",
      "Deprecated in NumPy 1.20; for more details and guidance: https://numpy.org/devdocs/release/1.20.0-notes.html#deprecations\n",
      "  self._gate_excluded = np.zeros(shape, dtype=np.bool)\n"
     ]
    },
    {
     "name": "stdout",
     "output_type": "stream",
     "text": [
      "Saved grid to KIND_SDUS53_N0RIND_201105011652_grid.nc\n"
     ]
    },
    {
     "name": "stderr",
     "output_type": "stream",
     "text": [
      "/Users/adkchappy/anaconda3/envs/pyart_env/lib/python3.8/site-packages/pyart/map/gates_to_grid.py:160: DeprecationWarning: Barnes weighting function is deprecated. Please use Barnes 2 to be consistent with Pauley and Wu 1990.\n",
      "  warnings.warn(\"Barnes weighting function is deprecated.\"\n",
      "/Users/adkchappy/anaconda3/envs/pyart_env/lib/python3.8/site-packages/pyart/filters/gatefilter.py:460: DeprecationWarning: `np.bool` is a deprecated alias for the builtin `bool`. To silence this warning, use `bool` by itself. Doing this will not modify any behavior and is safe. If you specifically wanted the numpy scalar type, use `np.bool_` here.\n",
      "Deprecated in NumPy 1.20; for more details and guidance: https://numpy.org/devdocs/release/1.20.0-notes.html#deprecations\n",
      "  self._gate_excluded = np.zeros(shape, dtype=np.bool)\n"
     ]
    },
    {
     "name": "stdout",
     "output_type": "stream",
     "text": [
      "Saved grid to KIND_SDUS53_N0RIND_201105010919_grid.nc\n"
     ]
    },
    {
     "name": "stderr",
     "output_type": "stream",
     "text": [
      "/Users/adkchappy/anaconda3/envs/pyart_env/lib/python3.8/site-packages/pyart/map/gates_to_grid.py:160: DeprecationWarning: Barnes weighting function is deprecated. Please use Barnes 2 to be consistent with Pauley and Wu 1990.\n",
      "  warnings.warn(\"Barnes weighting function is deprecated.\"\n",
      "/Users/adkchappy/anaconda3/envs/pyart_env/lib/python3.8/site-packages/pyart/filters/gatefilter.py:460: DeprecationWarning: `np.bool` is a deprecated alias for the builtin `bool`. To silence this warning, use `bool` by itself. Doing this will not modify any behavior and is safe. If you specifically wanted the numpy scalar type, use `np.bool_` here.\n",
      "Deprecated in NumPy 1.20; for more details and guidance: https://numpy.org/devdocs/release/1.20.0-notes.html#deprecations\n",
      "  self._gate_excluded = np.zeros(shape, dtype=np.bool)\n"
     ]
    },
    {
     "name": "stdout",
     "output_type": "stream",
     "text": [
      "Saved grid to KIND_SDUS53_N0RIND_201105012024_grid.nc\n"
     ]
    },
    {
     "name": "stderr",
     "output_type": "stream",
     "text": [
      "/Users/adkchappy/anaconda3/envs/pyart_env/lib/python3.8/site-packages/pyart/map/gates_to_grid.py:160: DeprecationWarning: Barnes weighting function is deprecated. Please use Barnes 2 to be consistent with Pauley and Wu 1990.\n",
      "  warnings.warn(\"Barnes weighting function is deprecated.\"\n",
      "/Users/adkchappy/anaconda3/envs/pyart_env/lib/python3.8/site-packages/pyart/filters/gatefilter.py:460: DeprecationWarning: `np.bool` is a deprecated alias for the builtin `bool`. To silence this warning, use `bool` by itself. Doing this will not modify any behavior and is safe. If you specifically wanted the numpy scalar type, use `np.bool_` here.\n",
      "Deprecated in NumPy 1.20; for more details and guidance: https://numpy.org/devdocs/release/1.20.0-notes.html#deprecations\n",
      "  self._gate_excluded = np.zeros(shape, dtype=np.bool)\n"
     ]
    },
    {
     "name": "stdout",
     "output_type": "stream",
     "text": [
      "Saved grid to KIND_SDUS53_N0RIND_201105011800_grid.nc\n"
     ]
    },
    {
     "name": "stderr",
     "output_type": "stream",
     "text": [
      "/Users/adkchappy/anaconda3/envs/pyart_env/lib/python3.8/site-packages/pyart/map/gates_to_grid.py:160: DeprecationWarning: Barnes weighting function is deprecated. Please use Barnes 2 to be consistent with Pauley and Wu 1990.\n",
      "  warnings.warn(\"Barnes weighting function is deprecated.\"\n",
      "/Users/adkchappy/anaconda3/envs/pyart_env/lib/python3.8/site-packages/pyart/filters/gatefilter.py:460: DeprecationWarning: `np.bool` is a deprecated alias for the builtin `bool`. To silence this warning, use `bool` by itself. Doing this will not modify any behavior and is safe. If you specifically wanted the numpy scalar type, use `np.bool_` here.\n",
      "Deprecated in NumPy 1.20; for more details and guidance: https://numpy.org/devdocs/release/1.20.0-notes.html#deprecations\n",
      "  self._gate_excluded = np.zeros(shape, dtype=np.bool)\n"
     ]
    },
    {
     "name": "stdout",
     "output_type": "stream",
     "text": [
      "Saved grid to KIND_SDUS53_N0RIND_201105011057_grid.nc\n"
     ]
    },
    {
     "name": "stderr",
     "output_type": "stream",
     "text": [
      "/Users/adkchappy/anaconda3/envs/pyart_env/lib/python3.8/site-packages/pyart/map/gates_to_grid.py:160: DeprecationWarning: Barnes weighting function is deprecated. Please use Barnes 2 to be consistent with Pauley and Wu 1990.\n",
      "  warnings.warn(\"Barnes weighting function is deprecated.\"\n",
      "/Users/adkchappy/anaconda3/envs/pyart_env/lib/python3.8/site-packages/pyart/filters/gatefilter.py:460: DeprecationWarning: `np.bool` is a deprecated alias for the builtin `bool`. To silence this warning, use `bool` by itself. Doing this will not modify any behavior and is safe. If you specifically wanted the numpy scalar type, use `np.bool_` here.\n",
      "Deprecated in NumPy 1.20; for more details and guidance: https://numpy.org/devdocs/release/1.20.0-notes.html#deprecations\n",
      "  self._gate_excluded = np.zeros(shape, dtype=np.bool)\n"
     ]
    },
    {
     "name": "stdout",
     "output_type": "stream",
     "text": [
      "Saved grid to KIND_SDUS53_N0RIND_201105012245_grid.nc\n"
     ]
    },
    {
     "name": "stderr",
     "output_type": "stream",
     "text": [
      "/Users/adkchappy/anaconda3/envs/pyart_env/lib/python3.8/site-packages/pyart/map/gates_to_grid.py:160: DeprecationWarning: Barnes weighting function is deprecated. Please use Barnes 2 to be consistent with Pauley and Wu 1990.\n",
      "  warnings.warn(\"Barnes weighting function is deprecated.\"\n",
      "/Users/adkchappy/anaconda3/envs/pyart_env/lib/python3.8/site-packages/pyart/filters/gatefilter.py:460: DeprecationWarning: `np.bool` is a deprecated alias for the builtin `bool`. To silence this warning, use `bool` by itself. Doing this will not modify any behavior and is safe. If you specifically wanted the numpy scalar type, use `np.bool_` here.\n",
      "Deprecated in NumPy 1.20; for more details and guidance: https://numpy.org/devdocs/release/1.20.0-notes.html#deprecations\n",
      "  self._gate_excluded = np.zeros(shape, dtype=np.bool)\n"
     ]
    },
    {
     "name": "stdout",
     "output_type": "stream",
     "text": [
      "Saved grid to KIND_SDUS53_N0RIND_201105010720_grid.nc\n"
     ]
    },
    {
     "name": "stderr",
     "output_type": "stream",
     "text": [
      "/Users/adkchappy/anaconda3/envs/pyart_env/lib/python3.8/site-packages/pyart/map/gates_to_grid.py:160: DeprecationWarning: Barnes weighting function is deprecated. Please use Barnes 2 to be consistent with Pauley and Wu 1990.\n",
      "  warnings.warn(\"Barnes weighting function is deprecated.\"\n",
      "/Users/adkchappy/anaconda3/envs/pyart_env/lib/python3.8/site-packages/pyart/filters/gatefilter.py:460: DeprecationWarning: `np.bool` is a deprecated alias for the builtin `bool`. To silence this warning, use `bool` by itself. Doing this will not modify any behavior and is safe. If you specifically wanted the numpy scalar type, use `np.bool_` here.\n",
      "Deprecated in NumPy 1.20; for more details and guidance: https://numpy.org/devdocs/release/1.20.0-notes.html#deprecations\n",
      "  self._gate_excluded = np.zeros(shape, dtype=np.bool)\n"
     ]
    },
    {
     "name": "stdout",
     "output_type": "stream",
     "text": [
      "Saved grid to KIND_SDUS53_N0RIND_201105011050_grid.nc\n"
     ]
    },
    {
     "name": "stderr",
     "output_type": "stream",
     "text": [
      "/Users/adkchappy/anaconda3/envs/pyart_env/lib/python3.8/site-packages/pyart/map/gates_to_grid.py:160: DeprecationWarning: Barnes weighting function is deprecated. Please use Barnes 2 to be consistent with Pauley and Wu 1990.\n",
      "  warnings.warn(\"Barnes weighting function is deprecated.\"\n",
      "/Users/adkchappy/anaconda3/envs/pyart_env/lib/python3.8/site-packages/pyart/filters/gatefilter.py:460: DeprecationWarning: `np.bool` is a deprecated alias for the builtin `bool`. To silence this warning, use `bool` by itself. Doing this will not modify any behavior and is safe. If you specifically wanted the numpy scalar type, use `np.bool_` here.\n",
      "Deprecated in NumPy 1.20; for more details and guidance: https://numpy.org/devdocs/release/1.20.0-notes.html#deprecations\n",
      "  self._gate_excluded = np.zeros(shape, dtype=np.bool)\n"
     ]
    },
    {
     "name": "stdout",
     "output_type": "stream",
     "text": [
      "Saved grid to KIND_SDUS53_N0RIND_201105010729_grid.nc\n"
     ]
    },
    {
     "name": "stderr",
     "output_type": "stream",
     "text": [
      "/Users/adkchappy/anaconda3/envs/pyart_env/lib/python3.8/site-packages/pyart/map/gates_to_grid.py:160: DeprecationWarning: Barnes weighting function is deprecated. Please use Barnes 2 to be consistent with Pauley and Wu 1990.\n",
      "  warnings.warn(\"Barnes weighting function is deprecated.\"\n",
      "/Users/adkchappy/anaconda3/envs/pyart_env/lib/python3.8/site-packages/pyart/filters/gatefilter.py:460: DeprecationWarning: `np.bool` is a deprecated alias for the builtin `bool`. To silence this warning, use `bool` by itself. Doing this will not modify any behavior and is safe. If you specifically wanted the numpy scalar type, use `np.bool_` here.\n",
      "Deprecated in NumPy 1.20; for more details and guidance: https://numpy.org/devdocs/release/1.20.0-notes.html#deprecations\n",
      "  self._gate_excluded = np.zeros(shape, dtype=np.bool)\n"
     ]
    },
    {
     "name": "stdout",
     "output_type": "stream",
     "text": [
      "Saved grid to KIND_SDUS53_N0RIND_201105011254_grid.nc\n"
     ]
    },
    {
     "name": "stderr",
     "output_type": "stream",
     "text": [
      "/Users/adkchappy/anaconda3/envs/pyart_env/lib/python3.8/site-packages/pyart/map/gates_to_grid.py:160: DeprecationWarning: Barnes weighting function is deprecated. Please use Barnes 2 to be consistent with Pauley and Wu 1990.\n",
      "  warnings.warn(\"Barnes weighting function is deprecated.\"\n",
      "/Users/adkchappy/anaconda3/envs/pyart_env/lib/python3.8/site-packages/pyart/filters/gatefilter.py:460: DeprecationWarning: `np.bool` is a deprecated alias for the builtin `bool`. To silence this warning, use `bool` by itself. Doing this will not modify any behavior and is safe. If you specifically wanted the numpy scalar type, use `np.bool_` here.\n",
      "Deprecated in NumPy 1.20; for more details and guidance: https://numpy.org/devdocs/release/1.20.0-notes.html#deprecations\n",
      "  self._gate_excluded = np.zeros(shape, dtype=np.bool)\n"
     ]
    },
    {
     "name": "stdout",
     "output_type": "stream",
     "text": [
      "Saved grid to KIND_SDUS53_N0RIND_201105011208_grid.nc\n"
     ]
    },
    {
     "name": "stderr",
     "output_type": "stream",
     "text": [
      "/Users/adkchappy/anaconda3/envs/pyart_env/lib/python3.8/site-packages/pyart/map/gates_to_grid.py:160: DeprecationWarning: Barnes weighting function is deprecated. Please use Barnes 2 to be consistent with Pauley and Wu 1990.\n",
      "  warnings.warn(\"Barnes weighting function is deprecated.\"\n",
      "/Users/adkchappy/anaconda3/envs/pyart_env/lib/python3.8/site-packages/pyart/filters/gatefilter.py:460: DeprecationWarning: `np.bool` is a deprecated alias for the builtin `bool`. To silence this warning, use `bool` by itself. Doing this will not modify any behavior and is safe. If you specifically wanted the numpy scalar type, use `np.bool_` here.\n",
      "Deprecated in NumPy 1.20; for more details and guidance: https://numpy.org/devdocs/release/1.20.0-notes.html#deprecations\n",
      "  self._gate_excluded = np.zeros(shape, dtype=np.bool)\n"
     ]
    },
    {
     "name": "stdout",
     "output_type": "stream",
     "text": [
      "Saved grid to KIND_SDUS53_N0RIND_201105011201_grid.nc\n"
     ]
    },
    {
     "name": "stderr",
     "output_type": "stream",
     "text": [
      "/Users/adkchappy/anaconda3/envs/pyart_env/lib/python3.8/site-packages/pyart/map/gates_to_grid.py:160: DeprecationWarning: Barnes weighting function is deprecated. Please use Barnes 2 to be consistent with Pauley and Wu 1990.\n",
      "  warnings.warn(\"Barnes weighting function is deprecated.\"\n",
      "/Users/adkchappy/anaconda3/envs/pyart_env/lib/python3.8/site-packages/pyart/filters/gatefilter.py:460: DeprecationWarning: `np.bool` is a deprecated alias for the builtin `bool`. To silence this warning, use `bool` by itself. Doing this will not modify any behavior and is safe. If you specifically wanted the numpy scalar type, use `np.bool_` here.\n",
      "Deprecated in NumPy 1.20; for more details and guidance: https://numpy.org/devdocs/release/1.20.0-notes.html#deprecations\n",
      "  self._gate_excluded = np.zeros(shape, dtype=np.bool)\n"
     ]
    },
    {
     "name": "stdout",
     "output_type": "stream",
     "text": [
      "Saved grid to KIND_SDUS53_N0RIND_201105011033_grid.nc\n"
     ]
    },
    {
     "name": "stderr",
     "output_type": "stream",
     "text": [
      "/Users/adkchappy/anaconda3/envs/pyart_env/lib/python3.8/site-packages/pyart/map/gates_to_grid.py:160: DeprecationWarning: Barnes weighting function is deprecated. Please use Barnes 2 to be consistent with Pauley and Wu 1990.\n",
      "  warnings.warn(\"Barnes weighting function is deprecated.\"\n",
      "/Users/adkchappy/anaconda3/envs/pyart_env/lib/python3.8/site-packages/pyart/filters/gatefilter.py:460: DeprecationWarning: `np.bool` is a deprecated alias for the builtin `bool`. To silence this warning, use `bool` by itself. Doing this will not modify any behavior and is safe. If you specifically wanted the numpy scalar type, use `np.bool_` here.\n",
      "Deprecated in NumPy 1.20; for more details and guidance: https://numpy.org/devdocs/release/1.20.0-notes.html#deprecations\n",
      "  self._gate_excluded = np.zeros(shape, dtype=np.bool)\n"
     ]
    },
    {
     "name": "stdout",
     "output_type": "stream",
     "text": [
      "Saved grid to KIND_SDUS53_N0RIND_201105010743_grid.nc\n"
     ]
    },
    {
     "name": "stderr",
     "output_type": "stream",
     "text": [
      "/Users/adkchappy/anaconda3/envs/pyart_env/lib/python3.8/site-packages/pyart/map/gates_to_grid.py:160: DeprecationWarning: Barnes weighting function is deprecated. Please use Barnes 2 to be consistent with Pauley and Wu 1990.\n",
      "  warnings.warn(\"Barnes weighting function is deprecated.\"\n",
      "/Users/adkchappy/anaconda3/envs/pyart_env/lib/python3.8/site-packages/pyart/filters/gatefilter.py:460: DeprecationWarning: `np.bool` is a deprecated alias for the builtin `bool`. To silence this warning, use `bool` by itself. Doing this will not modify any behavior and is safe. If you specifically wanted the numpy scalar type, use `np.bool_` here.\n",
      "Deprecated in NumPy 1.20; for more details and guidance: https://numpy.org/devdocs/release/1.20.0-notes.html#deprecations\n",
      "  self._gate_excluded = np.zeros(shape, dtype=np.bool)\n"
     ]
    },
    {
     "name": "stdout",
     "output_type": "stream",
     "text": [
      "Saved grid to KIND_SDUS53_N0RIND_201105010710_grid.nc\n"
     ]
    },
    {
     "name": "stderr",
     "output_type": "stream",
     "text": [
      "/Users/adkchappy/anaconda3/envs/pyart_env/lib/python3.8/site-packages/pyart/map/gates_to_grid.py:160: DeprecationWarning: Barnes weighting function is deprecated. Please use Barnes 2 to be consistent with Pauley and Wu 1990.\n",
      "  warnings.warn(\"Barnes weighting function is deprecated.\"\n",
      "/Users/adkchappy/anaconda3/envs/pyart_env/lib/python3.8/site-packages/pyart/filters/gatefilter.py:460: DeprecationWarning: `np.bool` is a deprecated alias for the builtin `bool`. To silence this warning, use `bool` by itself. Doing this will not modify any behavior and is safe. If you specifically wanted the numpy scalar type, use `np.bool_` here.\n",
      "Deprecated in NumPy 1.20; for more details and guidance: https://numpy.org/devdocs/release/1.20.0-notes.html#deprecations\n",
      "  self._gate_excluded = np.zeros(shape, dtype=np.bool)\n"
     ]
    },
    {
     "name": "stdout",
     "output_type": "stream",
     "text": [
      "Saved grid to KIND_SDUS53_N0RIND_201105010942_grid.nc\n"
     ]
    },
    {
     "name": "stderr",
     "output_type": "stream",
     "text": [
      "/Users/adkchappy/anaconda3/envs/pyart_env/lib/python3.8/site-packages/pyart/map/gates_to_grid.py:160: DeprecationWarning: Barnes weighting function is deprecated. Please use Barnes 2 to be consistent with Pauley and Wu 1990.\n",
      "  warnings.warn(\"Barnes weighting function is deprecated.\"\n",
      "/Users/adkchappy/anaconda3/envs/pyart_env/lib/python3.8/site-packages/pyart/filters/gatefilter.py:460: DeprecationWarning: `np.bool` is a deprecated alias for the builtin `bool`. To silence this warning, use `bool` by itself. Doing this will not modify any behavior and is safe. If you specifically wanted the numpy scalar type, use `np.bool_` here.\n",
      "Deprecated in NumPy 1.20; for more details and guidance: https://numpy.org/devdocs/release/1.20.0-notes.html#deprecations\n",
      "  self._gate_excluded = np.zeros(shape, dtype=np.bool)\n"
     ]
    },
    {
     "name": "stdout",
     "output_type": "stream",
     "text": [
      "Saved grid to KIND_SDUS53_N0RIND_201105010525_grid.nc\n"
     ]
    },
    {
     "name": "stderr",
     "output_type": "stream",
     "text": [
      "/Users/adkchappy/anaconda3/envs/pyart_env/lib/python3.8/site-packages/pyart/map/gates_to_grid.py:160: DeprecationWarning: Barnes weighting function is deprecated. Please use Barnes 2 to be consistent with Pauley and Wu 1990.\n",
      "  warnings.warn(\"Barnes weighting function is deprecated.\"\n",
      "/Users/adkchappy/anaconda3/envs/pyart_env/lib/python3.8/site-packages/pyart/filters/gatefilter.py:460: DeprecationWarning: `np.bool` is a deprecated alias for the builtin `bool`. To silence this warning, use `bool` by itself. Doing this will not modify any behavior and is safe. If you specifically wanted the numpy scalar type, use `np.bool_` here.\n",
      "Deprecated in NumPy 1.20; for more details and guidance: https://numpy.org/devdocs/release/1.20.0-notes.html#deprecations\n",
      "  self._gate_excluded = np.zeros(shape, dtype=np.bool)\n"
     ]
    },
    {
     "name": "stdout",
     "output_type": "stream",
     "text": [
      "Saved grid to KIND_SDUS53_N0RIND_201105010513_grid.nc\n"
     ]
    },
    {
     "name": "stderr",
     "output_type": "stream",
     "text": [
      "/Users/adkchappy/anaconda3/envs/pyart_env/lib/python3.8/site-packages/pyart/map/gates_to_grid.py:160: DeprecationWarning: Barnes weighting function is deprecated. Please use Barnes 2 to be consistent with Pauley and Wu 1990.\n",
      "  warnings.warn(\"Barnes weighting function is deprecated.\"\n",
      "/Users/adkchappy/anaconda3/envs/pyart_env/lib/python3.8/site-packages/pyart/filters/gatefilter.py:460: DeprecationWarning: `np.bool` is a deprecated alias for the builtin `bool`. To silence this warning, use `bool` by itself. Doing this will not modify any behavior and is safe. If you specifically wanted the numpy scalar type, use `np.bool_` here.\n",
      "Deprecated in NumPy 1.20; for more details and guidance: https://numpy.org/devdocs/release/1.20.0-notes.html#deprecations\n",
      "  self._gate_excluded = np.zeros(shape, dtype=np.bool)\n"
     ]
    },
    {
     "name": "stdout",
     "output_type": "stream",
     "text": [
      "Saved grid to KIND_SDUS53_N0RIND_201105010342_grid.nc\n"
     ]
    },
    {
     "name": "stderr",
     "output_type": "stream",
     "text": [
      "/Users/adkchappy/anaconda3/envs/pyart_env/lib/python3.8/site-packages/pyart/map/gates_to_grid.py:160: DeprecationWarning: Barnes weighting function is deprecated. Please use Barnes 2 to be consistent with Pauley and Wu 1990.\n",
      "  warnings.warn(\"Barnes weighting function is deprecated.\"\n",
      "/Users/adkchappy/anaconda3/envs/pyart_env/lib/python3.8/site-packages/pyart/filters/gatefilter.py:460: DeprecationWarning: `np.bool` is a deprecated alias for the builtin `bool`. To silence this warning, use `bool` by itself. Doing this will not modify any behavior and is safe. If you specifically wanted the numpy scalar type, use `np.bool_` here.\n",
      "Deprecated in NumPy 1.20; for more details and guidance: https://numpy.org/devdocs/release/1.20.0-notes.html#deprecations\n",
      "  self._gate_excluded = np.zeros(shape, dtype=np.bool)\n"
     ]
    },
    {
     "name": "stdout",
     "output_type": "stream",
     "text": [
      "Saved grid to KIND_SDUS53_N0RIND_201105012103_grid.nc\n"
     ]
    },
    {
     "name": "stderr",
     "output_type": "stream",
     "text": [
      "/Users/adkchappy/anaconda3/envs/pyart_env/lib/python3.8/site-packages/pyart/map/gates_to_grid.py:160: DeprecationWarning: Barnes weighting function is deprecated. Please use Barnes 2 to be consistent with Pauley and Wu 1990.\n",
      "  warnings.warn(\"Barnes weighting function is deprecated.\"\n",
      "/Users/adkchappy/anaconda3/envs/pyart_env/lib/python3.8/site-packages/pyart/filters/gatefilter.py:460: DeprecationWarning: `np.bool` is a deprecated alias for the builtin `bool`. To silence this warning, use `bool` by itself. Doing this will not modify any behavior and is safe. If you specifically wanted the numpy scalar type, use `np.bool_` here.\n",
      "Deprecated in NumPy 1.20; for more details and guidance: https://numpy.org/devdocs/release/1.20.0-notes.html#deprecations\n",
      "  self._gate_excluded = np.zeros(shape, dtype=np.bool)\n"
     ]
    },
    {
     "name": "stdout",
     "output_type": "stream",
     "text": [
      "Saved grid to KIND_SDUS53_N0RIND_201105010002_grid.nc\n"
     ]
    },
    {
     "name": "stderr",
     "output_type": "stream",
     "text": [
      "/Users/adkchappy/anaconda3/envs/pyart_env/lib/python3.8/site-packages/pyart/map/gates_to_grid.py:160: DeprecationWarning: Barnes weighting function is deprecated. Please use Barnes 2 to be consistent with Pauley and Wu 1990.\n",
      "  warnings.warn(\"Barnes weighting function is deprecated.\"\n",
      "/Users/adkchappy/anaconda3/envs/pyart_env/lib/python3.8/site-packages/pyart/filters/gatefilter.py:460: DeprecationWarning: `np.bool` is a deprecated alias for the builtin `bool`. To silence this warning, use `bool` by itself. Doing this will not modify any behavior and is safe. If you specifically wanted the numpy scalar type, use `np.bool_` here.\n",
      "Deprecated in NumPy 1.20; for more details and guidance: https://numpy.org/devdocs/release/1.20.0-notes.html#deprecations\n",
      "  self._gate_excluded = np.zeros(shape, dtype=np.bool)\n"
     ]
    },
    {
     "name": "stdout",
     "output_type": "stream",
     "text": [
      "Saved grid to KIND_SDUS53_N0RIND_201105011329_grid.nc\n"
     ]
    },
    {
     "name": "stderr",
     "output_type": "stream",
     "text": [
      "/Users/adkchappy/anaconda3/envs/pyart_env/lib/python3.8/site-packages/pyart/map/gates_to_grid.py:160: DeprecationWarning: Barnes weighting function is deprecated. Please use Barnes 2 to be consistent with Pauley and Wu 1990.\n",
      "  warnings.warn(\"Barnes weighting function is deprecated.\"\n",
      "/Users/adkchappy/anaconda3/envs/pyart_env/lib/python3.8/site-packages/pyart/filters/gatefilter.py:460: DeprecationWarning: `np.bool` is a deprecated alias for the builtin `bool`. To silence this warning, use `bool` by itself. Doing this will not modify any behavior and is safe. If you specifically wanted the numpy scalar type, use `np.bool_` here.\n",
      "Deprecated in NumPy 1.20; for more details and guidance: https://numpy.org/devdocs/release/1.20.0-notes.html#deprecations\n",
      "  self._gate_excluded = np.zeros(shape, dtype=np.bool)\n"
     ]
    },
    {
     "name": "stdout",
     "output_type": "stream",
     "text": [
      "Saved grid to KIND_SDUS53_N0RIND_201105010801_grid.nc\n"
     ]
    },
    {
     "name": "stderr",
     "output_type": "stream",
     "text": [
      "/Users/adkchappy/anaconda3/envs/pyart_env/lib/python3.8/site-packages/pyart/map/gates_to_grid.py:160: DeprecationWarning: Barnes weighting function is deprecated. Please use Barnes 2 to be consistent with Pauley and Wu 1990.\n",
      "  warnings.warn(\"Barnes weighting function is deprecated.\"\n",
      "/Users/adkchappy/anaconda3/envs/pyart_env/lib/python3.8/site-packages/pyart/filters/gatefilter.py:460: DeprecationWarning: `np.bool` is a deprecated alias for the builtin `bool`. To silence this warning, use `bool` by itself. Doing this will not modify any behavior and is safe. If you specifically wanted the numpy scalar type, use `np.bool_` here.\n",
      "Deprecated in NumPy 1.20; for more details and guidance: https://numpy.org/devdocs/release/1.20.0-notes.html#deprecations\n",
      "  self._gate_excluded = np.zeros(shape, dtype=np.bool)\n"
     ]
    },
    {
     "name": "stdout",
     "output_type": "stream",
     "text": [
      "Saved grid to KIND_SDUS53_N0RIND_201105011311_grid.nc\n"
     ]
    },
    {
     "name": "stderr",
     "output_type": "stream",
     "text": [
      "/Users/adkchappy/anaconda3/envs/pyart_env/lib/python3.8/site-packages/pyart/map/gates_to_grid.py:160: DeprecationWarning: Barnes weighting function is deprecated. Please use Barnes 2 to be consistent with Pauley and Wu 1990.\n",
      "  warnings.warn(\"Barnes weighting function is deprecated.\"\n",
      "/Users/adkchappy/anaconda3/envs/pyart_env/lib/python3.8/site-packages/pyart/filters/gatefilter.py:460: DeprecationWarning: `np.bool` is a deprecated alias for the builtin `bool`. To silence this warning, use `bool` by itself. Doing this will not modify any behavior and is safe. If you specifically wanted the numpy scalar type, use `np.bool_` here.\n",
      "Deprecated in NumPy 1.20; for more details and guidance: https://numpy.org/devdocs/release/1.20.0-notes.html#deprecations\n",
      "  self._gate_excluded = np.zeros(shape, dtype=np.bool)\n"
     ]
    },
    {
     "name": "stdout",
     "output_type": "stream",
     "text": [
      "Saved grid to KIND_SDUS53_N0RIND_201105010806_grid.nc\n"
     ]
    },
    {
     "name": "stderr",
     "output_type": "stream",
     "text": [
      "/Users/adkchappy/anaconda3/envs/pyart_env/lib/python3.8/site-packages/pyart/map/gates_to_grid.py:160: DeprecationWarning: Barnes weighting function is deprecated. Please use Barnes 2 to be consistent with Pauley and Wu 1990.\n",
      "  warnings.warn(\"Barnes weighting function is deprecated.\"\n",
      "/Users/adkchappy/anaconda3/envs/pyart_env/lib/python3.8/site-packages/pyart/filters/gatefilter.py:460: DeprecationWarning: `np.bool` is a deprecated alias for the builtin `bool`. To silence this warning, use `bool` by itself. Doing this will not modify any behavior and is safe. If you specifically wanted the numpy scalar type, use `np.bool_` here.\n",
      "Deprecated in NumPy 1.20; for more details and guidance: https://numpy.org/devdocs/release/1.20.0-notes.html#deprecations\n",
      "  self._gate_excluded = np.zeros(shape, dtype=np.bool)\n"
     ]
    },
    {
     "name": "stdout",
     "output_type": "stream",
     "text": [
      "Saved grid to KIND_SDUS53_N0RIND_201105011115_grid.nc\n"
     ]
    },
    {
     "name": "stderr",
     "output_type": "stream",
     "text": [
      "/Users/adkchappy/anaconda3/envs/pyart_env/lib/python3.8/site-packages/pyart/map/gates_to_grid.py:160: DeprecationWarning: Barnes weighting function is deprecated. Please use Barnes 2 to be consistent with Pauley and Wu 1990.\n",
      "  warnings.warn(\"Barnes weighting function is deprecated.\"\n",
      "/Users/adkchappy/anaconda3/envs/pyart_env/lib/python3.8/site-packages/pyart/filters/gatefilter.py:460: DeprecationWarning: `np.bool` is a deprecated alias for the builtin `bool`. To silence this warning, use `bool` by itself. Doing this will not modify any behavior and is safe. If you specifically wanted the numpy scalar type, use `np.bool_` here.\n",
      "Deprecated in NumPy 1.20; for more details and guidance: https://numpy.org/devdocs/release/1.20.0-notes.html#deprecations\n",
      "  self._gate_excluded = np.zeros(shape, dtype=np.bool)\n"
     ]
    },
    {
     "name": "stdout",
     "output_type": "stream",
     "text": [
      "Saved grid to KIND_SDUS53_N0RIND_201105010830_grid.nc\n"
     ]
    },
    {
     "name": "stderr",
     "output_type": "stream",
     "text": [
      "/Users/adkchappy/anaconda3/envs/pyart_env/lib/python3.8/site-packages/pyart/map/gates_to_grid.py:160: DeprecationWarning: Barnes weighting function is deprecated. Please use Barnes 2 to be consistent with Pauley and Wu 1990.\n",
      "  warnings.warn(\"Barnes weighting function is deprecated.\"\n",
      "/Users/adkchappy/anaconda3/envs/pyart_env/lib/python3.8/site-packages/pyart/filters/gatefilter.py:460: DeprecationWarning: `np.bool` is a deprecated alias for the builtin `bool`. To silence this warning, use `bool` by itself. Doing this will not modify any behavior and is safe. If you specifically wanted the numpy scalar type, use `np.bool_` here.\n",
      "Deprecated in NumPy 1.20; for more details and guidance: https://numpy.org/devdocs/release/1.20.0-notes.html#deprecations\n",
      "  self._gate_excluded = np.zeros(shape, dtype=np.bool)\n"
     ]
    },
    {
     "name": "stdout",
     "output_type": "stream",
     "text": [
      "Saved grid to KIND_SDUS53_N0RIND_201105011112_grid.nc\n"
     ]
    },
    {
     "name": "stderr",
     "output_type": "stream",
     "text": [
      "/Users/adkchappy/anaconda3/envs/pyart_env/lib/python3.8/site-packages/pyart/map/gates_to_grid.py:160: DeprecationWarning: Barnes weighting function is deprecated. Please use Barnes 2 to be consistent with Pauley and Wu 1990.\n",
      "  warnings.warn(\"Barnes weighting function is deprecated.\"\n",
      "/Users/adkchappy/anaconda3/envs/pyart_env/lib/python3.8/site-packages/pyart/filters/gatefilter.py:460: DeprecationWarning: `np.bool` is a deprecated alias for the builtin `bool`. To silence this warning, use `bool` by itself. Doing this will not modify any behavior and is safe. If you specifically wanted the numpy scalar type, use `np.bool_` here.\n",
      "Deprecated in NumPy 1.20; for more details and guidance: https://numpy.org/devdocs/release/1.20.0-notes.html#deprecations\n",
      "  self._gate_excluded = np.zeros(shape, dtype=np.bool)\n"
     ]
    },
    {
     "name": "stdout",
     "output_type": "stream",
     "text": [
      "Saved grid to KIND_SDUS53_N0RIND_201105012354_grid.nc\n"
     ]
    },
    {
     "name": "stderr",
     "output_type": "stream",
     "text": [
      "/Users/adkchappy/anaconda3/envs/pyart_env/lib/python3.8/site-packages/pyart/map/gates_to_grid.py:160: DeprecationWarning: Barnes weighting function is deprecated. Please use Barnes 2 to be consistent with Pauley and Wu 1990.\n",
      "  warnings.warn(\"Barnes weighting function is deprecated.\"\n",
      "/Users/adkchappy/anaconda3/envs/pyart_env/lib/python3.8/site-packages/pyart/filters/gatefilter.py:460: DeprecationWarning: `np.bool` is a deprecated alias for the builtin `bool`. To silence this warning, use `bool` by itself. Doing this will not modify any behavior and is safe. If you specifically wanted the numpy scalar type, use `np.bool_` here.\n",
      "Deprecated in NumPy 1.20; for more details and guidance: https://numpy.org/devdocs/release/1.20.0-notes.html#deprecations\n",
      "  self._gate_excluded = np.zeros(shape, dtype=np.bool)\n"
     ]
    },
    {
     "name": "stdout",
     "output_type": "stream",
     "text": [
      "Saved grid to KIND_SDUS53_N0RIND_201105010403_grid.nc\n"
     ]
    },
    {
     "name": "stderr",
     "output_type": "stream",
     "text": [
      "/Users/adkchappy/anaconda3/envs/pyart_env/lib/python3.8/site-packages/pyart/map/gates_to_grid.py:160: DeprecationWarning: Barnes weighting function is deprecated. Please use Barnes 2 to be consistent with Pauley and Wu 1990.\n",
      "  warnings.warn(\"Barnes weighting function is deprecated.\"\n",
      "/Users/adkchappy/anaconda3/envs/pyart_env/lib/python3.8/site-packages/pyart/filters/gatefilter.py:460: DeprecationWarning: `np.bool` is a deprecated alias for the builtin `bool`. To silence this warning, use `bool` by itself. Doing this will not modify any behavior and is safe. If you specifically wanted the numpy scalar type, use `np.bool_` here.\n",
      "Deprecated in NumPy 1.20; for more details and guidance: https://numpy.org/devdocs/release/1.20.0-notes.html#deprecations\n",
      "  self._gate_excluded = np.zeros(shape, dtype=np.bool)\n"
     ]
    },
    {
     "name": "stdout",
     "output_type": "stream",
     "text": [
      "Saved grid to KIND_SDUS53_N0RIND_201105010638_grid.nc\n"
     ]
    },
    {
     "name": "stderr",
     "output_type": "stream",
     "text": [
      "/Users/adkchappy/anaconda3/envs/pyart_env/lib/python3.8/site-packages/pyart/map/gates_to_grid.py:160: DeprecationWarning: Barnes weighting function is deprecated. Please use Barnes 2 to be consistent with Pauley and Wu 1990.\n",
      "  warnings.warn(\"Barnes weighting function is deprecated.\"\n",
      "/Users/adkchappy/anaconda3/envs/pyart_env/lib/python3.8/site-packages/pyart/filters/gatefilter.py:460: DeprecationWarning: `np.bool` is a deprecated alias for the builtin `bool`. To silence this warning, use `bool` by itself. Doing this will not modify any behavior and is safe. If you specifically wanted the numpy scalar type, use `np.bool_` here.\n",
      "Deprecated in NumPy 1.20; for more details and guidance: https://numpy.org/devdocs/release/1.20.0-notes.html#deprecations\n",
      "  self._gate_excluded = np.zeros(shape, dtype=np.bool)\n"
     ]
    },
    {
     "name": "stdout",
     "output_type": "stream",
     "text": [
      "Saved grid to KIND_SDUS53_N0RIND_201105011721_grid.nc\n"
     ]
    },
    {
     "name": "stderr",
     "output_type": "stream",
     "text": [
      "/Users/adkchappy/anaconda3/envs/pyart_env/lib/python3.8/site-packages/pyart/map/gates_to_grid.py:160: DeprecationWarning: Barnes weighting function is deprecated. Please use Barnes 2 to be consistent with Pauley and Wu 1990.\n",
      "  warnings.warn(\"Barnes weighting function is deprecated.\"\n",
      "/Users/adkchappy/anaconda3/envs/pyart_env/lib/python3.8/site-packages/pyart/filters/gatefilter.py:460: DeprecationWarning: `np.bool` is a deprecated alias for the builtin `bool`. To silence this warning, use `bool` by itself. Doing this will not modify any behavior and is safe. If you specifically wanted the numpy scalar type, use `np.bool_` here.\n",
      "Deprecated in NumPy 1.20; for more details and guidance: https://numpy.org/devdocs/release/1.20.0-notes.html#deprecations\n",
      "  self._gate_excluded = np.zeros(shape, dtype=np.bool)\n"
     ]
    },
    {
     "name": "stdout",
     "output_type": "stream",
     "text": [
      "Saved grid to KIND_SDUS53_N0RIND_201105010456_grid.nc\n"
     ]
    },
    {
     "name": "stderr",
     "output_type": "stream",
     "text": [
      "/Users/adkchappy/anaconda3/envs/pyart_env/lib/python3.8/site-packages/pyart/map/gates_to_grid.py:160: DeprecationWarning: Barnes weighting function is deprecated. Please use Barnes 2 to be consistent with Pauley and Wu 1990.\n",
      "  warnings.warn(\"Barnes weighting function is deprecated.\"\n",
      "/Users/adkchappy/anaconda3/envs/pyart_env/lib/python3.8/site-packages/pyart/filters/gatefilter.py:460: DeprecationWarning: `np.bool` is a deprecated alias for the builtin `bool`. To silence this warning, use `bool` by itself. Doing this will not modify any behavior and is safe. If you specifically wanted the numpy scalar type, use `np.bool_` here.\n",
      "Deprecated in NumPy 1.20; for more details and guidance: https://numpy.org/devdocs/release/1.20.0-notes.html#deprecations\n",
      "  self._gate_excluded = np.zeros(shape, dtype=np.bool)\n"
     ]
    },
    {
     "name": "stdout",
     "output_type": "stream",
     "text": [
      "Saved grid to KIND_SDUS53_N0RIND_201105012133_grid.nc\n"
     ]
    },
    {
     "name": "stderr",
     "output_type": "stream",
     "text": [
      "/Users/adkchappy/anaconda3/envs/pyart_env/lib/python3.8/site-packages/pyart/map/gates_to_grid.py:160: DeprecationWarning: Barnes weighting function is deprecated. Please use Barnes 2 to be consistent with Pauley and Wu 1990.\n",
      "  warnings.warn(\"Barnes weighting function is deprecated.\"\n",
      "/Users/adkchappy/anaconda3/envs/pyart_env/lib/python3.8/site-packages/pyart/filters/gatefilter.py:460: DeprecationWarning: `np.bool` is a deprecated alias for the builtin `bool`. To silence this warning, use `bool` by itself. Doing this will not modify any behavior and is safe. If you specifically wanted the numpy scalar type, use `np.bool_` here.\n",
      "Deprecated in NumPy 1.20; for more details and guidance: https://numpy.org/devdocs/release/1.20.0-notes.html#deprecations\n",
      "  self._gate_excluded = np.zeros(shape, dtype=np.bool)\n"
     ]
    },
    {
     "name": "stdout",
     "output_type": "stream",
     "text": [
      "Saved grid to KIND_SDUS53_N0RIND_201105011917_grid.nc\n"
     ]
    },
    {
     "name": "stderr",
     "output_type": "stream",
     "text": [
      "/Users/adkchappy/anaconda3/envs/pyart_env/lib/python3.8/site-packages/pyart/map/gates_to_grid.py:160: DeprecationWarning: Barnes weighting function is deprecated. Please use Barnes 2 to be consistent with Pauley and Wu 1990.\n",
      "  warnings.warn(\"Barnes weighting function is deprecated.\"\n",
      "/Users/adkchappy/anaconda3/envs/pyart_env/lib/python3.8/site-packages/pyart/filters/gatefilter.py:460: DeprecationWarning: `np.bool` is a deprecated alias for the builtin `bool`. To silence this warning, use `bool` by itself. Doing this will not modify any behavior and is safe. If you specifically wanted the numpy scalar type, use `np.bool_` here.\n",
      "Deprecated in NumPy 1.20; for more details and guidance: https://numpy.org/devdocs/release/1.20.0-notes.html#deprecations\n",
      "  self._gate_excluded = np.zeros(shape, dtype=np.bool)\n"
     ]
    },
    {
     "name": "stdout",
     "output_type": "stream",
     "text": [
      "Saved grid to KIND_SDUS53_N0RIND_201105011319_grid.nc\n"
     ]
    },
    {
     "name": "stderr",
     "output_type": "stream",
     "text": [
      "/Users/adkchappy/anaconda3/envs/pyart_env/lib/python3.8/site-packages/pyart/map/gates_to_grid.py:160: DeprecationWarning: Barnes weighting function is deprecated. Please use Barnes 2 to be consistent with Pauley and Wu 1990.\n",
      "  warnings.warn(\"Barnes weighting function is deprecated.\"\n",
      "/Users/adkchappy/anaconda3/envs/pyart_env/lib/python3.8/site-packages/pyart/filters/gatefilter.py:460: DeprecationWarning: `np.bool` is a deprecated alias for the builtin `bool`. To silence this warning, use `bool` by itself. Doing this will not modify any behavior and is safe. If you specifically wanted the numpy scalar type, use `np.bool_` here.\n",
      "Deprecated in NumPy 1.20; for more details and guidance: https://numpy.org/devdocs/release/1.20.0-notes.html#deprecations\n",
      "  self._gate_excluded = np.zeros(shape, dtype=np.bool)\n"
     ]
    },
    {
     "name": "stdout",
     "output_type": "stream",
     "text": [
      "Saved grid to KIND_SDUS53_N0RIND_201105011122_grid.nc\n"
     ]
    },
    {
     "name": "stderr",
     "output_type": "stream",
     "text": [
      "/Users/adkchappy/anaconda3/envs/pyart_env/lib/python3.8/site-packages/pyart/map/gates_to_grid.py:160: DeprecationWarning: Barnes weighting function is deprecated. Please use Barnes 2 to be consistent with Pauley and Wu 1990.\n",
      "  warnings.warn(\"Barnes weighting function is deprecated.\"\n",
      "/Users/adkchappy/anaconda3/envs/pyart_env/lib/python3.8/site-packages/pyart/filters/gatefilter.py:460: DeprecationWarning: `np.bool` is a deprecated alias for the builtin `bool`. To silence this warning, use `bool` by itself. Doing this will not modify any behavior and is safe. If you specifically wanted the numpy scalar type, use `np.bool_` here.\n",
      "Deprecated in NumPy 1.20; for more details and guidance: https://numpy.org/devdocs/release/1.20.0-notes.html#deprecations\n",
      "  self._gate_excluded = np.zeros(shape, dtype=np.bool)\n"
     ]
    },
    {
     "name": "stdout",
     "output_type": "stream",
     "text": [
      "Saved grid to KIND_SDUS53_N0RIND_201105010652_grid.nc\n"
     ]
    },
    {
     "name": "stderr",
     "output_type": "stream",
     "text": [
      "/Users/adkchappy/anaconda3/envs/pyart_env/lib/python3.8/site-packages/pyart/map/gates_to_grid.py:160: DeprecationWarning: Barnes weighting function is deprecated. Please use Barnes 2 to be consistent with Pauley and Wu 1990.\n",
      "  warnings.warn(\"Barnes weighting function is deprecated.\"\n",
      "/Users/adkchappy/anaconda3/envs/pyart_env/lib/python3.8/site-packages/pyart/filters/gatefilter.py:460: DeprecationWarning: `np.bool` is a deprecated alias for the builtin `bool`. To silence this warning, use `bool` by itself. Doing this will not modify any behavior and is safe. If you specifically wanted the numpy scalar type, use `np.bool_` here.\n",
      "Deprecated in NumPy 1.20; for more details and guidance: https://numpy.org/devdocs/release/1.20.0-notes.html#deprecations\n",
      "  self._gate_excluded = np.zeros(shape, dtype=np.bool)\n"
     ]
    },
    {
     "name": "stdout",
     "output_type": "stream",
     "text": [
      "Saved grid to KIND_SDUS53_N0RIND_201105012308_grid.nc\n"
     ]
    },
    {
     "name": "stderr",
     "output_type": "stream",
     "text": [
      "/Users/adkchappy/anaconda3/envs/pyart_env/lib/python3.8/site-packages/pyart/map/gates_to_grid.py:160: DeprecationWarning: Barnes weighting function is deprecated. Please use Barnes 2 to be consistent with Pauley and Wu 1990.\n",
      "  warnings.warn(\"Barnes weighting function is deprecated.\"\n",
      "/Users/adkchappy/anaconda3/envs/pyart_env/lib/python3.8/site-packages/pyart/filters/gatefilter.py:460: DeprecationWarning: `np.bool` is a deprecated alias for the builtin `bool`. To silence this warning, use `bool` by itself. Doing this will not modify any behavior and is safe. If you specifically wanted the numpy scalar type, use `np.bool_` here.\n",
      "Deprecated in NumPy 1.20; for more details and guidance: https://numpy.org/devdocs/release/1.20.0-notes.html#deprecations\n",
      "  self._gate_excluded = np.zeros(shape, dtype=np.bool)\n"
     ]
    },
    {
     "name": "stdout",
     "output_type": "stream",
     "text": [
      "Saved grid to KIND_SDUS53_N0RIND_201105011926_grid.nc\n"
     ]
    },
    {
     "name": "stderr",
     "output_type": "stream",
     "text": [
      "/Users/adkchappy/anaconda3/envs/pyart_env/lib/python3.8/site-packages/pyart/map/gates_to_grid.py:160: DeprecationWarning: Barnes weighting function is deprecated. Please use Barnes 2 to be consistent with Pauley and Wu 1990.\n",
      "  warnings.warn(\"Barnes weighting function is deprecated.\"\n",
      "/Users/adkchappy/anaconda3/envs/pyart_env/lib/python3.8/site-packages/pyart/filters/gatefilter.py:460: DeprecationWarning: `np.bool` is a deprecated alias for the builtin `bool`. To silence this warning, use `bool` by itself. Doing this will not modify any behavior and is safe. If you specifically wanted the numpy scalar type, use `np.bool_` here.\n",
      "Deprecated in NumPy 1.20; for more details and guidance: https://numpy.org/devdocs/release/1.20.0-notes.html#deprecations\n",
      "  self._gate_excluded = np.zeros(shape, dtype=np.bool)\n"
     ]
    },
    {
     "name": "stdout",
     "output_type": "stream",
     "text": [
      "Saved grid to KIND_SDUS53_N0RIND_201105010433_grid.nc\n"
     ]
    },
    {
     "name": "stderr",
     "output_type": "stream",
     "text": [
      "/Users/adkchappy/anaconda3/envs/pyart_env/lib/python3.8/site-packages/pyart/map/gates_to_grid.py:160: DeprecationWarning: Barnes weighting function is deprecated. Please use Barnes 2 to be consistent with Pauley and Wu 1990.\n",
      "  warnings.warn(\"Barnes weighting function is deprecated.\"\n",
      "/Users/adkchappy/anaconda3/envs/pyart_env/lib/python3.8/site-packages/pyart/filters/gatefilter.py:460: DeprecationWarning: `np.bool` is a deprecated alias for the builtin `bool`. To silence this warning, use `bool` by itself. Doing this will not modify any behavior and is safe. If you specifically wanted the numpy scalar type, use `np.bool_` here.\n",
      "Deprecated in NumPy 1.20; for more details and guidance: https://numpy.org/devdocs/release/1.20.0-notes.html#deprecations\n",
      "  self._gate_excluded = np.zeros(shape, dtype=np.bool)\n"
     ]
    },
    {
     "name": "stdout",
     "output_type": "stream",
     "text": [
      "Saved grid to KIND_SDUS53_N0RIND_201105010601_grid.nc\n"
     ]
    },
    {
     "name": "stderr",
     "output_type": "stream",
     "text": [
      "/Users/adkchappy/anaconda3/envs/pyart_env/lib/python3.8/site-packages/pyart/map/gates_to_grid.py:160: DeprecationWarning: Barnes weighting function is deprecated. Please use Barnes 2 to be consistent with Pauley and Wu 1990.\n",
      "  warnings.warn(\"Barnes weighting function is deprecated.\"\n",
      "/Users/adkchappy/anaconda3/envs/pyart_env/lib/python3.8/site-packages/pyart/filters/gatefilter.py:460: DeprecationWarning: `np.bool` is a deprecated alias for the builtin `bool`. To silence this warning, use `bool` by itself. Doing this will not modify any behavior and is safe. If you specifically wanted the numpy scalar type, use `np.bool_` here.\n",
      "Deprecated in NumPy 1.20; for more details and guidance: https://numpy.org/devdocs/release/1.20.0-notes.html#deprecations\n",
      "  self._gate_excluded = np.zeros(shape, dtype=np.bool)\n"
     ]
    },
    {
     "name": "stdout",
     "output_type": "stream",
     "text": [
      "Saved grid to KIND_SDUS53_N0RIND_201105011515_grid.nc\n"
     ]
    },
    {
     "name": "stderr",
     "output_type": "stream",
     "text": [
      "/Users/adkchappy/anaconda3/envs/pyart_env/lib/python3.8/site-packages/pyart/map/gates_to_grid.py:160: DeprecationWarning: Barnes weighting function is deprecated. Please use Barnes 2 to be consistent with Pauley and Wu 1990.\n",
      "  warnings.warn(\"Barnes weighting function is deprecated.\"\n",
      "/Users/adkchappy/anaconda3/envs/pyart_env/lib/python3.8/site-packages/pyart/filters/gatefilter.py:460: DeprecationWarning: `np.bool` is a deprecated alias for the builtin `bool`. To silence this warning, use `bool` by itself. Doing this will not modify any behavior and is safe. If you specifically wanted the numpy scalar type, use `np.bool_` here.\n",
      "Deprecated in NumPy 1.20; for more details and guidance: https://numpy.org/devdocs/release/1.20.0-notes.html#deprecations\n",
      "  self._gate_excluded = np.zeros(shape, dtype=np.bool)\n"
     ]
    },
    {
     "name": "stdout",
     "output_type": "stream",
     "text": [
      "Saved grid to KIND_SDUS53_N0RIND_201105010853_grid.nc\n"
     ]
    },
    {
     "name": "stderr",
     "output_type": "stream",
     "text": [
      "/Users/adkchappy/anaconda3/envs/pyart_env/lib/python3.8/site-packages/pyart/map/gates_to_grid.py:160: DeprecationWarning: Barnes weighting function is deprecated. Please use Barnes 2 to be consistent with Pauley and Wu 1990.\n",
      "  warnings.warn(\"Barnes weighting function is deprecated.\"\n",
      "/Users/adkchappy/anaconda3/envs/pyart_env/lib/python3.8/site-packages/pyart/filters/gatefilter.py:460: DeprecationWarning: `np.bool` is a deprecated alias for the builtin `bool`. To silence this warning, use `bool` by itself. Doing this will not modify any behavior and is safe. If you specifically wanted the numpy scalar type, use `np.bool_` here.\n",
      "Deprecated in NumPy 1.20; for more details and guidance: https://numpy.org/devdocs/release/1.20.0-notes.html#deprecations\n",
      "  self._gate_excluded = np.zeros(shape, dtype=np.bool)\n"
     ]
    },
    {
     "name": "stdout",
     "output_type": "stream",
     "text": [
      "Saved grid to KIND_SDUS53_N0RIND_201105012151_grid.nc\n"
     ]
    },
    {
     "name": "stderr",
     "output_type": "stream",
     "text": [
      "/Users/adkchappy/anaconda3/envs/pyart_env/lib/python3.8/site-packages/pyart/map/gates_to_grid.py:160: DeprecationWarning: Barnes weighting function is deprecated. Please use Barnes 2 to be consistent with Pauley and Wu 1990.\n",
      "  warnings.warn(\"Barnes weighting function is deprecated.\"\n",
      "/Users/adkchappy/anaconda3/envs/pyart_env/lib/python3.8/site-packages/pyart/filters/gatefilter.py:460: DeprecationWarning: `np.bool` is a deprecated alias for the builtin `bool`. To silence this warning, use `bool` by itself. Doing this will not modify any behavior and is safe. If you specifically wanted the numpy scalar type, use `np.bool_` here.\n",
      "Deprecated in NumPy 1.20; for more details and guidance: https://numpy.org/devdocs/release/1.20.0-notes.html#deprecations\n",
      "  self._gate_excluded = np.zeros(shape, dtype=np.bool)\n"
     ]
    },
    {
     "name": "stdout",
     "output_type": "stream",
     "text": [
      "Saved grid to KIND_SDUS53_N0RIND_201105010606_grid.nc\n"
     ]
    },
    {
     "name": "stderr",
     "output_type": "stream",
     "text": [
      "/Users/adkchappy/anaconda3/envs/pyart_env/lib/python3.8/site-packages/pyart/map/gates_to_grid.py:160: DeprecationWarning: Barnes weighting function is deprecated. Please use Barnes 2 to be consistent with Pauley and Wu 1990.\n",
      "  warnings.warn(\"Barnes weighting function is deprecated.\"\n",
      "/Users/adkchappy/anaconda3/envs/pyart_env/lib/python3.8/site-packages/pyart/filters/gatefilter.py:460: DeprecationWarning: `np.bool` is a deprecated alias for the builtin `bool`. To silence this warning, use `bool` by itself. Doing this will not modify any behavior and is safe. If you specifically wanted the numpy scalar type, use `np.bool_` here.\n",
      "Deprecated in NumPy 1.20; for more details and guidance: https://numpy.org/devdocs/release/1.20.0-notes.html#deprecations\n",
      "  self._gate_excluded = np.zeros(shape, dtype=np.bool)\n"
     ]
    },
    {
     "name": "stdout",
     "output_type": "stream",
     "text": [
      "Saved grid to KIND_SDUS53_N0RIND_201105012158_grid.nc\n"
     ]
    },
    {
     "name": "stderr",
     "output_type": "stream",
     "text": [
      "/Users/adkchappy/anaconda3/envs/pyart_env/lib/python3.8/site-packages/pyart/map/gates_to_grid.py:160: DeprecationWarning: Barnes weighting function is deprecated. Please use Barnes 2 to be consistent with Pauley and Wu 1990.\n",
      "  warnings.warn(\"Barnes weighting function is deprecated.\"\n",
      "/Users/adkchappy/anaconda3/envs/pyart_env/lib/python3.8/site-packages/pyart/filters/gatefilter.py:460: DeprecationWarning: `np.bool` is a deprecated alias for the builtin `bool`. To silence this warning, use `bool` by itself. Doing this will not modify any behavior and is safe. If you specifically wanted the numpy scalar type, use `np.bool_` here.\n",
      "Deprecated in NumPy 1.20; for more details and guidance: https://numpy.org/devdocs/release/1.20.0-notes.html#deprecations\n",
      "  self._gate_excluded = np.zeros(shape, dtype=np.bool)\n"
     ]
    },
    {
     "name": "stdout",
     "output_type": "stream",
     "text": [
      "Saved grid to KIND_SDUS53_N0RIND_201105011140_grid.nc\n"
     ]
    },
    {
     "name": "stderr",
     "output_type": "stream",
     "text": [
      "/Users/adkchappy/anaconda3/envs/pyart_env/lib/python3.8/site-packages/pyart/map/gates_to_grid.py:160: DeprecationWarning: Barnes weighting function is deprecated. Please use Barnes 2 to be consistent with Pauley and Wu 1990.\n",
      "  warnings.warn(\"Barnes weighting function is deprecated.\"\n",
      "/Users/adkchappy/anaconda3/envs/pyart_env/lib/python3.8/site-packages/pyart/filters/gatefilter.py:460: DeprecationWarning: `np.bool` is a deprecated alias for the builtin `bool`. To silence this warning, use `bool` by itself. Doing this will not modify any behavior and is safe. If you specifically wanted the numpy scalar type, use `np.bool_` here.\n",
      "Deprecated in NumPy 1.20; for more details and guidance: https://numpy.org/devdocs/release/1.20.0-notes.html#deprecations\n",
      "  self._gate_excluded = np.zeros(shape, dtype=np.bool)\n"
     ]
    },
    {
     "name": "stdout",
     "output_type": "stream",
     "text": [
      "Saved grid to KIND_SDUS53_N0RIND_201105011524_grid.nc\n"
     ]
    },
    {
     "name": "stderr",
     "output_type": "stream",
     "text": [
      "/Users/adkchappy/anaconda3/envs/pyart_env/lib/python3.8/site-packages/pyart/map/gates_to_grid.py:160: DeprecationWarning: Barnes weighting function is deprecated. Please use Barnes 2 to be consistent with Pauley and Wu 1990.\n",
      "  warnings.warn(\"Barnes weighting function is deprecated.\"\n",
      "/Users/adkchappy/anaconda3/envs/pyart_env/lib/python3.8/site-packages/pyart/filters/gatefilter.py:460: DeprecationWarning: `np.bool` is a deprecated alias for the builtin `bool`. To silence this warning, use `bool` by itself. Doing this will not modify any behavior and is safe. If you specifically wanted the numpy scalar type, use `np.bool_` here.\n",
      "Deprecated in NumPy 1.20; for more details and guidance: https://numpy.org/devdocs/release/1.20.0-notes.html#deprecations\n",
      "  self._gate_excluded = np.zeros(shape, dtype=np.bool)\n"
     ]
    },
    {
     "name": "stdout",
     "output_type": "stream",
     "text": [
      "Saved grid to KIND_SDUS53_N0RIND_201105010615_grid.nc\n"
     ]
    },
    {
     "name": "stderr",
     "output_type": "stream",
     "text": [
      "/Users/adkchappy/anaconda3/envs/pyart_env/lib/python3.8/site-packages/pyart/map/gates_to_grid.py:160: DeprecationWarning: Barnes weighting function is deprecated. Please use Barnes 2 to be consistent with Pauley and Wu 1990.\n",
      "  warnings.warn(\"Barnes weighting function is deprecated.\"\n",
      "/Users/adkchappy/anaconda3/envs/pyart_env/lib/python3.8/site-packages/pyart/filters/gatefilter.py:460: DeprecationWarning: `np.bool` is a deprecated alias for the builtin `bool`. To silence this warning, use `bool` by itself. Doing this will not modify any behavior and is safe. If you specifically wanted the numpy scalar type, use `np.bool_` here.\n",
      "Deprecated in NumPy 1.20; for more details and guidance: https://numpy.org/devdocs/release/1.20.0-notes.html#deprecations\n",
      "  self._gate_excluded = np.zeros(shape, dtype=np.bool)\n"
     ]
    },
    {
     "name": "stdout",
     "output_type": "stream",
     "text": [
      "Saved grid to KIND_SDUS53_N0RIND_201105010418_grid.nc\n"
     ]
    },
    {
     "name": "stderr",
     "output_type": "stream",
     "text": [
      "/Users/adkchappy/anaconda3/envs/pyart_env/lib/python3.8/site-packages/pyart/map/gates_to_grid.py:160: DeprecationWarning: Barnes weighting function is deprecated. Please use Barnes 2 to be consistent with Pauley and Wu 1990.\n",
      "  warnings.warn(\"Barnes weighting function is deprecated.\"\n",
      "/Users/adkchappy/anaconda3/envs/pyart_env/lib/python3.8/site-packages/pyart/filters/gatefilter.py:460: DeprecationWarning: `np.bool` is a deprecated alias for the builtin `bool`. To silence this warning, use `bool` by itself. Doing this will not modify any behavior and is safe. If you specifically wanted the numpy scalar type, use `np.bool_` here.\n",
      "Deprecated in NumPy 1.20; for more details and guidance: https://numpy.org/devdocs/release/1.20.0-notes.html#deprecations\n",
      "  self._gate_excluded = np.zeros(shape, dtype=np.bool)\n"
     ]
    },
    {
     "name": "stdout",
     "output_type": "stream",
     "text": [
      "Saved grid to KIND_SDUS53_N0RIND_201105011154_grid.nc\n"
     ]
    },
    {
     "name": "stderr",
     "output_type": "stream",
     "text": [
      "/Users/adkchappy/anaconda3/envs/pyart_env/lib/python3.8/site-packages/pyart/map/gates_to_grid.py:160: DeprecationWarning: Barnes weighting function is deprecated. Please use Barnes 2 to be consistent with Pauley and Wu 1990.\n",
      "  warnings.warn(\"Barnes weighting function is deprecated.\"\n",
      "/Users/adkchappy/anaconda3/envs/pyart_env/lib/python3.8/site-packages/pyart/filters/gatefilter.py:460: DeprecationWarning: `np.bool` is a deprecated alias for the builtin `bool`. To silence this warning, use `bool` by itself. Doing this will not modify any behavior and is safe. If you specifically wanted the numpy scalar type, use `np.bool_` here.\n",
      "Deprecated in NumPy 1.20; for more details and guidance: https://numpy.org/devdocs/release/1.20.0-notes.html#deprecations\n",
      "  self._gate_excluded = np.zeros(shape, dtype=np.bool)\n"
     ]
    },
    {
     "name": "stdout",
     "output_type": "stream",
     "text": [
      "Saved grid to KIND_SDUS53_N0RIND_201105011702_grid.nc\n"
     ]
    },
    {
     "name": "stderr",
     "output_type": "stream",
     "text": [
      "/Users/adkchappy/anaconda3/envs/pyart_env/lib/python3.8/site-packages/pyart/map/gates_to_grid.py:160: DeprecationWarning: Barnes weighting function is deprecated. Please use Barnes 2 to be consistent with Pauley and Wu 1990.\n",
      "  warnings.warn(\"Barnes weighting function is deprecated.\"\n",
      "/Users/adkchappy/anaconda3/envs/pyart_env/lib/python3.8/site-packages/pyart/filters/gatefilter.py:460: DeprecationWarning: `np.bool` is a deprecated alias for the builtin `bool`. To silence this warning, use `bool` by itself. Doing this will not modify any behavior and is safe. If you specifically wanted the numpy scalar type, use `np.bool_` here.\n",
      "Deprecated in NumPy 1.20; for more details and guidance: https://numpy.org/devdocs/release/1.20.0-notes.html#deprecations\n",
      "  self._gate_excluded = np.zeros(shape, dtype=np.bool)\n"
     ]
    },
    {
     "name": "stdout",
     "output_type": "stream",
     "text": [
      "Saved grid to KIND_SDUS53_N0RIND_201105010624_grid.nc\n"
     ]
    },
    {
     "name": "stderr",
     "output_type": "stream",
     "text": [
      "/Users/adkchappy/anaconda3/envs/pyart_env/lib/python3.8/site-packages/pyart/map/gates_to_grid.py:160: DeprecationWarning: Barnes weighting function is deprecated. Please use Barnes 2 to be consistent with Pauley and Wu 1990.\n",
      "  warnings.warn(\"Barnes weighting function is deprecated.\"\n",
      "/Users/adkchappy/anaconda3/envs/pyart_env/lib/python3.8/site-packages/pyart/filters/gatefilter.py:460: DeprecationWarning: `np.bool` is a deprecated alias for the builtin `bool`. To silence this warning, use `bool` by itself. Doing this will not modify any behavior and is safe. If you specifically wanted the numpy scalar type, use `np.bool_` here.\n",
      "Deprecated in NumPy 1.20; for more details and guidance: https://numpy.org/devdocs/release/1.20.0-notes.html#deprecations\n",
      "  self._gate_excluded = np.zeros(shape, dtype=np.bool)\n"
     ]
    },
    {
     "name": "stdout",
     "output_type": "stream",
     "text": [
      "Saved grid to KIND_SDUS53_N0RIND_201105010429_grid.nc\n"
     ]
    },
    {
     "name": "stderr",
     "output_type": "stream",
     "text": [
      "/Users/adkchappy/anaconda3/envs/pyart_env/lib/python3.8/site-packages/pyart/map/gates_to_grid.py:160: DeprecationWarning: Barnes weighting function is deprecated. Please use Barnes 2 to be consistent with Pauley and Wu 1990.\n",
      "  warnings.warn(\"Barnes weighting function is deprecated.\"\n",
      "/Users/adkchappy/anaconda3/envs/pyart_env/lib/python3.8/site-packages/pyart/filters/gatefilter.py:460: DeprecationWarning: `np.bool` is a deprecated alias for the builtin `bool`. To silence this warning, use `bool` by itself. Doing this will not modify any behavior and is safe. If you specifically wanted the numpy scalar type, use `np.bool_` here.\n",
      "Deprecated in NumPy 1.20; for more details and guidance: https://numpy.org/devdocs/release/1.20.0-notes.html#deprecations\n",
      "  self._gate_excluded = np.zeros(shape, dtype=np.bool)\n"
     ]
    },
    {
     "name": "stdout",
     "output_type": "stream",
     "text": [
      "Saved grid to KIND_SDUS53_N0RIND_201105010445_grid.nc\n"
     ]
    },
    {
     "name": "stderr",
     "output_type": "stream",
     "text": [
      "/Users/adkchappy/anaconda3/envs/pyart_env/lib/python3.8/site-packages/pyart/map/gates_to_grid.py:160: DeprecationWarning: Barnes weighting function is deprecated. Please use Barnes 2 to be consistent with Pauley and Wu 1990.\n",
      "  warnings.warn(\"Barnes weighting function is deprecated.\"\n",
      "/Users/adkchappy/anaconda3/envs/pyart_env/lib/python3.8/site-packages/pyart/filters/gatefilter.py:460: DeprecationWarning: `np.bool` is a deprecated alias for the builtin `bool`. To silence this warning, use `bool` by itself. Doing this will not modify any behavior and is safe. If you specifically wanted the numpy scalar type, use `np.bool_` here.\n",
      "Deprecated in NumPy 1.20; for more details and guidance: https://numpy.org/devdocs/release/1.20.0-notes.html#deprecations\n",
      "  self._gate_excluded = np.zeros(shape, dtype=np.bool)\n"
     ]
    },
    {
     "name": "stdout",
     "output_type": "stream",
     "text": [
      "Saved grid to KIND_SDUS53_N0RIND_201105010825_grid.nc\n"
     ]
    },
    {
     "name": "stderr",
     "output_type": "stream",
     "text": [
      "/Users/adkchappy/anaconda3/envs/pyart_env/lib/python3.8/site-packages/pyart/map/gates_to_grid.py:160: DeprecationWarning: Barnes weighting function is deprecated. Please use Barnes 2 to be consistent with Pauley and Wu 1990.\n",
      "  warnings.warn(\"Barnes weighting function is deprecated.\"\n",
      "/Users/adkchappy/anaconda3/envs/pyart_env/lib/python3.8/site-packages/pyart/filters/gatefilter.py:460: DeprecationWarning: `np.bool` is a deprecated alias for the builtin `bool`. To silence this warning, use `bool` by itself. Doing this will not modify any behavior and is safe. If you specifically wanted the numpy scalar type, use `np.bool_` here.\n",
      "Deprecated in NumPy 1.20; for more details and guidance: https://numpy.org/devdocs/release/1.20.0-notes.html#deprecations\n",
      "  self._gate_excluded = np.zeros(shape, dtype=np.bool)\n"
     ]
    },
    {
     "name": "stdout",
     "output_type": "stream",
     "text": [
      "Saved grid to KIND_SDUS53_N0RIND_201105011136_grid.nc\n"
     ]
    },
    {
     "name": "stderr",
     "output_type": "stream",
     "text": [
      "/Users/adkchappy/anaconda3/envs/pyart_env/lib/python3.8/site-packages/pyart/map/gates_to_grid.py:160: DeprecationWarning: Barnes weighting function is deprecated. Please use Barnes 2 to be consistent with Pauley and Wu 1990.\n",
      "  warnings.warn(\"Barnes weighting function is deprecated.\"\n",
      "/Users/adkchappy/anaconda3/envs/pyart_env/lib/python3.8/site-packages/pyart/filters/gatefilter.py:460: DeprecationWarning: `np.bool` is a deprecated alias for the builtin `bool`. To silence this warning, use `bool` by itself. Doing this will not modify any behavior and is safe. If you specifically wanted the numpy scalar type, use `np.bool_` here.\n",
      "Deprecated in NumPy 1.20; for more details and guidance: https://numpy.org/devdocs/release/1.20.0-notes.html#deprecations\n",
      "  self._gate_excluded = np.zeros(shape, dtype=np.bool)\n"
     ]
    },
    {
     "name": "stdout",
     "output_type": "stream",
     "text": [
      "Saved grid to KIND_SDUS53_N0RIND_201105011304_grid.nc\n"
     ]
    },
    {
     "name": "stderr",
     "output_type": "stream",
     "text": [
      "/Users/adkchappy/anaconda3/envs/pyart_env/lib/python3.8/site-packages/pyart/map/gates_to_grid.py:160: DeprecationWarning: Barnes weighting function is deprecated. Please use Barnes 2 to be consistent with Pauley and Wu 1990.\n",
      "  warnings.warn(\"Barnes weighting function is deprecated.\"\n",
      "/Users/adkchappy/anaconda3/envs/pyart_env/lib/python3.8/site-packages/pyart/filters/gatefilter.py:460: DeprecationWarning: `np.bool` is a deprecated alias for the builtin `bool`. To silence this warning, use `bool` by itself. Doing this will not modify any behavior and is safe. If you specifically wanted the numpy scalar type, use `np.bool_` here.\n",
      "Deprecated in NumPy 1.20; for more details and guidance: https://numpy.org/devdocs/release/1.20.0-notes.html#deprecations\n",
      "  self._gate_excluded = np.zeros(shape, dtype=np.bool)\n"
     ]
    },
    {
     "name": "stdout",
     "output_type": "stream",
     "text": [
      "Saved grid to KIND_SDUS53_N0RIND_201105012129_grid.nc\n"
     ]
    },
    {
     "name": "stderr",
     "output_type": "stream",
     "text": [
      "/Users/adkchappy/anaconda3/envs/pyart_env/lib/python3.8/site-packages/pyart/map/gates_to_grid.py:160: DeprecationWarning: Barnes weighting function is deprecated. Please use Barnes 2 to be consistent with Pauley and Wu 1990.\n",
      "  warnings.warn(\"Barnes weighting function is deprecated.\"\n",
      "/Users/adkchappy/anaconda3/envs/pyart_env/lib/python3.8/site-packages/pyart/filters/gatefilter.py:460: DeprecationWarning: `np.bool` is a deprecated alias for the builtin `bool`. To silence this warning, use `bool` by itself. Doing this will not modify any behavior and is safe. If you specifically wanted the numpy scalar type, use `np.bool_` here.\n",
      "Deprecated in NumPy 1.20; for more details and guidance: https://numpy.org/devdocs/release/1.20.0-notes.html#deprecations\n",
      "  self._gate_excluded = np.zeros(shape, dtype=np.bool)\n"
     ]
    },
    {
     "name": "stdout",
     "output_type": "stream",
     "text": [
      "Saved grid to KIND_SDUS53_N0RIND_201105010848_grid.nc\n"
     ]
    },
    {
     "name": "stderr",
     "output_type": "stream",
     "text": [
      "/Users/adkchappy/anaconda3/envs/pyart_env/lib/python3.8/site-packages/pyart/map/gates_to_grid.py:160: DeprecationWarning: Barnes weighting function is deprecated. Please use Barnes 2 to be consistent with Pauley and Wu 1990.\n",
      "  warnings.warn(\"Barnes weighting function is deprecated.\"\n",
      "/Users/adkchappy/anaconda3/envs/pyart_env/lib/python3.8/site-packages/pyart/filters/gatefilter.py:460: DeprecationWarning: `np.bool` is a deprecated alias for the builtin `bool`. To silence this warning, use `bool` by itself. Doing this will not modify any behavior and is safe. If you specifically wanted the numpy scalar type, use `np.bool_` here.\n",
      "Deprecated in NumPy 1.20; for more details and guidance: https://numpy.org/devdocs/release/1.20.0-notes.html#deprecations\n",
      "  self._gate_excluded = np.zeros(shape, dtype=np.bool)\n"
     ]
    },
    {
     "name": "stdout",
     "output_type": "stream",
     "text": [
      "Saved grid to KIND_SDUS53_N0RIND_201105010410_grid.nc\n"
     ]
    },
    {
     "name": "stderr",
     "output_type": "stream",
     "text": [
      "/Users/adkchappy/anaconda3/envs/pyart_env/lib/python3.8/site-packages/pyart/map/gates_to_grid.py:160: DeprecationWarning: Barnes weighting function is deprecated. Please use Barnes 2 to be consistent with Pauley and Wu 1990.\n",
      "  warnings.warn(\"Barnes weighting function is deprecated.\"\n",
      "/Users/adkchappy/anaconda3/envs/pyart_env/lib/python3.8/site-packages/pyart/filters/gatefilter.py:460: DeprecationWarning: `np.bool` is a deprecated alias for the builtin `bool`. To silence this warning, use `bool` by itself. Doing this will not modify any behavior and is safe. If you specifically wanted the numpy scalar type, use `np.bool_` here.\n",
      "Deprecated in NumPy 1.20; for more details and guidance: https://numpy.org/devdocs/release/1.20.0-notes.html#deprecations\n",
      "  self._gate_excluded = np.zeros(shape, dtype=np.bool)\n"
     ]
    },
    {
     "name": "stdout",
     "output_type": "stream",
     "text": [
      "Saved grid to KIND_SDUS53_N0RIND_201105012340_grid.nc\n"
     ]
    },
    {
     "name": "stderr",
     "output_type": "stream",
     "text": [
      "/Users/adkchappy/anaconda3/envs/pyart_env/lib/python3.8/site-packages/pyart/map/gates_to_grid.py:160: DeprecationWarning: Barnes weighting function is deprecated. Please use Barnes 2 to be consistent with Pauley and Wu 1990.\n",
      "  warnings.warn(\"Barnes weighting function is deprecated.\"\n",
      "/Users/adkchappy/anaconda3/envs/pyart_env/lib/python3.8/site-packages/pyart/filters/gatefilter.py:460: DeprecationWarning: `np.bool` is a deprecated alias for the builtin `bool`. To silence this warning, use `bool` by itself. Doing this will not modify any behavior and is safe. If you specifically wanted the numpy scalar type, use `np.bool_` here.\n",
      "Deprecated in NumPy 1.20; for more details and guidance: https://numpy.org/devdocs/release/1.20.0-notes.html#deprecations\n",
      "  self._gate_excluded = np.zeros(shape, dtype=np.bool)\n"
     ]
    },
    {
     "name": "stdout",
     "output_type": "stream",
     "text": [
      "Saved grid to KIND_SDUS53_N0RIND_201105011358_grid.nc\n"
     ]
    },
    {
     "name": "stderr",
     "output_type": "stream",
     "text": [
      "/Users/adkchappy/anaconda3/envs/pyart_env/lib/python3.8/site-packages/pyart/map/gates_to_grid.py:160: DeprecationWarning: Barnes weighting function is deprecated. Please use Barnes 2 to be consistent with Pauley and Wu 1990.\n",
      "  warnings.warn(\"Barnes weighting function is deprecated.\"\n",
      "/Users/adkchappy/anaconda3/envs/pyart_env/lib/python3.8/site-packages/pyart/filters/gatefilter.py:460: DeprecationWarning: `np.bool` is a deprecated alias for the builtin `bool`. To silence this warning, use `bool` by itself. Doing this will not modify any behavior and is safe. If you specifically wanted the numpy scalar type, use `np.bool_` here.\n",
      "Deprecated in NumPy 1.20; for more details and guidance: https://numpy.org/devdocs/release/1.20.0-notes.html#deprecations\n",
      "  self._gate_excluded = np.zeros(shape, dtype=np.bool)\n"
     ]
    },
    {
     "name": "stdout",
     "output_type": "stream",
     "text": [
      "Saved grid to KIND_SDUS53_N0RIND_201105012144_grid.nc\n"
     ]
    },
    {
     "name": "stderr",
     "output_type": "stream",
     "text": [
      "/Users/adkchappy/anaconda3/envs/pyart_env/lib/python3.8/site-packages/pyart/map/gates_to_grid.py:160: DeprecationWarning: Barnes weighting function is deprecated. Please use Barnes 2 to be consistent with Pauley and Wu 1990.\n",
      "  warnings.warn(\"Barnes weighting function is deprecated.\"\n",
      "/Users/adkchappy/anaconda3/envs/pyart_env/lib/python3.8/site-packages/pyart/filters/gatefilter.py:460: DeprecationWarning: `np.bool` is a deprecated alias for the builtin `bool`. To silence this warning, use `bool` by itself. Doing this will not modify any behavior and is safe. If you specifically wanted the numpy scalar type, use `np.bool_` here.\n",
      "Deprecated in NumPy 1.20; for more details and guidance: https://numpy.org/devdocs/release/1.20.0-notes.html#deprecations\n",
      "  self._gate_excluded = np.zeros(shape, dtype=np.bool)\n"
     ]
    },
    {
     "name": "stdout",
     "output_type": "stream",
     "text": [
      "Saved grid to KIND_SDUS53_N0RIND_201105010421_grid.nc\n"
     ]
    },
    {
     "name": "stderr",
     "output_type": "stream",
     "text": [
      "/Users/adkchappy/anaconda3/envs/pyart_env/lib/python3.8/site-packages/pyart/map/gates_to_grid.py:160: DeprecationWarning: Barnes weighting function is deprecated. Please use Barnes 2 to be consistent with Pauley and Wu 1990.\n",
      "  warnings.warn(\"Barnes weighting function is deprecated.\"\n",
      "/Users/adkchappy/anaconda3/envs/pyart_env/lib/python3.8/site-packages/pyart/filters/gatefilter.py:460: DeprecationWarning: `np.bool` is a deprecated alias for the builtin `bool`. To silence this warning, use `bool` by itself. Doing this will not modify any behavior and is safe. If you specifically wanted the numpy scalar type, use `np.bool_` here.\n",
      "Deprecated in NumPy 1.20; for more details and guidance: https://numpy.org/devdocs/release/1.20.0-notes.html#deprecations\n",
      "  self._gate_excluded = np.zeros(shape, dtype=np.bool)\n"
     ]
    },
    {
     "name": "stdout",
     "output_type": "stream",
     "text": [
      "Saved grid to KIND_SDUS53_N0RIND_201105012349_grid.nc\n"
     ]
    },
    {
     "name": "stderr",
     "output_type": "stream",
     "text": [
      "/Users/adkchappy/anaconda3/envs/pyart_env/lib/python3.8/site-packages/pyart/map/gates_to_grid.py:160: DeprecationWarning: Barnes weighting function is deprecated. Please use Barnes 2 to be consistent with Pauley and Wu 1990.\n",
      "  warnings.warn(\"Barnes weighting function is deprecated.\"\n",
      "/Users/adkchappy/anaconda3/envs/pyart_env/lib/python3.8/site-packages/pyart/filters/gatefilter.py:460: DeprecationWarning: `np.bool` is a deprecated alias for the builtin `bool`. To silence this warning, use `bool` by itself. Doing this will not modify any behavior and is safe. If you specifically wanted the numpy scalar type, use `np.bool_` here.\n",
      "Deprecated in NumPy 1.20; for more details and guidance: https://numpy.org/devdocs/release/1.20.0-notes.html#deprecations\n",
      "  self._gate_excluded = np.zeros(shape, dtype=np.bool)\n"
     ]
    },
    {
     "name": "stdout",
     "output_type": "stream",
     "text": [
      "Saved grid to KIND_SDUS53_N0RIND_201105010815_grid.nc\n"
     ]
    },
    {
     "name": "stderr",
     "output_type": "stream",
     "text": [
      "/Users/adkchappy/anaconda3/envs/pyart_env/lib/python3.8/site-packages/pyart/map/gates_to_grid.py:160: DeprecationWarning: Barnes weighting function is deprecated. Please use Barnes 2 to be consistent with Pauley and Wu 1990.\n",
      "  warnings.warn(\"Barnes weighting function is deprecated.\"\n",
      "/Users/adkchappy/anaconda3/envs/pyart_env/lib/python3.8/site-packages/pyart/filters/gatefilter.py:460: DeprecationWarning: `np.bool` is a deprecated alias for the builtin `bool`. To silence this warning, use `bool` by itself. Doing this will not modify any behavior and is safe. If you specifically wanted the numpy scalar type, use `np.bool_` here.\n",
      "Deprecated in NumPy 1.20; for more details and guidance: https://numpy.org/devdocs/release/1.20.0-notes.html#deprecations\n",
      "  self._gate_excluded = np.zeros(shape, dtype=np.bool)\n"
     ]
    },
    {
     "name": "stdout",
     "output_type": "stream",
     "text": [
      "Saved grid to KIND_SDUS53_N0RIND_201105012117_grid.nc\n"
     ]
    },
    {
     "name": "stderr",
     "output_type": "stream",
     "text": [
      "/Users/adkchappy/anaconda3/envs/pyart_env/lib/python3.8/site-packages/pyart/map/gates_to_grid.py:160: DeprecationWarning: Barnes weighting function is deprecated. Please use Barnes 2 to be consistent with Pauley and Wu 1990.\n",
      "  warnings.warn(\"Barnes weighting function is deprecated.\"\n",
      "/Users/adkchappy/anaconda3/envs/pyart_env/lib/python3.8/site-packages/pyart/filters/gatefilter.py:460: DeprecationWarning: `np.bool` is a deprecated alias for the builtin `bool`. To silence this warning, use `bool` by itself. Doing this will not modify any behavior and is safe. If you specifically wanted the numpy scalar type, use `np.bool_` here.\n",
      "Deprecated in NumPy 1.20; for more details and guidance: https://numpy.org/devdocs/release/1.20.0-notes.html#deprecations\n",
      "  self._gate_excluded = np.zeros(shape, dtype=np.bool)\n"
     ]
    },
    {
     "name": "stdout",
     "output_type": "stream",
     "text": [
      "Saved grid to KIND_SDUS53_N0RIND_201105011108_grid.nc\n"
     ]
    },
    {
     "name": "stderr",
     "output_type": "stream",
     "text": [
      "/Users/adkchappy/anaconda3/envs/pyart_env/lib/python3.8/site-packages/pyart/map/gates_to_grid.py:160: DeprecationWarning: Barnes weighting function is deprecated. Please use Barnes 2 to be consistent with Pauley and Wu 1990.\n",
      "  warnings.warn(\"Barnes weighting function is deprecated.\"\n",
      "/Users/adkchappy/anaconda3/envs/pyart_env/lib/python3.8/site-packages/pyart/filters/gatefilter.py:460: DeprecationWarning: `np.bool` is a deprecated alias for the builtin `bool`. To silence this warning, use `bool` by itself. Doing this will not modify any behavior and is safe. If you specifically wanted the numpy scalar type, use `np.bool_` here.\n",
      "Deprecated in NumPy 1.20; for more details and guidance: https://numpy.org/devdocs/release/1.20.0-notes.html#deprecations\n",
      "  self._gate_excluded = np.zeros(shape, dtype=np.bool)\n"
     ]
    },
    {
     "name": "stdout",
     "output_type": "stream",
     "text": [
      "Saved grid to KIND_SDUS53_N0RIND_201105010011_grid.nc\n"
     ]
    },
    {
     "name": "stderr",
     "output_type": "stream",
     "text": [
      "/Users/adkchappy/anaconda3/envs/pyart_env/lib/python3.8/site-packages/pyart/map/gates_to_grid.py:160: DeprecationWarning: Barnes weighting function is deprecated. Please use Barnes 2 to be consistent with Pauley and Wu 1990.\n",
      "  warnings.warn(\"Barnes weighting function is deprecated.\"\n",
      "/Users/adkchappy/anaconda3/envs/pyart_env/lib/python3.8/site-packages/pyart/filters/gatefilter.py:460: DeprecationWarning: `np.bool` is a deprecated alias for the builtin `bool`. To silence this warning, use `bool` by itself. Doing this will not modify any behavior and is safe. If you specifically wanted the numpy scalar type, use `np.bool_` here.\n",
      "Deprecated in NumPy 1.20; for more details and guidance: https://numpy.org/devdocs/release/1.20.0-notes.html#deprecations\n",
      "  self._gate_excluded = np.zeros(shape, dtype=np.bool)\n"
     ]
    },
    {
     "name": "stdout",
     "output_type": "stream",
     "text": [
      "Saved grid to KIND_SDUS53_N0RIND_201105010647_grid.nc\n"
     ]
    },
    {
     "name": "stderr",
     "output_type": "stream",
     "text": [
      "/Users/adkchappy/anaconda3/envs/pyart_env/lib/python3.8/site-packages/pyart/map/gates_to_grid.py:160: DeprecationWarning: Barnes weighting function is deprecated. Please use Barnes 2 to be consistent with Pauley and Wu 1990.\n",
      "  warnings.warn(\"Barnes weighting function is deprecated.\"\n",
      "/Users/adkchappy/anaconda3/envs/pyart_env/lib/python3.8/site-packages/pyart/filters/gatefilter.py:460: DeprecationWarning: `np.bool` is a deprecated alias for the builtin `bool`. To silence this warning, use `bool` by itself. Doing this will not modify any behavior and is safe. If you specifically wanted the numpy scalar type, use `np.bool_` here.\n",
      "Deprecated in NumPy 1.20; for more details and guidance: https://numpy.org/devdocs/release/1.20.0-notes.html#deprecations\n",
      "  self._gate_excluded = np.zeros(shape, dtype=np.bool)\n"
     ]
    },
    {
     "name": "stdout",
     "output_type": "stream",
     "text": [
      "Saved grid to KIND_SDUS53_N0RIND_201105011553_grid.nc\n"
     ]
    },
    {
     "name": "stderr",
     "output_type": "stream",
     "text": [
      "/Users/adkchappy/anaconda3/envs/pyart_env/lib/python3.8/site-packages/pyart/map/gates_to_grid.py:160: DeprecationWarning: Barnes weighting function is deprecated. Please use Barnes 2 to be consistent with Pauley and Wu 1990.\n",
      "  warnings.warn(\"Barnes weighting function is deprecated.\"\n",
      "/Users/adkchappy/anaconda3/envs/pyart_env/lib/python3.8/site-packages/pyart/filters/gatefilter.py:460: DeprecationWarning: `np.bool` is a deprecated alias for the builtin `bool`. To silence this warning, use `bool` by itself. Doing this will not modify any behavior and is safe. If you specifically wanted the numpy scalar type, use `np.bool_` here.\n",
      "Deprecated in NumPy 1.20; for more details and guidance: https://numpy.org/devdocs/release/1.20.0-notes.html#deprecations\n",
      "  self._gate_excluded = np.zeros(shape, dtype=np.bool)\n"
     ]
    },
    {
     "name": "stdout",
     "output_type": "stream",
     "text": [
      "Saved grid to KIND_SDUS53_N0RIND_201105012126_grid.nc\n"
     ]
    },
    {
     "name": "stderr",
     "output_type": "stream",
     "text": [
      "/Users/adkchappy/anaconda3/envs/pyart_env/lib/python3.8/site-packages/pyart/map/gates_to_grid.py:160: DeprecationWarning: Barnes weighting function is deprecated. Please use Barnes 2 to be consistent with Pauley and Wu 1990.\n",
      "  warnings.warn(\"Barnes weighting function is deprecated.\"\n",
      "/Users/adkchappy/anaconda3/envs/pyart_env/lib/python3.8/site-packages/pyart/filters/gatefilter.py:460: DeprecationWarning: `np.bool` is a deprecated alias for the builtin `bool`. To silence this warning, use `bool` by itself. Doing this will not modify any behavior and is safe. If you specifically wanted the numpy scalar type, use `np.bool_` here.\n",
      "Deprecated in NumPy 1.20; for more details and guidance: https://numpy.org/devdocs/release/1.20.0-notes.html#deprecations\n",
      "  self._gate_excluded = np.zeros(shape, dtype=np.bool)\n"
     ]
    },
    {
     "name": "stdout",
     "output_type": "stream",
     "text": [
      "Saved grid to KIND_SDUS53_N0RIND_201105011101_grid.nc\n"
     ]
    },
    {
     "name": "stderr",
     "output_type": "stream",
     "text": [
      "/Users/adkchappy/anaconda3/envs/pyart_env/lib/python3.8/site-packages/pyart/map/gates_to_grid.py:160: DeprecationWarning: Barnes weighting function is deprecated. Please use Barnes 2 to be consistent with Pauley and Wu 1990.\n",
      "  warnings.warn(\"Barnes weighting function is deprecated.\"\n",
      "/Users/adkchappy/anaconda3/envs/pyart_env/lib/python3.8/site-packages/pyart/filters/gatefilter.py:460: DeprecationWarning: `np.bool` is a deprecated alias for the builtin `bool`. To silence this warning, use `bool` by itself. Doing this will not modify any behavior and is safe. If you specifically wanted the numpy scalar type, use `np.bool_` here.\n",
      "Deprecated in NumPy 1.20; for more details and guidance: https://numpy.org/devdocs/release/1.20.0-notes.html#deprecations\n",
      "  self._gate_excluded = np.zeros(shape, dtype=np.bool)\n"
     ]
    },
    {
     "name": "stdout",
     "output_type": "stream",
     "text": [
      "Saved grid to KIND_SDUS53_N0RIND_201105011750_grid.nc\n"
     ]
    },
    {
     "name": "stderr",
     "output_type": "stream",
     "text": [
      "/Users/adkchappy/anaconda3/envs/pyart_env/lib/python3.8/site-packages/pyart/map/gates_to_grid.py:160: DeprecationWarning: Barnes weighting function is deprecated. Please use Barnes 2 to be consistent with Pauley and Wu 1990.\n",
      "  warnings.warn(\"Barnes weighting function is deprecated.\"\n",
      "/Users/adkchappy/anaconda3/envs/pyart_env/lib/python3.8/site-packages/pyart/filters/gatefilter.py:460: DeprecationWarning: `np.bool` is a deprecated alias for the builtin `bool`. To silence this warning, use `bool` by itself. Doing this will not modify any behavior and is safe. If you specifically wanted the numpy scalar type, use `np.bool_` here.\n",
      "Deprecated in NumPy 1.20; for more details and guidance: https://numpy.org/devdocs/release/1.20.0-notes.html#deprecations\n",
      "  self._gate_excluded = np.zeros(shape, dtype=np.bool)\n"
     ]
    },
    {
     "name": "stdout",
     "output_type": "stream",
     "text": [
      "Saved grid to KIND_SDUS53_N0RIND_201105012121_grid.nc\n"
     ]
    },
    {
     "name": "stderr",
     "output_type": "stream",
     "text": [
      "/Users/adkchappy/anaconda3/envs/pyart_env/lib/python3.8/site-packages/pyart/map/gates_to_grid.py:160: DeprecationWarning: Barnes weighting function is deprecated. Please use Barnes 2 to be consistent with Pauley and Wu 1990.\n",
      "  warnings.warn(\"Barnes weighting function is deprecated.\"\n",
      "/Users/adkchappy/anaconda3/envs/pyart_env/lib/python3.8/site-packages/pyart/filters/gatefilter.py:460: DeprecationWarning: `np.bool` is a deprecated alias for the builtin `bool`. To silence this warning, use `bool` by itself. Doing this will not modify any behavior and is safe. If you specifically wanted the numpy scalar type, use `np.bool_` here.\n",
      "Deprecated in NumPy 1.20; for more details and guidance: https://numpy.org/devdocs/release/1.20.0-notes.html#deprecations\n",
      "  self._gate_excluded = np.zeros(shape, dtype=np.bool)\n"
     ]
    },
    {
     "name": "stdout",
     "output_type": "stream",
     "text": [
      "Saved grid to KIND_SDUS53_N0RIND_201105011848_grid.nc\n"
     ]
    },
    {
     "name": "stderr",
     "output_type": "stream",
     "text": [
      "/Users/adkchappy/anaconda3/envs/pyart_env/lib/python3.8/site-packages/pyart/map/gates_to_grid.py:160: DeprecationWarning: Barnes weighting function is deprecated. Please use Barnes 2 to be consistent with Pauley and Wu 1990.\n",
      "  warnings.warn(\"Barnes weighting function is deprecated.\"\n",
      "/Users/adkchappy/anaconda3/envs/pyart_env/lib/python3.8/site-packages/pyart/filters/gatefilter.py:460: DeprecationWarning: `np.bool` is a deprecated alias for the builtin `bool`. To silence this warning, use `bool` by itself. Doing this will not modify any behavior and is safe. If you specifically wanted the numpy scalar type, use `np.bool_` here.\n",
      "Deprecated in NumPy 1.20; for more details and guidance: https://numpy.org/devdocs/release/1.20.0-notes.html#deprecations\n",
      "  self._gate_excluded = np.zeros(shape, dtype=np.bool)\n"
     ]
    },
    {
     "name": "stdout",
     "output_type": "stream",
     "text": [
      "Saved grid to KIND_SDUS53_N0RIND_201105011622_grid.nc\n"
     ]
    },
    {
     "name": "stderr",
     "output_type": "stream",
     "text": [
      "/Users/adkchappy/anaconda3/envs/pyart_env/lib/python3.8/site-packages/pyart/map/gates_to_grid.py:160: DeprecationWarning: Barnes weighting function is deprecated. Please use Barnes 2 to be consistent with Pauley and Wu 1990.\n",
      "  warnings.warn(\"Barnes weighting function is deprecated.\"\n",
      "/Users/adkchappy/anaconda3/envs/pyart_env/lib/python3.8/site-packages/pyart/filters/gatefilter.py:460: DeprecationWarning: `np.bool` is a deprecated alias for the builtin `bool`. To silence this warning, use `bool` by itself. Doing this will not modify any behavior and is safe. If you specifically wanted the numpy scalar type, use `np.bool_` here.\n",
      "Deprecated in NumPy 1.20; for more details and guidance: https://numpy.org/devdocs/release/1.20.0-notes.html#deprecations\n",
      "  self._gate_excluded = np.zeros(shape, dtype=np.bool)\n"
     ]
    },
    {
     "name": "stdout",
     "output_type": "stream",
     "text": [
      "Saved grid to KIND_SDUS53_N0RIND_201105011417_grid.nc\n"
     ]
    },
    {
     "name": "stderr",
     "output_type": "stream",
     "text": [
      "/Users/adkchappy/anaconda3/envs/pyart_env/lib/python3.8/site-packages/pyart/map/gates_to_grid.py:160: DeprecationWarning: Barnes weighting function is deprecated. Please use Barnes 2 to be consistent with Pauley and Wu 1990.\n",
      "  warnings.warn(\"Barnes weighting function is deprecated.\"\n",
      "/Users/adkchappy/anaconda3/envs/pyart_env/lib/python3.8/site-packages/pyart/filters/gatefilter.py:460: DeprecationWarning: `np.bool` is a deprecated alias for the builtin `bool`. To silence this warning, use `bool` by itself. Doing this will not modify any behavior and is safe. If you specifically wanted the numpy scalar type, use `np.bool_` here.\n",
      "Deprecated in NumPy 1.20; for more details and guidance: https://numpy.org/devdocs/release/1.20.0-notes.html#deprecations\n",
      "  self._gate_excluded = np.zeros(shape, dtype=np.bool)\n"
     ]
    },
    {
     "name": "stdout",
     "output_type": "stream",
     "text": [
      "Saved grid to KIND_SDUS53_N0RIND_201105011613_grid.nc\n"
     ]
    },
    {
     "name": "stderr",
     "output_type": "stream",
     "text": [
      "/Users/adkchappy/anaconda3/envs/pyart_env/lib/python3.8/site-packages/pyart/map/gates_to_grid.py:160: DeprecationWarning: Barnes weighting function is deprecated. Please use Barnes 2 to be consistent with Pauley and Wu 1990.\n",
      "  warnings.warn(\"Barnes weighting function is deprecated.\"\n",
      "/Users/adkchappy/anaconda3/envs/pyart_env/lib/python3.8/site-packages/pyart/filters/gatefilter.py:460: DeprecationWarning: `np.bool` is a deprecated alias for the builtin `bool`. To silence this warning, use `bool` by itself. Doing this will not modify any behavior and is safe. If you specifically wanted the numpy scalar type, use `np.bool_` here.\n",
      "Deprecated in NumPy 1.20; for more details and guidance: https://numpy.org/devdocs/release/1.20.0-notes.html#deprecations\n",
      "  self._gate_excluded = np.zeros(shape, dtype=np.bool)\n"
     ]
    },
    {
     "name": "stdout",
     "output_type": "stream",
     "text": [
      "Saved grid to KIND_SDUS53_N0RIND_201105010538_grid.nc\n"
     ]
    },
    {
     "name": "stderr",
     "output_type": "stream",
     "text": [
      "/Users/adkchappy/anaconda3/envs/pyart_env/lib/python3.8/site-packages/pyart/map/gates_to_grid.py:160: DeprecationWarning: Barnes weighting function is deprecated. Please use Barnes 2 to be consistent with Pauley and Wu 1990.\n",
      "  warnings.warn(\"Barnes weighting function is deprecated.\"\n",
      "/Users/adkchappy/anaconda3/envs/pyart_env/lib/python3.8/site-packages/pyart/filters/gatefilter.py:460: DeprecationWarning: `np.bool` is a deprecated alias for the builtin `bool`. To silence this warning, use `bool` by itself. Doing this will not modify any behavior and is safe. If you specifically wanted the numpy scalar type, use `np.bool_` here.\n",
      "Deprecated in NumPy 1.20; for more details and guidance: https://numpy.org/devdocs/release/1.20.0-notes.html#deprecations\n",
      "  self._gate_excluded = np.zeros(shape, dtype=np.bool)\n"
     ]
    },
    {
     "name": "stdout",
     "output_type": "stream",
     "text": [
      "Saved grid to KIND_SDUS53_N0RIND_201105010933_grid.nc\n"
     ]
    },
    {
     "name": "stderr",
     "output_type": "stream",
     "text": [
      "/Users/adkchappy/anaconda3/envs/pyart_env/lib/python3.8/site-packages/pyart/map/gates_to_grid.py:160: DeprecationWarning: Barnes weighting function is deprecated. Please use Barnes 2 to be consistent with Pauley and Wu 1990.\n",
      "  warnings.warn(\"Barnes weighting function is deprecated.\"\n",
      "/Users/adkchappy/anaconda3/envs/pyart_env/lib/python3.8/site-packages/pyart/filters/gatefilter.py:460: DeprecationWarning: `np.bool` is a deprecated alias for the builtin `bool`. To silence this warning, use `bool` by itself. Doing this will not modify any behavior and is safe. If you specifically wanted the numpy scalar type, use `np.bool_` here.\n",
      "Deprecated in NumPy 1.20; for more details and guidance: https://numpy.org/devdocs/release/1.20.0-notes.html#deprecations\n",
      "  self._gate_excluded = np.zeros(shape, dtype=np.bool)\n"
     ]
    },
    {
     "name": "stdout",
     "output_type": "stream",
     "text": [
      "Saved grid to KIND_SDUS53_N0RIND_201105011029_grid.nc\n"
     ]
    },
    {
     "name": "stderr",
     "output_type": "stream",
     "text": [
      "/Users/adkchappy/anaconda3/envs/pyart_env/lib/python3.8/site-packages/pyart/map/gates_to_grid.py:160: DeprecationWarning: Barnes weighting function is deprecated. Please use Barnes 2 to be consistent with Pauley and Wu 1990.\n",
      "  warnings.warn(\"Barnes weighting function is deprecated.\"\n",
      "/Users/adkchappy/anaconda3/envs/pyart_env/lib/python3.8/site-packages/pyart/filters/gatefilter.py:460: DeprecationWarning: `np.bool` is a deprecated alias for the builtin `bool`. To silence this warning, use `bool` by itself. Doing this will not modify any behavior and is safe. If you specifically wanted the numpy scalar type, use `np.bool_` here.\n",
      "Deprecated in NumPy 1.20; for more details and guidance: https://numpy.org/devdocs/release/1.20.0-notes.html#deprecations\n",
      "  self._gate_excluded = np.zeros(shape, dtype=np.bool)\n"
     ]
    },
    {
     "name": "stdout",
     "output_type": "stream",
     "text": [
      "Saved grid to KIND_SDUS53_N0RIND_201105011011_grid.nc\n"
     ]
    },
    {
     "name": "stderr",
     "output_type": "stream",
     "text": [
      "/Users/adkchappy/anaconda3/envs/pyart_env/lib/python3.8/site-packages/pyart/map/gates_to_grid.py:160: DeprecationWarning: Barnes weighting function is deprecated. Please use Barnes 2 to be consistent with Pauley and Wu 1990.\n",
      "  warnings.warn(\"Barnes weighting function is deprecated.\"\n",
      "/Users/adkchappy/anaconda3/envs/pyart_env/lib/python3.8/site-packages/pyart/filters/gatefilter.py:460: DeprecationWarning: `np.bool` is a deprecated alias for the builtin `bool`. To silence this warning, use `bool` by itself. Doing this will not modify any behavior and is safe. If you specifically wanted the numpy scalar type, use `np.bool_` here.\n",
      "Deprecated in NumPy 1.20; for more details and guidance: https://numpy.org/devdocs/release/1.20.0-notes.html#deprecations\n",
      "  self._gate_excluded = np.zeros(shape, dtype=np.bool)\n"
     ]
    },
    {
     "name": "stdout",
     "output_type": "stream",
     "text": [
      "Saved grid to KIND_SDUS53_N0RIND_201105011215_grid.nc\n"
     ]
    },
    {
     "name": "stderr",
     "output_type": "stream",
     "text": [
      "/Users/adkchappy/anaconda3/envs/pyart_env/lib/python3.8/site-packages/pyart/map/gates_to_grid.py:160: DeprecationWarning: Barnes weighting function is deprecated. Please use Barnes 2 to be consistent with Pauley and Wu 1990.\n",
      "  warnings.warn(\"Barnes weighting function is deprecated.\"\n",
      "/Users/adkchappy/anaconda3/envs/pyart_env/lib/python3.8/site-packages/pyart/filters/gatefilter.py:460: DeprecationWarning: `np.bool` is a deprecated alias for the builtin `bool`. To silence this warning, use `bool` by itself. Doing this will not modify any behavior and is safe. If you specifically wanted the numpy scalar type, use `np.bool_` here.\n",
      "Deprecated in NumPy 1.20; for more details and guidance: https://numpy.org/devdocs/release/1.20.0-notes.html#deprecations\n",
      "  self._gate_excluded = np.zeros(shape, dtype=np.bool)\n"
     ]
    },
    {
     "name": "stdout",
     "output_type": "stream",
     "text": [
      "Saved grid to KIND_SDUS53_N0RIND_201105010757_grid.nc\n"
     ]
    },
    {
     "name": "stderr",
     "output_type": "stream",
     "text": [
      "/Users/adkchappy/anaconda3/envs/pyart_env/lib/python3.8/site-packages/pyart/map/gates_to_grid.py:160: DeprecationWarning: Barnes weighting function is deprecated. Please use Barnes 2 to be consistent with Pauley and Wu 1990.\n",
      "  warnings.warn(\"Barnes weighting function is deprecated.\"\n",
      "/Users/adkchappy/anaconda3/envs/pyart_env/lib/python3.8/site-packages/pyart/filters/gatefilter.py:460: DeprecationWarning: `np.bool` is a deprecated alias for the builtin `bool`. To silence this warning, use `bool` by itself. Doing this will not modify any behavior and is safe. If you specifically wanted the numpy scalar type, use `np.bool_` here.\n",
      "Deprecated in NumPy 1.20; for more details and guidance: https://numpy.org/devdocs/release/1.20.0-notes.html#deprecations\n",
      "  self._gate_excluded = np.zeros(shape, dtype=np.bool)\n"
     ]
    },
    {
     "name": "stdout",
     "output_type": "stream",
     "text": [
      "Saved grid to KIND_SDUS53_N0RIND_201105012235_grid.nc\n"
     ]
    },
    {
     "name": "stderr",
     "output_type": "stream",
     "text": [
      "/Users/adkchappy/anaconda3/envs/pyart_env/lib/python3.8/site-packages/pyart/map/gates_to_grid.py:160: DeprecationWarning: Barnes weighting function is deprecated. Please use Barnes 2 to be consistent with Pauley and Wu 1990.\n",
      "  warnings.warn(\"Barnes weighting function is deprecated.\"\n",
      "/Users/adkchappy/anaconda3/envs/pyart_env/lib/python3.8/site-packages/pyart/filters/gatefilter.py:460: DeprecationWarning: `np.bool` is a deprecated alias for the builtin `bool`. To silence this warning, use `bool` by itself. Doing this will not modify any behavior and is safe. If you specifically wanted the numpy scalar type, use `np.bool_` here.\n",
      "Deprecated in NumPy 1.20; for more details and guidance: https://numpy.org/devdocs/release/1.20.0-notes.html#deprecations\n",
      "  self._gate_excluded = np.zeros(shape, dtype=np.bool)\n"
     ]
    },
    {
     "name": "stdout",
     "output_type": "stream",
     "text": [
      "Saved grid to KIND_SDUS53_N0RIND_201105011427_grid.nc\n"
     ]
    },
    {
     "name": "stderr",
     "output_type": "stream",
     "text": [
      "/Users/adkchappy/anaconda3/envs/pyart_env/lib/python3.8/site-packages/pyart/map/gates_to_grid.py:160: DeprecationWarning: Barnes weighting function is deprecated. Please use Barnes 2 to be consistent with Pauley and Wu 1990.\n",
      "  warnings.warn(\"Barnes weighting function is deprecated.\"\n",
      "/Users/adkchappy/anaconda3/envs/pyart_env/lib/python3.8/site-packages/pyart/filters/gatefilter.py:460: DeprecationWarning: `np.bool` is a deprecated alias for the builtin `bool`. To silence this warning, use `bool` by itself. Doing this will not modify any behavior and is safe. If you specifically wanted the numpy scalar type, use `np.bool_` here.\n",
      "Deprecated in NumPy 1.20; for more details and guidance: https://numpy.org/devdocs/release/1.20.0-notes.html#deprecations\n",
      "  self._gate_excluded = np.zeros(shape, dtype=np.bool)\n"
     ]
    },
    {
     "name": "stdout",
     "output_type": "stream",
     "text": [
      "Saved grid to KIND_SDUS53_N0RIND_201105011043_grid.nc\n"
     ]
    },
    {
     "name": "stderr",
     "output_type": "stream",
     "text": [
      "/Users/adkchappy/anaconda3/envs/pyart_env/lib/python3.8/site-packages/pyart/map/gates_to_grid.py:160: DeprecationWarning: Barnes weighting function is deprecated. Please use Barnes 2 to be consistent with Pauley and Wu 1990.\n",
      "  warnings.warn(\"Barnes weighting function is deprecated.\"\n",
      "/Users/adkchappy/anaconda3/envs/pyart_env/lib/python3.8/site-packages/pyart/filters/gatefilter.py:460: DeprecationWarning: `np.bool` is a deprecated alias for the builtin `bool`. To silence this warning, use `bool` by itself. Doing this will not modify any behavior and is safe. If you specifically wanted the numpy scalar type, use `np.bool_` here.\n",
      "Deprecated in NumPy 1.20; for more details and guidance: https://numpy.org/devdocs/release/1.20.0-notes.html#deprecations\n",
      "  self._gate_excluded = np.zeros(shape, dtype=np.bool)\n"
     ]
    },
    {
     "name": "stdout",
     "output_type": "stream",
     "text": [
      "Saved grid to KIND_SDUS53_N0RIND_201105010501_grid.nc\n"
     ]
    },
    {
     "name": "stderr",
     "output_type": "stream",
     "text": [
      "/Users/adkchappy/anaconda3/envs/pyart_env/lib/python3.8/site-packages/pyart/map/gates_to_grid.py:160: DeprecationWarning: Barnes weighting function is deprecated. Please use Barnes 2 to be consistent with Pauley and Wu 1990.\n",
      "  warnings.warn(\"Barnes weighting function is deprecated.\"\n",
      "/Users/adkchappy/anaconda3/envs/pyart_env/lib/python3.8/site-packages/pyart/filters/gatefilter.py:460: DeprecationWarning: `np.bool` is a deprecated alias for the builtin `bool`. To silence this warning, use `bool` by itself. Doing this will not modify any behavior and is safe. If you specifically wanted the numpy scalar type, use `np.bool_` here.\n",
      "Deprecated in NumPy 1.20; for more details and guidance: https://numpy.org/devdocs/release/1.20.0-notes.html#deprecations\n",
      "  self._gate_excluded = np.zeros(shape, dtype=np.bool)\n"
     ]
    },
    {
     "name": "stdout",
     "output_type": "stream",
     "text": [
      "Saved grid to KIND_SDUS53_N0RIND_201105010734_grid.nc\n"
     ]
    },
    {
     "name": "stderr",
     "output_type": "stream",
     "text": [
      "/Users/adkchappy/anaconda3/envs/pyart_env/lib/python3.8/site-packages/pyart/map/gates_to_grid.py:160: DeprecationWarning: Barnes weighting function is deprecated. Please use Barnes 2 to be consistent with Pauley and Wu 1990.\n",
      "  warnings.warn(\"Barnes weighting function is deprecated.\"\n",
      "/Users/adkchappy/anaconda3/envs/pyart_env/lib/python3.8/site-packages/pyart/filters/gatefilter.py:460: DeprecationWarning: `np.bool` is a deprecated alias for the builtin `bool`. To silence this warning, use `bool` by itself. Doing this will not modify any behavior and is safe. If you specifically wanted the numpy scalar type, use `np.bool_` here.\n",
      "Deprecated in NumPy 1.20; for more details and guidance: https://numpy.org/devdocs/release/1.20.0-notes.html#deprecations\n",
      "  self._gate_excluded = np.zeros(shape, dtype=np.bool)\n"
     ]
    },
    {
     "name": "stdout",
     "output_type": "stream",
     "text": [
      "Saved grid to KIND_SDUS53_N0RIND_201105011240_grid.nc\n"
     ]
    },
    {
     "name": "stderr",
     "output_type": "stream",
     "text": [
      "/Users/adkchappy/anaconda3/envs/pyart_env/lib/python3.8/site-packages/pyart/map/gates_to_grid.py:160: DeprecationWarning: Barnes weighting function is deprecated. Please use Barnes 2 to be consistent with Pauley and Wu 1990.\n",
      "  warnings.warn(\"Barnes weighting function is deprecated.\"\n",
      "/Users/adkchappy/anaconda3/envs/pyart_env/lib/python3.8/site-packages/pyart/filters/gatefilter.py:460: DeprecationWarning: `np.bool` is a deprecated alias for the builtin `bool`. To silence this warning, use `bool` by itself. Doing this will not modify any behavior and is safe. If you specifically wanted the numpy scalar type, use `np.bool_` here.\n",
      "Deprecated in NumPy 1.20; for more details and guidance: https://numpy.org/devdocs/release/1.20.0-notes.html#deprecations\n",
      "  self._gate_excluded = np.zeros(shape, dtype=np.bool)\n"
     ]
    },
    {
     "name": "stdout",
     "output_type": "stream",
     "text": [
      "Saved grid to KIND_SDUS53_N0RIND_201105012258_grid.nc\n"
     ]
    },
    {
     "name": "stderr",
     "output_type": "stream",
     "text": [
      "/Users/adkchappy/anaconda3/envs/pyart_env/lib/python3.8/site-packages/pyart/map/gates_to_grid.py:160: DeprecationWarning: Barnes weighting function is deprecated. Please use Barnes 2 to be consistent with Pauley and Wu 1990.\n",
      "  warnings.warn(\"Barnes weighting function is deprecated.\"\n",
      "/Users/adkchappy/anaconda3/envs/pyart_env/lib/python3.8/site-packages/pyart/filters/gatefilter.py:460: DeprecationWarning: `np.bool` is a deprecated alias for the builtin `bool`. To silence this warning, use `bool` by itself. Doing this will not modify any behavior and is safe. If you specifically wanted the numpy scalar type, use `np.bool_` here.\n",
      "Deprecated in NumPy 1.20; for more details and guidance: https://numpy.org/devdocs/release/1.20.0-notes.html#deprecations\n",
      "  self._gate_excluded = np.zeros(shape, dtype=np.bool)\n"
     ]
    },
    {
     "name": "stdout",
     "output_type": "stream",
     "text": [
      "Saved grid to KIND_SDUS53_N0RIND_201105011247_grid.nc\n"
     ]
    },
    {
     "name": "stderr",
     "output_type": "stream",
     "text": [
      "/Users/adkchappy/anaconda3/envs/pyart_env/lib/python3.8/site-packages/pyart/map/gates_to_grid.py:160: DeprecationWarning: Barnes weighting function is deprecated. Please use Barnes 2 to be consistent with Pauley and Wu 1990.\n",
      "  warnings.warn(\"Barnes weighting function is deprecated.\"\n",
      "/Users/adkchappy/anaconda3/envs/pyart_env/lib/python3.8/site-packages/pyart/filters/gatefilter.py:460: DeprecationWarning: `np.bool` is a deprecated alias for the builtin `bool`. To silence this warning, use `bool` by itself. Doing this will not modify any behavior and is safe. If you specifically wanted the numpy scalar type, use `np.bool_` here.\n",
      "Deprecated in NumPy 1.20; for more details and guidance: https://numpy.org/devdocs/release/1.20.0-notes.html#deprecations\n",
      "  self._gate_excluded = np.zeros(shape, dtype=np.bool)\n"
     ]
    },
    {
     "name": "stdout",
     "output_type": "stream",
     "text": [
      "Saved grid to KIND_SDUS53_N0RIND_201105010508_grid.nc\n"
     ]
    },
    {
     "name": "stderr",
     "output_type": "stream",
     "text": [
      "/Users/adkchappy/anaconda3/envs/pyart_env/lib/python3.8/site-packages/pyart/map/gates_to_grid.py:160: DeprecationWarning: Barnes weighting function is deprecated. Please use Barnes 2 to be consistent with Pauley and Wu 1990.\n",
      "  warnings.warn(\"Barnes weighting function is deprecated.\"\n",
      "/Users/adkchappy/anaconda3/envs/pyart_env/lib/python3.8/site-packages/pyart/filters/gatefilter.py:460: DeprecationWarning: `np.bool` is a deprecated alias for the builtin `bool`. To silence this warning, use `bool` by itself. Doing this will not modify any behavior and is safe. If you specifically wanted the numpy scalar type, use `np.bool_` here.\n",
      "Deprecated in NumPy 1.20; for more details and guidance: https://numpy.org/devdocs/release/1.20.0-notes.html#deprecations\n",
      "  self._gate_excluded = np.zeros(shape, dtype=np.bool)\n"
     ]
    },
    {
     "name": "stdout",
     "output_type": "stream",
     "text": [
      "Saved grid to KIND_SDUS53_N0RIND_201105010335_grid.nc\n"
     ]
    },
    {
     "name": "stderr",
     "output_type": "stream",
     "text": [
      "/Users/adkchappy/anaconda3/envs/pyart_env/lib/python3.8/site-packages/pyart/map/gates_to_grid.py:160: DeprecationWarning: Barnes weighting function is deprecated. Please use Barnes 2 to be consistent with Pauley and Wu 1990.\n",
      "  warnings.warn(\"Barnes weighting function is deprecated.\"\n",
      "/Users/adkchappy/anaconda3/envs/pyart_env/lib/python3.8/site-packages/pyart/filters/gatefilter.py:460: DeprecationWarning: `np.bool` is a deprecated alias for the builtin `bool`. To silence this warning, use `bool` by itself. Doing this will not modify any behavior and is safe. If you specifically wanted the numpy scalar type, use `np.bool_` here.\n",
      "Deprecated in NumPy 1.20; for more details and guidance: https://numpy.org/devdocs/release/1.20.0-notes.html#deprecations\n",
      "  self._gate_excluded = np.zeros(shape, dtype=np.bool)\n"
     ]
    },
    {
     "name": "stdout",
     "output_type": "stream",
     "text": [
      "Saved grid to KIND_SDUS53_N0RIND_201105011019_grid.nc\n"
     ]
    },
    {
     "name": "stderr",
     "output_type": "stream",
     "text": [
      "/Users/adkchappy/anaconda3/envs/pyart_env/lib/python3.8/site-packages/pyart/map/gates_to_grid.py:160: DeprecationWarning: Barnes weighting function is deprecated. Please use Barnes 2 to be consistent with Pauley and Wu 1990.\n",
      "  warnings.warn(\"Barnes weighting function is deprecated.\"\n",
      "/Users/adkchappy/anaconda3/envs/pyart_env/lib/python3.8/site-packages/pyart/filters/gatefilter.py:460: DeprecationWarning: `np.bool` is a deprecated alias for the builtin `bool`. To silence this warning, use `bool` by itself. Doing this will not modify any behavior and is safe. If you specifically wanted the numpy scalar type, use `np.bool_` here.\n",
      "Deprecated in NumPy 1.20; for more details and guidance: https://numpy.org/devdocs/release/1.20.0-notes.html#deprecations\n",
      "  self._gate_excluded = np.zeros(shape, dtype=np.bool)\n"
     ]
    },
    {
     "name": "stdout",
     "output_type": "stream",
     "text": [
      "Saved grid to KIND_SDUS53_N0RIND_201105010332_grid.nc\n"
     ]
    },
    {
     "name": "stderr",
     "output_type": "stream",
     "text": [
      "/Users/adkchappy/anaconda3/envs/pyart_env/lib/python3.8/site-packages/pyart/map/gates_to_grid.py:160: DeprecationWarning: Barnes weighting function is deprecated. Please use Barnes 2 to be consistent with Pauley and Wu 1990.\n",
      "  warnings.warn(\"Barnes weighting function is deprecated.\"\n",
      "/Users/adkchappy/anaconda3/envs/pyart_env/lib/python3.8/site-packages/pyart/filters/gatefilter.py:460: DeprecationWarning: `np.bool` is a deprecated alias for the builtin `bool`. To silence this warning, use `bool` by itself. Doing this will not modify any behavior and is safe. If you specifically wanted the numpy scalar type, use `np.bool_` here.\n",
      "Deprecated in NumPy 1.20; for more details and guidance: https://numpy.org/devdocs/release/1.20.0-notes.html#deprecations\n",
      "  self._gate_excluded = np.zeros(shape, dtype=np.bool)\n"
     ]
    },
    {
     "name": "stdout",
     "output_type": "stream",
     "text": [
      "Saved grid to KIND_SDUS53_N0RIND_201105011026_grid.nc\n"
     ]
    },
    {
     "name": "stderr",
     "output_type": "stream",
     "text": [
      "/Users/adkchappy/anaconda3/envs/pyart_env/lib/python3.8/site-packages/pyart/map/gates_to_grid.py:160: DeprecationWarning: Barnes weighting function is deprecated. Please use Barnes 2 to be consistent with Pauley and Wu 1990.\n",
      "  warnings.warn(\"Barnes weighting function is deprecated.\"\n",
      "/Users/adkchappy/anaconda3/envs/pyart_env/lib/python3.8/site-packages/pyart/filters/gatefilter.py:460: DeprecationWarning: `np.bool` is a deprecated alias for the builtin `bool`. To silence this warning, use `bool` by itself. Doing this will not modify any behavior and is safe. If you specifically wanted the numpy scalar type, use `np.bool_` here.\n",
      "Deprecated in NumPy 1.20; for more details and guidance: https://numpy.org/devdocs/release/1.20.0-notes.html#deprecations\n",
      "  self._gate_excluded = np.zeros(shape, dtype=np.bool)\n"
     ]
    },
    {
     "name": "stdout",
     "output_type": "stream",
     "text": [
      "Saved grid to KIND_SDUS53_N0RIND_201105012205_grid.nc\n"
     ]
    },
    {
     "name": "stderr",
     "output_type": "stream",
     "text": [
      "/Users/adkchappy/anaconda3/envs/pyart_env/lib/python3.8/site-packages/pyart/map/gates_to_grid.py:160: DeprecationWarning: Barnes weighting function is deprecated. Please use Barnes 2 to be consistent with Pauley and Wu 1990.\n",
      "  warnings.warn(\"Barnes weighting function is deprecated.\"\n",
      "/Users/adkchappy/anaconda3/envs/pyart_env/lib/python3.8/site-packages/pyart/filters/gatefilter.py:460: DeprecationWarning: `np.bool` is a deprecated alias for the builtin `bool`. To silence this warning, use `bool` by itself. Doing this will not modify any behavior and is safe. If you specifically wanted the numpy scalar type, use `np.bool_` here.\n",
      "Deprecated in NumPy 1.20; for more details and guidance: https://numpy.org/devdocs/release/1.20.0-notes.html#deprecations\n",
      "  self._gate_excluded = np.zeros(shape, dtype=np.bool)\n"
     ]
    },
    {
     "name": "stdout",
     "output_type": "stream",
     "text": [
      "Saved grid to KIND_SDUS53_N0RIND_201105010552_grid.nc\n"
     ]
    },
    {
     "name": "stderr",
     "output_type": "stream",
     "text": [
      "/Users/adkchappy/anaconda3/envs/pyart_env/lib/python3.8/site-packages/pyart/map/gates_to_grid.py:160: DeprecationWarning: Barnes weighting function is deprecated. Please use Barnes 2 to be consistent with Pauley and Wu 1990.\n",
      "  warnings.warn(\"Barnes weighting function is deprecated.\"\n",
      "/Users/adkchappy/anaconda3/envs/pyart_env/lib/python3.8/site-packages/pyart/filters/gatefilter.py:460: DeprecationWarning: `np.bool` is a deprecated alias for the builtin `bool`. To silence this warning, use `bool` by itself. Doing this will not modify any behavior and is safe. If you specifically wanted the numpy scalar type, use `np.bool_` here.\n",
      "Deprecated in NumPy 1.20; for more details and guidance: https://numpy.org/devdocs/release/1.20.0-notes.html#deprecations\n",
      "  self._gate_excluded = np.zeros(shape, dtype=np.bool)\n"
     ]
    },
    {
     "name": "stdout",
     "output_type": "stream",
     "text": [
      "Saved grid to KIND_SDUS53_N0RIND_201105011222_grid.nc\n"
     ]
    },
    {
     "name": "stderr",
     "output_type": "stream",
     "text": [
      "/Users/adkchappy/anaconda3/envs/pyart_env/lib/python3.8/site-packages/pyart/map/gates_to_grid.py:160: DeprecationWarning: Barnes weighting function is deprecated. Please use Barnes 2 to be consistent with Pauley and Wu 1990.\n",
      "  warnings.warn(\"Barnes weighting function is deprecated.\"\n",
      "/Users/adkchappy/anaconda3/envs/pyart_env/lib/python3.8/site-packages/pyart/filters/gatefilter.py:460: DeprecationWarning: `np.bool` is a deprecated alias for the builtin `bool`. To silence this warning, use `bool` by itself. Doing this will not modify any behavior and is safe. If you specifically wanted the numpy scalar type, use `np.bool_` here.\n",
      "Deprecated in NumPy 1.20; for more details and guidance: https://numpy.org/devdocs/release/1.20.0-notes.html#deprecations\n",
      "  self._gate_excluded = np.zeros(shape, dtype=np.bool)\n"
     ]
    },
    {
     "name": "stdout",
     "output_type": "stream",
     "text": [
      "Saved grid to KIND_SDUS53_N0RIND_201105011225_grid.nc\n"
     ]
    },
    {
     "name": "stderr",
     "output_type": "stream",
     "text": [
      "/Users/adkchappy/anaconda3/envs/pyart_env/lib/python3.8/site-packages/pyart/map/gates_to_grid.py:160: DeprecationWarning: Barnes weighting function is deprecated. Please use Barnes 2 to be consistent with Pauley and Wu 1990.\n",
      "  warnings.warn(\"Barnes weighting function is deprecated.\"\n",
      "/Users/adkchappy/anaconda3/envs/pyart_env/lib/python3.8/site-packages/pyart/filters/gatefilter.py:460: DeprecationWarning: `np.bool` is a deprecated alias for the builtin `bool`. To silence this warning, use `bool` by itself. Doing this will not modify any behavior and is safe. If you specifically wanted the numpy scalar type, use `np.bool_` here.\n",
      "Deprecated in NumPy 1.20; for more details and guidance: https://numpy.org/devdocs/release/1.20.0-notes.html#deprecations\n",
      "  self._gate_excluded = np.zeros(shape, dtype=np.bool)\n"
     ]
    },
    {
     "name": "stdout",
     "output_type": "stream",
     "text": [
      "Saved grid to KIND_SDUS53_N0RIND_201105011857_grid.nc\n"
     ]
    },
    {
     "name": "stderr",
     "output_type": "stream",
     "text": [
      "/Users/adkchappy/anaconda3/envs/pyart_env/lib/python3.8/site-packages/pyart/map/gates_to_grid.py:160: DeprecationWarning: Barnes weighting function is deprecated. Please use Barnes 2 to be consistent with Pauley and Wu 1990.\n",
      "  warnings.warn(\"Barnes weighting function is deprecated.\"\n",
      "/Users/adkchappy/anaconda3/envs/pyart_env/lib/python3.8/site-packages/pyart/filters/gatefilter.py:460: DeprecationWarning: `np.bool` is a deprecated alias for the builtin `bool`. To silence this warning, use `bool` by itself. Doing this will not modify any behavior and is safe. If you specifically wanted the numpy scalar type, use `np.bool_` here.\n",
      "Deprecated in NumPy 1.20; for more details and guidance: https://numpy.org/devdocs/release/1.20.0-notes.html#deprecations\n",
      "  self._gate_excluded = np.zeros(shape, dtype=np.bool)\n"
     ]
    },
    {
     "name": "stdout",
     "output_type": "stream",
     "text": [
      "Saved grid to KIND_SDUS53_N0RIND_201105010529_grid.nc\n"
     ]
    },
    {
     "name": "stderr",
     "output_type": "stream",
     "text": [
      "/Users/adkchappy/anaconda3/envs/pyart_env/lib/python3.8/site-packages/pyart/map/gates_to_grid.py:160: DeprecationWarning: Barnes weighting function is deprecated. Please use Barnes 2 to be consistent with Pauley and Wu 1990.\n",
      "  warnings.warn(\"Barnes weighting function is deprecated.\"\n",
      "/Users/adkchappy/anaconda3/envs/pyart_env/lib/python3.8/site-packages/pyart/filters/gatefilter.py:460: DeprecationWarning: `np.bool` is a deprecated alias for the builtin `bool`. To silence this warning, use `bool` by itself. Doing this will not modify any behavior and is safe. If you specifically wanted the numpy scalar type, use `np.bool_` here.\n",
      "Deprecated in NumPy 1.20; for more details and guidance: https://numpy.org/devdocs/release/1.20.0-notes.html#deprecations\n",
      "  self._gate_excluded = np.zeros(shape, dtype=np.bool)\n"
     ]
    },
    {
     "name": "stdout",
     "output_type": "stream",
     "text": [
      "Saved grid to KIND_SDUS53_N0RIND_201105011054_grid.nc\n"
     ]
    },
    {
     "name": "stderr",
     "output_type": "stream",
     "text": [
      "/Users/adkchappy/anaconda3/envs/pyart_env/lib/python3.8/site-packages/pyart/map/gates_to_grid.py:160: DeprecationWarning: Barnes weighting function is deprecated. Please use Barnes 2 to be consistent with Pauley and Wu 1990.\n",
      "  warnings.warn(\"Barnes weighting function is deprecated.\"\n",
      "/Users/adkchappy/anaconda3/envs/pyart_env/lib/python3.8/site-packages/pyart/filters/gatefilter.py:460: DeprecationWarning: `np.bool` is a deprecated alias for the builtin `bool`. To silence this warning, use `bool` by itself. Doing this will not modify any behavior and is safe. If you specifically wanted the numpy scalar type, use `np.bool_` here.\n",
      "Deprecated in NumPy 1.20; for more details and guidance: https://numpy.org/devdocs/release/1.20.0-notes.html#deprecations\n",
      "  self._gate_excluded = np.zeros(shape, dtype=np.bool)\n"
     ]
    },
    {
     "name": "stdout",
     "output_type": "stream",
     "text": [
      "Saved grid to KIND_SDUS53_N0RIND_201105010724_grid.nc\n"
     ]
    },
    {
     "name": "stderr",
     "output_type": "stream",
     "text": [
      "/Users/adkchappy/anaconda3/envs/pyart_env/lib/python3.8/site-packages/pyart/map/gates_to_grid.py:160: DeprecationWarning: Barnes weighting function is deprecated. Please use Barnes 2 to be consistent with Pauley and Wu 1990.\n",
      "  warnings.warn(\"Barnes weighting function is deprecated.\"\n",
      "/Users/adkchappy/anaconda3/envs/pyart_env/lib/python3.8/site-packages/pyart/filters/gatefilter.py:460: DeprecationWarning: `np.bool` is a deprecated alias for the builtin `bool`. To silence this warning, use `bool` by itself. Doing this will not modify any behavior and is safe. If you specifically wanted the numpy scalar type, use `np.bool_` here.\n",
      "Deprecated in NumPy 1.20; for more details and guidance: https://numpy.org/devdocs/release/1.20.0-notes.html#deprecations\n",
      "  self._gate_excluded = np.zeros(shape, dtype=np.bool)\n"
     ]
    },
    {
     "name": "stdout",
     "output_type": "stream",
     "text": [
      "Saved grid to KIND_SDUS53_N0RIND_201105010947_grid.nc\n"
     ]
    },
    {
     "name": "stderr",
     "output_type": "stream",
     "text": [
      "/Users/adkchappy/anaconda3/envs/pyart_env/lib/python3.8/site-packages/pyart/map/gates_to_grid.py:160: DeprecationWarning: Barnes weighting function is deprecated. Please use Barnes 2 to be consistent with Pauley and Wu 1990.\n",
      "  warnings.warn(\"Barnes weighting function is deprecated.\"\n",
      "/Users/adkchappy/anaconda3/envs/pyart_env/lib/python3.8/site-packages/pyart/filters/gatefilter.py:460: DeprecationWarning: `np.bool` is a deprecated alias for the builtin `bool`. To silence this warning, use `bool` by itself. Doing this will not modify any behavior and is safe. If you specifically wanted the numpy scalar type, use `np.bool_` here.\n",
      "Deprecated in NumPy 1.20; for more details and guidance: https://numpy.org/devdocs/release/1.20.0-notes.html#deprecations\n",
      "  self._gate_excluded = np.zeros(shape, dtype=np.bool)\n"
     ]
    },
    {
     "name": "stdout",
     "output_type": "stream",
     "text": [
      "Saved grid to KIND_SDUS53_N0RIND_201105011250_grid.nc\n"
     ]
    },
    {
     "name": "stderr",
     "output_type": "stream",
     "text": [
      "/Users/adkchappy/anaconda3/envs/pyart_env/lib/python3.8/site-packages/pyart/map/gates_to_grid.py:160: DeprecationWarning: Barnes weighting function is deprecated. Please use Barnes 2 to be consistent with Pauley and Wu 1990.\n",
      "  warnings.warn(\"Barnes weighting function is deprecated.\"\n",
      "/Users/adkchappy/anaconda3/envs/pyart_env/lib/python3.8/site-packages/pyart/filters/gatefilter.py:460: DeprecationWarning: `np.bool` is a deprecated alias for the builtin `bool`. To silence this warning, use `bool` by itself. Doing this will not modify any behavior and is safe. If you specifically wanted the numpy scalar type, use `np.bool_` here.\n",
      "Deprecated in NumPy 1.20; for more details and guidance: https://numpy.org/devdocs/release/1.20.0-notes.html#deprecations\n",
      "  self._gate_excluded = np.zeros(shape, dtype=np.bool)\n"
     ]
    },
    {
     "name": "stdout",
     "output_type": "stream",
     "text": [
      "Saved grid to KIND_SDUS53_N0RIND_201105010715_grid.nc\n"
     ]
    },
    {
     "name": "stderr",
     "output_type": "stream",
     "text": [
      "/Users/adkchappy/anaconda3/envs/pyart_env/lib/python3.8/site-packages/pyart/map/gates_to_grid.py:160: DeprecationWarning: Barnes weighting function is deprecated. Please use Barnes 2 to be consistent with Pauley and Wu 1990.\n",
      "  warnings.warn(\"Barnes weighting function is deprecated.\"\n",
      "/Users/adkchappy/anaconda3/envs/pyart_env/lib/python3.8/site-packages/pyart/filters/gatefilter.py:460: DeprecationWarning: `np.bool` is a deprecated alias for the builtin `bool`. To silence this warning, use `bool` by itself. Doing this will not modify any behavior and is safe. If you specifically wanted the numpy scalar type, use `np.bool_` here.\n",
      "Deprecated in NumPy 1.20; for more details and guidance: https://numpy.org/devdocs/release/1.20.0-notes.html#deprecations\n",
      "  self._gate_excluded = np.zeros(shape, dtype=np.bool)\n"
     ]
    },
    {
     "name": "stdout",
     "output_type": "stream",
     "text": [
      "Saved grid to KIND_SDUS53_N0RIND_201105011633_grid.nc\n"
     ]
    },
    {
     "name": "stderr",
     "output_type": "stream",
     "text": [
      "/Users/adkchappy/anaconda3/envs/pyart_env/lib/python3.8/site-packages/pyart/map/gates_to_grid.py:160: DeprecationWarning: Barnes weighting function is deprecated. Please use Barnes 2 to be consistent with Pauley and Wu 1990.\n",
      "  warnings.warn(\"Barnes weighting function is deprecated.\"\n",
      "/Users/adkchappy/anaconda3/envs/pyart_env/lib/python3.8/site-packages/pyart/filters/gatefilter.py:460: DeprecationWarning: `np.bool` is a deprecated alias for the builtin `bool`. To silence this warning, use `bool` by itself. Doing this will not modify any behavior and is safe. If you specifically wanted the numpy scalar type, use `np.bool_` here.\n",
      "Deprecated in NumPy 1.20; for more details and guidance: https://numpy.org/devdocs/release/1.20.0-notes.html#deprecations\n",
      "  self._gate_excluded = np.zeros(shape, dtype=np.bool)\n"
     ]
    },
    {
     "name": "stdout",
     "output_type": "stream",
     "text": [
      "Saved grid to KIND_SDUS53_N0RIND_201105011257_grid.nc\n"
     ]
    },
    {
     "name": "stderr",
     "output_type": "stream",
     "text": [
      "/Users/adkchappy/anaconda3/envs/pyart_env/lib/python3.8/site-packages/pyart/map/gates_to_grid.py:160: DeprecationWarning: Barnes weighting function is deprecated. Please use Barnes 2 to be consistent with Pauley and Wu 1990.\n",
      "  warnings.warn(\"Barnes weighting function is deprecated.\"\n",
      "/Users/adkchappy/anaconda3/envs/pyart_env/lib/python3.8/site-packages/pyart/filters/gatefilter.py:460: DeprecationWarning: `np.bool` is a deprecated alias for the builtin `bool`. To silence this warning, use `bool` by itself. Doing this will not modify any behavior and is safe. If you specifically wanted the numpy scalar type, use `np.bool_` here.\n",
      "Deprecated in NumPy 1.20; for more details and guidance: https://numpy.org/devdocs/release/1.20.0-notes.html#deprecations\n",
      "  self._gate_excluded = np.zeros(shape, dtype=np.bool)\n"
     ]
    },
    {
     "name": "stdout",
     "output_type": "stream",
     "text": [
      "Saved grid to KIND_SDUS53_N0RIND_201105011036_grid.nc\n"
     ]
    },
    {
     "name": "stderr",
     "output_type": "stream",
     "text": [
      "/Users/adkchappy/anaconda3/envs/pyart_env/lib/python3.8/site-packages/pyart/map/gates_to_grid.py:160: DeprecationWarning: Barnes weighting function is deprecated. Please use Barnes 2 to be consistent with Pauley and Wu 1990.\n",
      "  warnings.warn(\"Barnes weighting function is deprecated.\"\n",
      "/Users/adkchappy/anaconda3/envs/pyart_env/lib/python3.8/site-packages/pyart/filters/gatefilter.py:460: DeprecationWarning: `np.bool` is a deprecated alias for the builtin `bool`. To silence this warning, use `bool` by itself. Doing this will not modify any behavior and is safe. If you specifically wanted the numpy scalar type, use `np.bool_` here.\n",
      "Deprecated in NumPy 1.20; for more details and guidance: https://numpy.org/devdocs/release/1.20.0-notes.html#deprecations\n",
      "  self._gate_excluded = np.zeros(shape, dtype=np.bool)\n"
     ]
    },
    {
     "name": "stdout",
     "output_type": "stream",
     "text": [
      "Saved grid to KIND_SDUS53_N0RIND_201105011204_grid.nc\n"
     ]
    },
    {
     "name": "stderr",
     "output_type": "stream",
     "text": [
      "/Users/adkchappy/anaconda3/envs/pyart_env/lib/python3.8/site-packages/pyart/map/gates_to_grid.py:160: DeprecationWarning: Barnes weighting function is deprecated. Please use Barnes 2 to be consistent with Pauley and Wu 1990.\n",
      "  warnings.warn(\"Barnes weighting function is deprecated.\"\n",
      "/Users/adkchappy/anaconda3/envs/pyart_env/lib/python3.8/site-packages/pyart/filters/gatefilter.py:460: DeprecationWarning: `np.bool` is a deprecated alias for the builtin `bool`. To silence this warning, use `bool` by itself. Doing this will not modify any behavior and is safe. If you specifically wanted the numpy scalar type, use `np.bool_` here.\n",
      "Deprecated in NumPy 1.20; for more details and guidance: https://numpy.org/devdocs/release/1.20.0-notes.html#deprecations\n",
      "  self._gate_excluded = np.zeros(shape, dtype=np.bool)\n"
     ]
    },
    {
     "name": "stdout",
     "output_type": "stream",
     "text": [
      "Saved grid to KIND_SDUS53_N0RIND_201105011000_grid.nc\n"
     ]
    },
    {
     "name": "stderr",
     "output_type": "stream",
     "text": [
      "/Users/adkchappy/anaconda3/envs/pyart_env/lib/python3.8/site-packages/pyart/map/gates_to_grid.py:160: DeprecationWarning: Barnes weighting function is deprecated. Please use Barnes 2 to be consistent with Pauley and Wu 1990.\n",
      "  warnings.warn(\"Barnes weighting function is deprecated.\"\n",
      "/Users/adkchappy/anaconda3/envs/pyart_env/lib/python3.8/site-packages/pyart/filters/gatefilter.py:460: DeprecationWarning: `np.bool` is a deprecated alias for the builtin `bool`. To silence this warning, use `bool` by itself. Doing this will not modify any behavior and is safe. If you specifically wanted the numpy scalar type, use `np.bool_` here.\n",
      "Deprecated in NumPy 1.20; for more details and guidance: https://numpy.org/devdocs/release/1.20.0-notes.html#deprecations\n",
      "  self._gate_excluded = np.zeros(shape, dtype=np.bool)\n"
     ]
    },
    {
     "name": "stdout",
     "output_type": "stream",
     "text": [
      "Saved grid to KIND_SDUS53_N0RIND_201105012215_grid.nc\n"
     ]
    },
    {
     "name": "stderr",
     "output_type": "stream",
     "text": [
      "/Users/adkchappy/anaconda3/envs/pyart_env/lib/python3.8/site-packages/pyart/map/gates_to_grid.py:160: DeprecationWarning: Barnes weighting function is deprecated. Please use Barnes 2 to be consistent with Pauley and Wu 1990.\n",
      "  warnings.warn(\"Barnes weighting function is deprecated.\"\n",
      "/Users/adkchappy/anaconda3/envs/pyart_env/lib/python3.8/site-packages/pyart/filters/gatefilter.py:460: DeprecationWarning: `np.bool` is a deprecated alias for the builtin `bool`. To silence this warning, use `bool` by itself. Doing this will not modify any behavior and is safe. If you specifically wanted the numpy scalar type, use `np.bool_` here.\n",
      "Deprecated in NumPy 1.20; for more details and guidance: https://numpy.org/devdocs/release/1.20.0-notes.html#deprecations\n",
      "  self._gate_excluded = np.zeros(shape, dtype=np.bool)\n"
     ]
    },
    {
     "name": "stdout",
     "output_type": "stream",
     "text": [
      "Saved grid to KIND_SDUS53_N0RIND_201105012212_grid.nc\n"
     ]
    },
    {
     "name": "stderr",
     "output_type": "stream",
     "text": [
      "/Users/adkchappy/anaconda3/envs/pyart_env/lib/python3.8/site-packages/pyart/map/gates_to_grid.py:160: DeprecationWarning: Barnes weighting function is deprecated. Please use Barnes 2 to be consistent with Pauley and Wu 1990.\n",
      "  warnings.warn(\"Barnes weighting function is deprecated.\"\n",
      "/Users/adkchappy/anaconda3/envs/pyart_env/lib/python3.8/site-packages/pyart/filters/gatefilter.py:460: DeprecationWarning: `np.bool` is a deprecated alias for the builtin `bool`. To silence this warning, use `bool` by itself. Doing this will not modify any behavior and is safe. If you specifically wanted the numpy scalar type, use `np.bool_` here.\n",
      "Deprecated in NumPy 1.20; for more details and guidance: https://numpy.org/devdocs/release/1.20.0-notes.html#deprecations\n",
      "  self._gate_excluded = np.zeros(shape, dtype=np.bool)\n"
     ]
    },
    {
     "name": "stdout",
     "output_type": "stream",
     "text": [
      "Saved grid to KIND_SDUS53_N0RIND_201105011007_grid.nc\n"
     ]
    },
    {
     "name": "stderr",
     "output_type": "stream",
     "text": [
      "/Users/adkchappy/anaconda3/envs/pyart_env/lib/python3.8/site-packages/pyart/map/gates_to_grid.py:160: DeprecationWarning: Barnes weighting function is deprecated. Please use Barnes 2 to be consistent with Pauley and Wu 1990.\n",
      "  warnings.warn(\"Barnes weighting function is deprecated.\"\n",
      "/Users/adkchappy/anaconda3/envs/pyart_env/lib/python3.8/site-packages/pyart/filters/gatefilter.py:460: DeprecationWarning: `np.bool` is a deprecated alias for the builtin `bool`. To silence this warning, use `bool` by itself. Doing this will not modify any behavior and is safe. If you specifically wanted the numpy scalar type, use `np.bool_` here.\n",
      "Deprecated in NumPy 1.20; for more details and guidance: https://numpy.org/devdocs/release/1.20.0-notes.html#deprecations\n",
      "  self._gate_excluded = np.zeros(shape, dtype=np.bool)\n"
     ]
    },
    {
     "name": "stdout",
     "output_type": "stream",
     "text": [
      "Saved grid to KIND_SDUS53_N0RIND_201105012249_grid.nc\n"
     ]
    },
    {
     "name": "stderr",
     "output_type": "stream",
     "text": [
      "/Users/adkchappy/anaconda3/envs/pyart_env/lib/python3.8/site-packages/pyart/map/gates_to_grid.py:160: DeprecationWarning: Barnes weighting function is deprecated. Please use Barnes 2 to be consistent with Pauley and Wu 1990.\n",
      "  warnings.warn(\"Barnes weighting function is deprecated.\"\n",
      "/Users/adkchappy/anaconda3/envs/pyart_env/lib/python3.8/site-packages/pyart/filters/gatefilter.py:460: DeprecationWarning: `np.bool` is a deprecated alias for the builtin `bool`. To silence this warning, use `bool` by itself. Doing this will not modify any behavior and is safe. If you specifically wanted the numpy scalar type, use `np.bool_` here.\n",
      "Deprecated in NumPy 1.20; for more details and guidance: https://numpy.org/devdocs/release/1.20.0-notes.html#deprecations\n",
      "  self._gate_excluded = np.zeros(shape, dtype=np.bool)\n"
     ]
    },
    {
     "name": "stdout",
     "output_type": "stream",
     "text": [
      "Saved grid to KIND_SDUS53_N0RIND_201105010521_grid.nc\n"
     ]
    },
    {
     "name": "stderr",
     "output_type": "stream",
     "text": [
      "/Users/adkchappy/anaconda3/envs/pyart_env/lib/python3.8/site-packages/pyart/map/gates_to_grid.py:160: DeprecationWarning: Barnes weighting function is deprecated. Please use Barnes 2 to be consistent with Pauley and Wu 1990.\n",
      "  warnings.warn(\"Barnes weighting function is deprecated.\"\n",
      "/Users/adkchappy/anaconda3/envs/pyart_env/lib/python3.8/site-packages/pyart/filters/gatefilter.py:460: DeprecationWarning: `np.bool` is a deprecated alias for the builtin `bool`. To silence this warning, use `bool` by itself. Doing this will not modify any behavior and is safe. If you specifically wanted the numpy scalar type, use `np.bool_` here.\n",
      "Deprecated in NumPy 1.20; for more details and guidance: https://numpy.org/devdocs/release/1.20.0-notes.html#deprecations\n",
      "  self._gate_excluded = np.zeros(shape, dtype=np.bool)\n"
     ]
    },
    {
     "name": "stdout",
     "output_type": "stream",
     "text": [
      "Saved grid to KIND_SDUS53_N0RIND_201105011407_grid.nc\n"
     ]
    },
    {
     "name": "stderr",
     "output_type": "stream",
     "text": [
      "/Users/adkchappy/anaconda3/envs/pyart_env/lib/python3.8/site-packages/pyart/map/gates_to_grid.py:160: DeprecationWarning: Barnes weighting function is deprecated. Please use Barnes 2 to be consistent with Pauley and Wu 1990.\n",
      "  warnings.warn(\"Barnes weighting function is deprecated.\"\n",
      "/Users/adkchappy/anaconda3/envs/pyart_env/lib/python3.8/site-packages/pyart/filters/gatefilter.py:460: DeprecationWarning: `np.bool` is a deprecated alias for the builtin `bool`. To silence this warning, use `bool` by itself. Doing this will not modify any behavior and is safe. If you specifically wanted the numpy scalar type, use `np.bool_` here.\n",
      "Deprecated in NumPy 1.20; for more details and guidance: https://numpy.org/devdocs/release/1.20.0-notes.html#deprecations\n",
      "  self._gate_excluded = np.zeros(shape, dtype=np.bool)\n"
     ]
    },
    {
     "name": "stdout",
     "output_type": "stream",
     "text": [
      "Saved grid to KIND_SDUS53_N0RIND_201105012240_grid.nc\n"
     ]
    },
    {
     "name": "stderr",
     "output_type": "stream",
     "text": [
      "/Users/adkchappy/anaconda3/envs/pyart_env/lib/python3.8/site-packages/pyart/map/gates_to_grid.py:160: DeprecationWarning: Barnes weighting function is deprecated. Please use Barnes 2 to be consistent with Pauley and Wu 1990.\n",
      "  warnings.warn(\"Barnes weighting function is deprecated.\"\n",
      "/Users/adkchappy/anaconda3/envs/pyart_env/lib/python3.8/site-packages/pyart/filters/gatefilter.py:460: DeprecationWarning: `np.bool` is a deprecated alias for the builtin `bool`. To silence this warning, use `bool` by itself. Doing this will not modify any behavior and is safe. If you specifically wanted the numpy scalar type, use `np.bool_` here.\n",
      "Deprecated in NumPy 1.20; for more details and guidance: https://numpy.org/devdocs/release/1.20.0-notes.html#deprecations\n",
      "  self._gate_excluded = np.zeros(shape, dtype=np.bool)\n"
     ]
    },
    {
     "name": "stdout",
     "output_type": "stream",
     "text": [
      "Saved grid to KIND_SDUS53_N0RIND_201105010517_grid.nc\n"
     ]
    },
    {
     "name": "stderr",
     "output_type": "stream",
     "text": [
      "/Users/adkchappy/anaconda3/envs/pyart_env/lib/python3.8/site-packages/pyart/map/gates_to_grid.py:160: DeprecationWarning: Barnes weighting function is deprecated. Please use Barnes 2 to be consistent with Pauley and Wu 1990.\n",
      "  warnings.warn(\"Barnes weighting function is deprecated.\"\n",
      "/Users/adkchappy/anaconda3/envs/pyart_env/lib/python3.8/site-packages/pyart/filters/gatefilter.py:460: DeprecationWarning: `np.bool` is a deprecated alias for the builtin `bool`. To silence this warning, use `bool` by itself. Doing this will not modify any behavior and is safe. If you specifically wanted the numpy scalar type, use `np.bool_` here.\n",
      "Deprecated in NumPy 1.20; for more details and guidance: https://numpy.org/devdocs/release/1.20.0-notes.html#deprecations\n",
      "  self._gate_excluded = np.zeros(shape, dtype=np.bool)\n"
     ]
    },
    {
     "name": "stdout",
     "output_type": "stream",
     "text": [
      "Saved grid to KIND_SDUS53_N0RIND_201105011436_grid.nc\n"
     ]
    },
    {
     "name": "stderr",
     "output_type": "stream",
     "text": [
      "/Users/adkchappy/anaconda3/envs/pyart_env/lib/python3.8/site-packages/pyart/map/gates_to_grid.py:160: DeprecationWarning: Barnes weighting function is deprecated. Please use Barnes 2 to be consistent with Pauley and Wu 1990.\n",
      "  warnings.warn(\"Barnes weighting function is deprecated.\"\n",
      "/Users/adkchappy/anaconda3/envs/pyart_env/lib/python3.8/site-packages/pyart/filters/gatefilter.py:460: DeprecationWarning: `np.bool` is a deprecated alias for the builtin `bool`. To silence this warning, use `bool` by itself. Doing this will not modify any behavior and is safe. If you specifically wanted the numpy scalar type, use `np.bool_` here.\n",
      "Deprecated in NumPy 1.20; for more details and guidance: https://numpy.org/devdocs/release/1.20.0-notes.html#deprecations\n",
      "  self._gate_excluded = np.zeros(shape, dtype=np.bool)\n"
     ]
    },
    {
     "name": "stdout",
     "output_type": "stream",
     "text": [
      "Saved grid to KIND_SDUS53_N0RIND_201105010346_grid.nc\n"
     ]
    },
    {
     "name": "stderr",
     "output_type": "stream",
     "text": [
      "/Users/adkchappy/anaconda3/envs/pyart_env/lib/python3.8/site-packages/pyart/map/gates_to_grid.py:160: DeprecationWarning: Barnes weighting function is deprecated. Please use Barnes 2 to be consistent with Pauley and Wu 1990.\n",
      "  warnings.warn(\"Barnes weighting function is deprecated.\"\n",
      "/Users/adkchappy/anaconda3/envs/pyart_env/lib/python3.8/site-packages/pyart/filters/gatefilter.py:460: DeprecationWarning: `np.bool` is a deprecated alias for the builtin `bool`. To silence this warning, use `bool` by itself. Doing this will not modify any behavior and is safe. If you specifically wanted the numpy scalar type, use `np.bool_` here.\n",
      "Deprecated in NumPy 1.20; for more details and guidance: https://numpy.org/devdocs/release/1.20.0-notes.html#deprecations\n",
      "  self._gate_excluded = np.zeros(shape, dtype=np.bool)\n"
     ]
    },
    {
     "name": "stdout",
     "output_type": "stream",
     "text": [
      "Saved grid to KIND_SDUS53_N0RIND_201105010543_grid.nc\n"
     ]
    },
    {
     "name": "stderr",
     "output_type": "stream",
     "text": [
      "/Users/adkchappy/anaconda3/envs/pyart_env/lib/python3.8/site-packages/pyart/map/gates_to_grid.py:160: DeprecationWarning: Barnes weighting function is deprecated. Please use Barnes 2 to be consistent with Pauley and Wu 1990.\n",
      "  warnings.warn(\"Barnes weighting function is deprecated.\"\n",
      "/Users/adkchappy/anaconda3/envs/pyart_env/lib/python3.8/site-packages/pyart/filters/gatefilter.py:460: DeprecationWarning: `np.bool` is a deprecated alias for the builtin `bool`. To silence this warning, use `bool` by itself. Doing this will not modify any behavior and is safe. If you specifically wanted the numpy scalar type, use `np.bool_` here.\n",
      "Deprecated in NumPy 1.20; for more details and guidance: https://numpy.org/devdocs/release/1.20.0-notes.html#deprecations\n",
      "  self._gate_excluded = np.zeros(shape, dtype=np.bool)\n"
     ]
    },
    {
     "name": "stdout",
     "output_type": "stream",
     "text": [
      "Saved grid to KIND_SDUS53_N0RIND_201105011233_grid.nc\n"
     ]
    },
    {
     "name": "stderr",
     "output_type": "stream",
     "text": [
      "/Users/adkchappy/anaconda3/envs/pyart_env/lib/python3.8/site-packages/pyart/map/gates_to_grid.py:160: DeprecationWarning: Barnes weighting function is deprecated. Please use Barnes 2 to be consistent with Pauley and Wu 1990.\n",
      "  warnings.warn(\"Barnes weighting function is deprecated.\"\n",
      "/Users/adkchappy/anaconda3/envs/pyart_env/lib/python3.8/site-packages/pyart/filters/gatefilter.py:460: DeprecationWarning: `np.bool` is a deprecated alias for the builtin `bool`. To silence this warning, use `bool` by itself. Doing this will not modify any behavior and is safe. If you specifically wanted the numpy scalar type, use `np.bool_` here.\n",
      "Deprecated in NumPy 1.20; for more details and guidance: https://numpy.org/devdocs/release/1.20.0-notes.html#deprecations\n",
      "  self._gate_excluded = np.zeros(shape, dtype=np.bool)\n"
     ]
    },
    {
     "name": "stdout",
     "output_type": "stream",
     "text": [
      "Saved grid to KIND_SDUS53_N0RIND_201105010747_grid.nc\n"
     ]
    },
    {
     "name": "stderr",
     "output_type": "stream",
     "text": [
      "/Users/adkchappy/anaconda3/envs/pyart_env/lib/python3.8/site-packages/pyart/map/gates_to_grid.py:160: DeprecationWarning: Barnes weighting function is deprecated. Please use Barnes 2 to be consistent with Pauley and Wu 1990.\n",
      "  warnings.warn(\"Barnes weighting function is deprecated.\"\n",
      "/Users/adkchappy/anaconda3/envs/pyart_env/lib/python3.8/site-packages/pyart/filters/gatefilter.py:460: DeprecationWarning: `np.bool` is a deprecated alias for the builtin `bool`. To silence this warning, use `bool` by itself. Doing this will not modify any behavior and is safe. If you specifically wanted the numpy scalar type, use `np.bool_` here.\n",
      "Deprecated in NumPy 1.20; for more details and guidance: https://numpy.org/devdocs/release/1.20.0-notes.html#deprecations\n",
      "  self._gate_excluded = np.zeros(shape, dtype=np.bool)\n"
     ]
    },
    {
     "name": "stdout",
     "output_type": "stream",
     "text": [
      "Saved grid to KIND_SDUS53_N0RIND_201105010915_grid.nc\n"
     ]
    },
    {
     "name": "stderr",
     "output_type": "stream",
     "text": [
      "/Users/adkchappy/anaconda3/envs/pyart_env/lib/python3.8/site-packages/pyart/map/gates_to_grid.py:160: DeprecationWarning: Barnes weighting function is deprecated. Please use Barnes 2 to be consistent with Pauley and Wu 1990.\n",
      "  warnings.warn(\"Barnes weighting function is deprecated.\"\n",
      "/Users/adkchappy/anaconda3/envs/pyart_env/lib/python3.8/site-packages/pyart/filters/gatefilter.py:460: DeprecationWarning: `np.bool` is a deprecated alias for the builtin `bool`. To silence this warning, use `bool` by itself. Doing this will not modify any behavior and is safe. If you specifically wanted the numpy scalar type, use `np.bool_` here.\n",
      "Deprecated in NumPy 1.20; for more details and guidance: https://numpy.org/devdocs/release/1.20.0-notes.html#deprecations\n",
      "  self._gate_excluded = np.zeros(shape, dtype=np.bool)\n"
     ]
    },
    {
     "name": "stdout",
     "output_type": "stream",
     "text": [
      "Saved grid to KIND_SDUS53_N0RIND_201105011946_grid.nc\n"
     ]
    },
    {
     "name": "stderr",
     "output_type": "stream",
     "text": [
      "/Users/adkchappy/anaconda3/envs/pyart_env/lib/python3.8/site-packages/pyart/map/gates_to_grid.py:160: DeprecationWarning: Barnes weighting function is deprecated. Please use Barnes 2 to be consistent with Pauley and Wu 1990.\n",
      "  warnings.warn(\"Barnes weighting function is deprecated.\"\n",
      "/Users/adkchappy/anaconda3/envs/pyart_env/lib/python3.8/site-packages/pyart/filters/gatefilter.py:460: DeprecationWarning: `np.bool` is a deprecated alias for the builtin `bool`. To silence this warning, use `bool` by itself. Doing this will not modify any behavior and is safe. If you specifically wanted the numpy scalar type, use `np.bool_` here.\n",
      "Deprecated in NumPy 1.20; for more details and guidance: https://numpy.org/devdocs/release/1.20.0-notes.html#deprecations\n",
      "  self._gate_excluded = np.zeros(shape, dtype=np.bool)\n"
     ]
    },
    {
     "name": "stdout",
     "output_type": "stream",
     "text": [
      "Saved grid to KIND_SDUS53_N0RIND_201105011348_grid.nc\n"
     ]
    },
    {
     "name": "stderr",
     "output_type": "stream",
     "text": [
      "/Users/adkchappy/anaconda3/envs/pyart_env/lib/python3.8/site-packages/pyart/map/gates_to_grid.py:160: DeprecationWarning: Barnes weighting function is deprecated. Please use Barnes 2 to be consistent with Pauley and Wu 1990.\n",
      "  warnings.warn(\"Barnes weighting function is deprecated.\"\n",
      "/Users/adkchappy/anaconda3/envs/pyart_env/lib/python3.8/site-packages/pyart/filters/gatefilter.py:460: DeprecationWarning: `np.bool` is a deprecated alias for the builtin `bool`. To silence this warning, use `bool` by itself. Doing this will not modify any behavior and is safe. If you specifically wanted the numpy scalar type, use `np.bool_` here.\n",
      "Deprecated in NumPy 1.20; for more details and guidance: https://numpy.org/devdocs/release/1.20.0-notes.html#deprecations\n",
      "  self._gate_excluded = np.zeros(shape, dtype=np.bool)\n"
     ]
    },
    {
     "name": "stdout",
     "output_type": "stream",
     "text": [
      "Saved grid to KIND_SDUS53_N0RIND_201105010407_grid.nc\n"
     ]
    },
    {
     "name": "stderr",
     "output_type": "stream",
     "text": [
      "/Users/adkchappy/anaconda3/envs/pyart_env/lib/python3.8/site-packages/pyart/map/gates_to_grid.py:160: DeprecationWarning: Barnes weighting function is deprecated. Please use Barnes 2 to be consistent with Pauley and Wu 1990.\n",
      "  warnings.warn(\"Barnes weighting function is deprecated.\"\n",
      "/Users/adkchappy/anaconda3/envs/pyart_env/lib/python3.8/site-packages/pyart/filters/gatefilter.py:460: DeprecationWarning: `np.bool` is a deprecated alias for the builtin `bool`. To silence this warning, use `bool` by itself. Doing this will not modify any behavior and is safe. If you specifically wanted the numpy scalar type, use `np.bool_` here.\n",
      "Deprecated in NumPy 1.20; for more details and guidance: https://numpy.org/devdocs/release/1.20.0-notes.html#deprecations\n",
      "  self._gate_excluded = np.zeros(shape, dtype=np.bool)\n"
     ]
    },
    {
     "name": "stdout",
     "output_type": "stream",
     "text": [
      "Saved grid to KIND_SDUS53_N0RIND_201105012154_grid.nc\n"
     ]
    },
    {
     "name": "stderr",
     "output_type": "stream",
     "text": [
      "/Users/adkchappy/anaconda3/envs/pyart_env/lib/python3.8/site-packages/pyart/map/gates_to_grid.py:160: DeprecationWarning: Barnes weighting function is deprecated. Please use Barnes 2 to be consistent with Pauley and Wu 1990.\n",
      "  warnings.warn(\"Barnes weighting function is deprecated.\"\n",
      "/Users/adkchappy/anaconda3/envs/pyart_env/lib/python3.8/site-packages/pyart/filters/gatefilter.py:460: DeprecationWarning: `np.bool` is a deprecated alias for the builtin `bool`. To silence this warning, use `bool` by itself. Doing this will not modify any behavior and is safe. If you specifically wanted the numpy scalar type, use `np.bool_` here.\n",
      "Deprecated in NumPy 1.20; for more details and guidance: https://numpy.org/devdocs/release/1.20.0-notes.html#deprecations\n",
      "  self._gate_excluded = np.zeros(shape, dtype=np.bool)\n"
     ]
    },
    {
     "name": "stdout",
     "output_type": "stream",
     "text": [
      "Saved grid to KIND_SDUS53_N0RIND_201105012107_grid.nc\n"
     ]
    },
    {
     "name": "stderr",
     "output_type": "stream",
     "text": [
      "/Users/adkchappy/anaconda3/envs/pyart_env/lib/python3.8/site-packages/pyart/map/gates_to_grid.py:160: DeprecationWarning: Barnes weighting function is deprecated. Please use Barnes 2 to be consistent with Pauley and Wu 1990.\n",
      "  warnings.warn(\"Barnes weighting function is deprecated.\"\n",
      "/Users/adkchappy/anaconda3/envs/pyart_env/lib/python3.8/site-packages/pyart/filters/gatefilter.py:460: DeprecationWarning: `np.bool` is a deprecated alias for the builtin `bool`. To silence this warning, use `bool` by itself. Doing this will not modify any behavior and is safe. If you specifically wanted the numpy scalar type, use `np.bool_` here.\n",
      "Deprecated in NumPy 1.20; for more details and guidance: https://numpy.org/devdocs/release/1.20.0-notes.html#deprecations\n",
      "  self._gate_excluded = np.zeros(shape, dtype=np.bool)\n"
     ]
    },
    {
     "name": "stdout",
     "output_type": "stream",
     "text": [
      "Saved grid to KIND_SDUS53_N0RIND_201105011544_grid.nc\n"
     ]
    },
    {
     "name": "stderr",
     "output_type": "stream",
     "text": [
      "/Users/adkchappy/anaconda3/envs/pyart_env/lib/python3.8/site-packages/pyart/map/gates_to_grid.py:160: DeprecationWarning: Barnes weighting function is deprecated. Please use Barnes 2 to be consistent with Pauley and Wu 1990.\n",
      "  warnings.warn(\"Barnes weighting function is deprecated.\"\n",
      "/Users/adkchappy/anaconda3/envs/pyart_env/lib/python3.8/site-packages/pyart/filters/gatefilter.py:460: DeprecationWarning: `np.bool` is a deprecated alias for the builtin `bool`. To silence this warning, use `bool` by itself. Doing this will not modify any behavior and is safe. If you specifically wanted the numpy scalar type, use `np.bool_` here.\n",
      "Deprecated in NumPy 1.20; for more details and guidance: https://numpy.org/devdocs/release/1.20.0-notes.html#deprecations\n",
      "  self._gate_excluded = np.zeros(shape, dtype=np.bool)\n"
     ]
    },
    {
     "name": "stdout",
     "output_type": "stream",
     "text": [
      "Saved grid to KIND_SDUS53_N0RIND_201105011315_grid.nc\n"
     ]
    },
    {
     "name": "stderr",
     "output_type": "stream",
     "text": [
      "/Users/adkchappy/anaconda3/envs/pyart_env/lib/python3.8/site-packages/pyart/map/gates_to_grid.py:160: DeprecationWarning: Barnes weighting function is deprecated. Please use Barnes 2 to be consistent with Pauley and Wu 1990.\n",
      "  warnings.warn(\"Barnes weighting function is deprecated.\"\n",
      "/Users/adkchappy/anaconda3/envs/pyart_env/lib/python3.8/site-packages/pyart/filters/gatefilter.py:460: DeprecationWarning: `np.bool` is a deprecated alias for the builtin `bool`. To silence this warning, use `bool` by itself. Doing this will not modify any behavior and is safe. If you specifically wanted the numpy scalar type, use `np.bool_` here.\n",
      "Deprecated in NumPy 1.20; for more details and guidance: https://numpy.org/devdocs/release/1.20.0-notes.html#deprecations\n",
      "  self._gate_excluded = np.zeros(shape, dtype=np.bool)\n"
     ]
    },
    {
     "name": "stdout",
     "output_type": "stream",
     "text": [
      "Saved grid to KIND_SDUS53_N0RIND_201105010657_grid.nc\n"
     ]
    },
    {
     "name": "stderr",
     "output_type": "stream",
     "text": [
      "/Users/adkchappy/anaconda3/envs/pyart_env/lib/python3.8/site-packages/pyart/map/gates_to_grid.py:160: DeprecationWarning: Barnes weighting function is deprecated. Please use Barnes 2 to be consistent with Pauley and Wu 1990.\n",
      "  warnings.warn(\"Barnes weighting function is deprecated.\"\n",
      "/Users/adkchappy/anaconda3/envs/pyart_env/lib/python3.8/site-packages/pyart/filters/gatefilter.py:460: DeprecationWarning: `np.bool` is a deprecated alias for the builtin `bool`. To silence this warning, use `bool` by itself. Doing this will not modify any behavior and is safe. If you specifically wanted the numpy scalar type, use `np.bool_` here.\n",
      "Deprecated in NumPy 1.20; for more details and guidance: https://numpy.org/devdocs/release/1.20.0-notes.html#deprecations\n",
      "  self._gate_excluded = np.zeros(shape, dtype=np.bool)\n"
     ]
    },
    {
     "name": "stdout",
     "output_type": "stream",
     "text": [
      "Saved grid to KIND_SDUS53_N0RIND_201105012303_grid.nc\n"
     ]
    },
    {
     "name": "stderr",
     "output_type": "stream",
     "text": [
      "/Users/adkchappy/anaconda3/envs/pyart_env/lib/python3.8/site-packages/pyart/map/gates_to_grid.py:160: DeprecationWarning: Barnes weighting function is deprecated. Please use Barnes 2 to be consistent with Pauley and Wu 1990.\n",
      "  warnings.warn(\"Barnes weighting function is deprecated.\"\n",
      "/Users/adkchappy/anaconda3/envs/pyart_env/lib/python3.8/site-packages/pyart/filters/gatefilter.py:460: DeprecationWarning: `np.bool` is a deprecated alias for the builtin `bool`. To silence this warning, use `bool` by itself. Doing this will not modify any behavior and is safe. If you specifically wanted the numpy scalar type, use `np.bool_` here.\n",
      "Deprecated in NumPy 1.20; for more details and guidance: https://numpy.org/devdocs/release/1.20.0-notes.html#deprecations\n",
      "  self._gate_excluded = np.zeros(shape, dtype=np.bool)\n"
     ]
    },
    {
     "name": "stdout",
     "output_type": "stream",
     "text": [
      "Saved grid to KIND_SDUS53_N0RIND_201105011740_grid.nc\n"
     ]
    },
    {
     "name": "stderr",
     "output_type": "stream",
     "text": [
      "/Users/adkchappy/anaconda3/envs/pyart_env/lib/python3.8/site-packages/pyart/map/gates_to_grid.py:160: DeprecationWarning: Barnes weighting function is deprecated. Please use Barnes 2 to be consistent with Pauley and Wu 1990.\n",
      "  warnings.warn(\"Barnes weighting function is deprecated.\"\n",
      "/Users/adkchappy/anaconda3/envs/pyart_env/lib/python3.8/site-packages/pyart/filters/gatefilter.py:460: DeprecationWarning: `np.bool` is a deprecated alias for the builtin `bool`. To silence this warning, use `bool` by itself. Doing this will not modify any behavior and is safe. If you specifically wanted the numpy scalar type, use `np.bool_` here.\n",
      "Deprecated in NumPy 1.20; for more details and guidance: https://numpy.org/devdocs/release/1.20.0-notes.html#deprecations\n",
      "  self._gate_excluded = np.zeros(shape, dtype=np.bool)\n"
     ]
    },
    {
     "name": "stdout",
     "output_type": "stream",
     "text": [
      "Saved grid to KIND_SDUS53_N0RIND_201105011129_grid.nc\n"
     ]
    },
    {
     "name": "stderr",
     "output_type": "stream",
     "text": [
      "/Users/adkchappy/anaconda3/envs/pyart_env/lib/python3.8/site-packages/pyart/map/gates_to_grid.py:160: DeprecationWarning: Barnes weighting function is deprecated. Please use Barnes 2 to be consistent with Pauley and Wu 1990.\n",
      "  warnings.warn(\"Barnes weighting function is deprecated.\"\n",
      "/Users/adkchappy/anaconda3/envs/pyart_env/lib/python3.8/site-packages/pyart/filters/gatefilter.py:460: DeprecationWarning: `np.bool` is a deprecated alias for the builtin `bool`. To silence this warning, use `bool` by itself. Doing this will not modify any behavior and is safe. If you specifically wanted the numpy scalar type, use `np.bool_` here.\n",
      "Deprecated in NumPy 1.20; for more details and guidance: https://numpy.org/devdocs/release/1.20.0-notes.html#deprecations\n",
      "  self._gate_excluded = np.zeros(shape, dtype=np.bool)\n"
     ]
    },
    {
     "name": "stdout",
     "output_type": "stream",
     "text": [
      "Saved grid to KIND_SDUS53_N0RIND_201105010437_grid.nc\n"
     ]
    },
    {
     "name": "stderr",
     "output_type": "stream",
     "text": [
      "/Users/adkchappy/anaconda3/envs/pyart_env/lib/python3.8/site-packages/pyart/map/gates_to_grid.py:160: DeprecationWarning: Barnes weighting function is deprecated. Please use Barnes 2 to be consistent with Pauley and Wu 1990.\n",
      "  warnings.warn(\"Barnes weighting function is deprecated.\"\n",
      "/Users/adkchappy/anaconda3/envs/pyart_env/lib/python3.8/site-packages/pyart/filters/gatefilter.py:460: DeprecationWarning: `np.bool` is a deprecated alias for the builtin `bool`. To silence this warning, use `bool` by itself. Doing this will not modify any behavior and is safe. If you specifically wanted the numpy scalar type, use `np.bool_` here.\n",
      "Deprecated in NumPy 1.20; for more details and guidance: https://numpy.org/devdocs/release/1.20.0-notes.html#deprecations\n",
      "  self._gate_excluded = np.zeros(shape, dtype=np.bool)\n"
     ]
    },
    {
     "name": "stdout",
     "output_type": "stream",
     "text": [
      "Saved grid to KIND_SDUS53_N0RIND_201105012358_grid.nc\n"
     ]
    },
    {
     "name": "stderr",
     "output_type": "stream",
     "text": [
      "/Users/adkchappy/anaconda3/envs/pyart_env/lib/python3.8/site-packages/pyart/map/gates_to_grid.py:160: DeprecationWarning: Barnes weighting function is deprecated. Please use Barnes 2 to be consistent with Pauley and Wu 1990.\n",
      "  warnings.warn(\"Barnes weighting function is deprecated.\"\n",
      "/Users/adkchappy/anaconda3/envs/pyart_env/lib/python3.8/site-packages/pyart/filters/gatefilter.py:460: DeprecationWarning: `np.bool` is a deprecated alias for the builtin `bool`. To silence this warning, use `bool` by itself. Doing this will not modify any behavior and is safe. If you specifically wanted the numpy scalar type, use `np.bool_` here.\n",
      "Deprecated in NumPy 1.20; for more details and guidance: https://numpy.org/devdocs/release/1.20.0-notes.html#deprecations\n",
      "  self._gate_excluded = np.zeros(shape, dtype=np.bool)\n"
     ]
    },
    {
     "name": "stdout",
     "output_type": "stream",
     "text": [
      "Saved grid to KIND_SDUS53_N0RIND_201105010633_grid.nc\n"
     ]
    },
    {
     "name": "stderr",
     "output_type": "stream",
     "text": [
      "/Users/adkchappy/anaconda3/envs/pyart_env/lib/python3.8/site-packages/pyart/map/gates_to_grid.py:160: DeprecationWarning: Barnes weighting function is deprecated. Please use Barnes 2 to be consistent with Pauley and Wu 1990.\n",
      "  warnings.warn(\"Barnes weighting function is deprecated.\"\n",
      "/Users/adkchappy/anaconda3/envs/pyart_env/lib/python3.8/site-packages/pyart/filters/gatefilter.py:460: DeprecationWarning: `np.bool` is a deprecated alias for the builtin `bool`. To silence this warning, use `bool` by itself. Doing this will not modify any behavior and is safe. If you specifically wanted the numpy scalar type, use `np.bool_` here.\n",
      "Deprecated in NumPy 1.20; for more details and guidance: https://numpy.org/devdocs/release/1.20.0-notes.html#deprecations\n",
      "  self._gate_excluded = np.zeros(shape, dtype=np.bool)\n"
     ]
    },
    {
     "name": "stdout",
     "output_type": "stream",
     "text": [
      "Saved grid to KIND_SDUS53_N0RIND_201105010031_grid.nc\n"
     ]
    },
    {
     "name": "stderr",
     "output_type": "stream",
     "text": [
      "/Users/adkchappy/anaconda3/envs/pyart_env/lib/python3.8/site-packages/pyart/map/gates_to_grid.py:160: DeprecationWarning: Barnes weighting function is deprecated. Please use Barnes 2 to be consistent with Pauley and Wu 1990.\n",
      "  warnings.warn(\"Barnes weighting function is deprecated.\"\n",
      "/Users/adkchappy/anaconda3/envs/pyart_env/lib/python3.8/site-packages/pyart/filters/gatefilter.py:460: DeprecationWarning: `np.bool` is a deprecated alias for the builtin `bool`. To silence this warning, use `bool` by itself. Doing this will not modify any behavior and is safe. If you specifically wanted the numpy scalar type, use `np.bool_` here.\n",
      "Deprecated in NumPy 1.20; for more details and guidance: https://numpy.org/devdocs/release/1.20.0-notes.html#deprecations\n",
      "  self._gate_excluded = np.zeros(shape, dtype=np.bool)\n"
     ]
    },
    {
     "name": "stdout",
     "output_type": "stream",
     "text": [
      "Saved grid to KIND_SDUS53_N0RIND_201105010835_grid.nc\n"
     ]
    },
    {
     "name": "stderr",
     "output_type": "stream",
     "text": [
      "/Users/adkchappy/anaconda3/envs/pyart_env/lib/python3.8/site-packages/pyart/map/gates_to_grid.py:160: DeprecationWarning: Barnes weighting function is deprecated. Please use Barnes 2 to be consistent with Pauley and Wu 1990.\n",
      "  warnings.warn(\"Barnes weighting function is deprecated.\"\n",
      "/Users/adkchappy/anaconda3/envs/pyart_env/lib/python3.8/site-packages/pyart/filters/gatefilter.py:460: DeprecationWarning: `np.bool` is a deprecated alias for the builtin `bool`. To silence this warning, use `bool` by itself. Doing this will not modify any behavior and is safe. If you specifically wanted the numpy scalar type, use `np.bool_` here.\n",
      "Deprecated in NumPy 1.20; for more details and guidance: https://numpy.org/devdocs/release/1.20.0-notes.html#deprecations\n",
      "  self._gate_excluded = np.zeros(shape, dtype=np.bool)\n"
     ]
    },
    {
     "name": "stdout",
     "output_type": "stream",
     "text": [
      "Saved grid to KIND_SDUS53_N0RIND_201105011126_grid.nc\n"
     ]
    },
    {
     "name": "stderr",
     "output_type": "stream",
     "text": [
      "/Users/adkchappy/anaconda3/envs/pyart_env/lib/python3.8/site-packages/pyart/map/gates_to_grid.py:160: DeprecationWarning: Barnes weighting function is deprecated. Please use Barnes 2 to be consistent with Pauley and Wu 1990.\n",
      "  warnings.warn(\"Barnes weighting function is deprecated.\"\n",
      "/Users/adkchappy/anaconda3/envs/pyart_env/lib/python3.8/site-packages/pyart/filters/gatefilter.py:460: DeprecationWarning: `np.bool` is a deprecated alias for the builtin `bool`. To silence this warning, use `bool` by itself. Doing this will not modify any behavior and is safe. If you specifically wanted the numpy scalar type, use `np.bool_` here.\n",
      "Deprecated in NumPy 1.20; for more details and guidance: https://numpy.org/devdocs/release/1.20.0-notes.html#deprecations\n",
      "  self._gate_excluded = np.zeros(shape, dtype=np.bool)\n"
     ]
    },
    {
     "name": "stdout",
     "output_type": "stream",
     "text": [
      "Saved grid to KIND_SDUS53_N0RIND_201105011119_grid.nc\n"
     ]
    },
    {
     "name": "stderr",
     "output_type": "stream",
     "text": [
      "/Users/adkchappy/anaconda3/envs/pyart_env/lib/python3.8/site-packages/pyart/map/gates_to_grid.py:160: DeprecationWarning: Barnes weighting function is deprecated. Please use Barnes 2 to be consistent with Pauley and Wu 1990.\n",
      "  warnings.warn(\"Barnes weighting function is deprecated.\"\n",
      "/Users/adkchappy/anaconda3/envs/pyart_env/lib/python3.8/site-packages/pyart/filters/gatefilter.py:460: DeprecationWarning: `np.bool` is a deprecated alias for the builtin `bool`. To silence this warning, use `bool` by itself. Doing this will not modify any behavior and is safe. If you specifically wanted the numpy scalar type, use `np.bool_` here.\n",
      "Deprecated in NumPy 1.20; for more details and guidance: https://numpy.org/devdocs/release/1.20.0-notes.html#deprecations\n",
      "  self._gate_excluded = np.zeros(shape, dtype=np.bool)\n"
     ]
    },
    {
     "name": "stdout",
     "output_type": "stream",
     "text": [
      "Saved grid to KIND_SDUS53_N0RIND_201105010441_grid.nc\n"
     ]
    },
    {
     "name": "stderr",
     "output_type": "stream",
     "text": [
      "/Users/adkchappy/anaconda3/envs/pyart_env/lib/python3.8/site-packages/pyart/map/gates_to_grid.py:160: DeprecationWarning: Barnes weighting function is deprecated. Please use Barnes 2 to be consistent with Pauley and Wu 1990.\n",
      "  warnings.warn(\"Barnes weighting function is deprecated.\"\n",
      "/Users/adkchappy/anaconda3/envs/pyart_env/lib/python3.8/site-packages/pyart/filters/gatefilter.py:460: DeprecationWarning: `np.bool` is a deprecated alias for the builtin `bool`. To silence this warning, use `bool` by itself. Doing this will not modify any behavior and is safe. If you specifically wanted the numpy scalar type, use `np.bool_` here.\n",
      "Deprecated in NumPy 1.20; for more details and guidance: https://numpy.org/devdocs/release/1.20.0-notes.html#deprecations\n",
      "  self._gate_excluded = np.zeros(shape, dtype=np.bool)\n"
     ]
    },
    {
     "name": "stdout",
     "output_type": "stream",
     "text": [
      "Saved grid to KIND_SDUS53_N0RIND_201105010022_grid.nc\n"
     ]
    },
    {
     "name": "stderr",
     "output_type": "stream",
     "text": [
      "/Users/adkchappy/anaconda3/envs/pyart_env/lib/python3.8/site-packages/pyart/map/gates_to_grid.py:160: DeprecationWarning: Barnes weighting function is deprecated. Please use Barnes 2 to be consistent with Pauley and Wu 1990.\n",
      "  warnings.warn(\"Barnes weighting function is deprecated.\"\n",
      "/Users/adkchappy/anaconda3/envs/pyart_env/lib/python3.8/site-packages/pyart/filters/gatefilter.py:460: DeprecationWarning: `np.bool` is a deprecated alias for the builtin `bool`. To silence this warning, use `bool` by itself. Doing this will not modify any behavior and is safe. If you specifically wanted the numpy scalar type, use `np.bool_` here.\n",
      "Deprecated in NumPy 1.20; for more details and guidance: https://numpy.org/devdocs/release/1.20.0-notes.html#deprecations\n",
      "  self._gate_excluded = np.zeros(shape, dtype=np.bool)\n"
     ]
    },
    {
     "name": "stdout",
     "output_type": "stream",
     "text": [
      "Saved grid to KIND_SDUS53_N0RIND_201105011104_grid.nc\n"
     ]
    },
    {
     "name": "stderr",
     "output_type": "stream",
     "text": [
      "/Users/adkchappy/anaconda3/envs/pyart_env/lib/python3.8/site-packages/pyart/map/gates_to_grid.py:160: DeprecationWarning: Barnes weighting function is deprecated. Please use Barnes 2 to be consistent with Pauley and Wu 1990.\n",
      "  warnings.warn(\"Barnes weighting function is deprecated.\"\n",
      "/Users/adkchappy/anaconda3/envs/pyart_env/lib/python3.8/site-packages/pyart/filters/gatefilter.py:460: DeprecationWarning: `np.bool` is a deprecated alias for the builtin `bool`. To silence this warning, use `bool` by itself. Doing this will not modify any behavior and is safe. If you specifically wanted the numpy scalar type, use `np.bool_` here.\n",
      "Deprecated in NumPy 1.20; for more details and guidance: https://numpy.org/devdocs/release/1.20.0-notes.html#deprecations\n",
      "  self._gate_excluded = np.zeros(shape, dtype=np.bool)\n"
     ]
    },
    {
     "name": "stdout",
     "output_type": "stream",
     "text": [
      "Saved grid to KIND_SDUS53_N0RIND_201105011936_grid.nc\n"
     ]
    },
    {
     "name": "stderr",
     "output_type": "stream",
     "text": [
      "/Users/adkchappy/anaconda3/envs/pyart_env/lib/python3.8/site-packages/pyart/map/gates_to_grid.py:160: DeprecationWarning: Barnes weighting function is deprecated. Please use Barnes 2 to be consistent with Pauley and Wu 1990.\n",
      "  warnings.warn(\"Barnes weighting function is deprecated.\"\n",
      "/Users/adkchappy/anaconda3/envs/pyart_env/lib/python3.8/site-packages/pyart/filters/gatefilter.py:460: DeprecationWarning: `np.bool` is a deprecated alias for the builtin `bool`. To silence this warning, use `bool` by itself. Doing this will not modify any behavior and is safe. If you specifically wanted the numpy scalar type, use `np.bool_` here.\n",
      "Deprecated in NumPy 1.20; for more details and guidance: https://numpy.org/devdocs/release/1.20.0-notes.html#deprecations\n",
      "  self._gate_excluded = np.zeros(shape, dtype=np.bool)\n"
     ]
    },
    {
     "name": "stdout",
     "output_type": "stream",
     "text": [
      "Saved grid to KIND_SDUS53_N0RIND_201105010448_grid.nc\n"
     ]
    },
    {
     "name": "stderr",
     "output_type": "stream",
     "text": [
      "/Users/adkchappy/anaconda3/envs/pyart_env/lib/python3.8/site-packages/pyart/map/gates_to_grid.py:160: DeprecationWarning: Barnes weighting function is deprecated. Please use Barnes 2 to be consistent with Pauley and Wu 1990.\n",
      "  warnings.warn(\"Barnes weighting function is deprecated.\"\n",
      "/Users/adkchappy/anaconda3/envs/pyart_env/lib/python3.8/site-packages/pyart/filters/gatefilter.py:460: DeprecationWarning: `np.bool` is a deprecated alias for the builtin `bool`. To silence this warning, use `bool` by itself. Doing this will not modify any behavior and is safe. If you specifically wanted the numpy scalar type, use `np.bool_` here.\n",
      "Deprecated in NumPy 1.20; for more details and guidance: https://numpy.org/devdocs/release/1.20.0-notes.html#deprecations\n",
      "  self._gate_excluded = np.zeros(shape, dtype=np.bool)\n"
     ]
    },
    {
     "name": "stdout",
     "output_type": "stream",
     "text": [
      "Saved grid to KIND_SDUS53_N0RIND_201105012112_grid.nc\n"
     ]
    },
    {
     "name": "stderr",
     "output_type": "stream",
     "text": [
      "/Users/adkchappy/anaconda3/envs/pyart_env/lib/python3.8/site-packages/pyart/map/gates_to_grid.py:160: DeprecationWarning: Barnes weighting function is deprecated. Please use Barnes 2 to be consistent with Pauley and Wu 1990.\n",
      "  warnings.warn(\"Barnes weighting function is deprecated.\"\n",
      "/Users/adkchappy/anaconda3/envs/pyart_env/lib/python3.8/site-packages/pyart/filters/gatefilter.py:460: DeprecationWarning: `np.bool` is a deprecated alias for the builtin `bool`. To silence this warning, use `bool` by itself. Doing this will not modify any behavior and is safe. If you specifically wanted the numpy scalar type, use `np.bool_` here.\n",
      "Deprecated in NumPy 1.20; for more details and guidance: https://numpy.org/devdocs/release/1.20.0-notes.html#deprecations\n",
      "  self._gate_excluded = np.zeros(shape, dtype=np.bool)\n"
     ]
    },
    {
     "name": "stdout",
     "output_type": "stream",
     "text": [
      "Saved grid to KIND_SDUS53_N0RIND_201105011505_grid.nc\n"
     ]
    },
    {
     "name": "stderr",
     "output_type": "stream",
     "text": [
      "/Users/adkchappy/anaconda3/envs/pyart_env/lib/python3.8/site-packages/pyart/map/gates_to_grid.py:160: DeprecationWarning: Barnes weighting function is deprecated. Please use Barnes 2 to be consistent with Pauley and Wu 1990.\n",
      "  warnings.warn(\"Barnes weighting function is deprecated.\"\n",
      "/Users/adkchappy/anaconda3/envs/pyart_env/lib/python3.8/site-packages/pyart/filters/gatefilter.py:460: DeprecationWarning: `np.bool` is a deprecated alias for the builtin `bool`. To silence this warning, use `bool` by itself. Doing this will not modify any behavior and is safe. If you specifically wanted the numpy scalar type, use `np.bool_` here.\n",
      "Deprecated in NumPy 1.20; for more details and guidance: https://numpy.org/devdocs/release/1.20.0-notes.html#deprecations\n",
      "  self._gate_excluded = np.zeros(shape, dtype=np.bool)\n"
     ]
    },
    {
     "name": "stdout",
     "output_type": "stream",
     "text": [
      "Saved grid to KIND_SDUS53_N0RIND_201105010629_grid.nc\n"
     ]
    },
    {
     "name": "stderr",
     "output_type": "stream",
     "text": [
      "/Users/adkchappy/anaconda3/envs/pyart_env/lib/python3.8/site-packages/pyart/map/gates_to_grid.py:160: DeprecationWarning: Barnes weighting function is deprecated. Please use Barnes 2 to be consistent with Pauley and Wu 1990.\n",
      "  warnings.warn(\"Barnes weighting function is deprecated.\"\n",
      "/Users/adkchappy/anaconda3/envs/pyart_env/lib/python3.8/site-packages/pyart/filters/gatefilter.py:460: DeprecationWarning: `np.bool` is a deprecated alias for the builtin `bool`. To silence this warning, use `bool` by itself. Doing this will not modify any behavior and is safe. If you specifically wanted the numpy scalar type, use `np.bool_` here.\n",
      "Deprecated in NumPy 1.20; for more details and guidance: https://numpy.org/devdocs/release/1.20.0-notes.html#deprecations\n",
      "  self._gate_excluded = np.zeros(shape, dtype=np.bool)\n"
     ]
    },
    {
     "name": "stdout",
     "output_type": "stream",
     "text": [
      "Saved grid to KIND_SDUS53_N0RIND_201105012345_grid.nc\n"
     ]
    },
    {
     "name": "stderr",
     "output_type": "stream",
     "text": [
      "/Users/adkchappy/anaconda3/envs/pyart_env/lib/python3.8/site-packages/pyart/map/gates_to_grid.py:160: DeprecationWarning: Barnes weighting function is deprecated. Please use Barnes 2 to be consistent with Pauley and Wu 1990.\n",
      "  warnings.warn(\"Barnes weighting function is deprecated.\"\n",
      "/Users/adkchappy/anaconda3/envs/pyart_env/lib/python3.8/site-packages/pyart/filters/gatefilter.py:460: DeprecationWarning: `np.bool` is a deprecated alias for the builtin `bool`. To silence this warning, use `bool` by itself. Doing this will not modify any behavior and is safe. If you specifically wanted the numpy scalar type, use `np.bool_` here.\n",
      "Deprecated in NumPy 1.20; for more details and guidance: https://numpy.org/devdocs/release/1.20.0-notes.html#deprecations\n",
      "  self._gate_excluded = np.zeros(shape, dtype=np.bool)\n"
     ]
    },
    {
     "name": "stdout",
     "output_type": "stream",
     "text": [
      "Saved grid to KIND_SDUS53_N0RIND_201105010620_grid.nc\n"
     ]
    },
    {
     "name": "stderr",
     "output_type": "stream",
     "text": [
      "/Users/adkchappy/anaconda3/envs/pyart_env/lib/python3.8/site-packages/pyart/map/gates_to_grid.py:160: DeprecationWarning: Barnes weighting function is deprecated. Please use Barnes 2 to be consistent with Pauley and Wu 1990.\n",
      "  warnings.warn(\"Barnes weighting function is deprecated.\"\n",
      "/Users/adkchappy/anaconda3/envs/pyart_env/lib/python3.8/site-packages/pyart/filters/gatefilter.py:460: DeprecationWarning: `np.bool` is a deprecated alias for the builtin `bool`. To silence this warning, use `bool` by itself. Doing this will not modify any behavior and is safe. If you specifically wanted the numpy scalar type, use `np.bool_` here.\n",
      "Deprecated in NumPy 1.20; for more details and guidance: https://numpy.org/devdocs/release/1.20.0-notes.html#deprecations\n",
      "  self._gate_excluded = np.zeros(shape, dtype=np.bool)\n"
     ]
    },
    {
     "name": "stdout",
     "output_type": "stream",
     "text": [
      "Saved grid to KIND_SDUS53_N0RIND_201105011534_grid.nc\n"
     ]
    },
    {
     "name": "stderr",
     "output_type": "stream",
     "text": [
      "/Users/adkchappy/anaconda3/envs/pyart_env/lib/python3.8/site-packages/pyart/map/gates_to_grid.py:160: DeprecationWarning: Barnes weighting function is deprecated. Please use Barnes 2 to be consistent with Pauley and Wu 1990.\n",
      "  warnings.warn(\"Barnes weighting function is deprecated.\"\n",
      "/Users/adkchappy/anaconda3/envs/pyart_env/lib/python3.8/site-packages/pyart/filters/gatefilter.py:460: DeprecationWarning: `np.bool` is a deprecated alias for the builtin `bool`. To silence this warning, use `bool` by itself. Doing this will not modify any behavior and is safe. If you specifically wanted the numpy scalar type, use `np.bool_` here.\n",
      "Deprecated in NumPy 1.20; for more details and guidance: https://numpy.org/devdocs/release/1.20.0-notes.html#deprecations\n",
      "  self._gate_excluded = np.zeros(shape, dtype=np.bool)\n"
     ]
    },
    {
     "name": "stdout",
     "output_type": "stream",
     "text": [
      "Saved grid to KIND_SDUS53_N0RIND_201105011150_grid.nc\n"
     ]
    },
    {
     "name": "stderr",
     "output_type": "stream",
     "text": [
      "/Users/adkchappy/anaconda3/envs/pyart_env/lib/python3.8/site-packages/pyart/map/gates_to_grid.py:160: DeprecationWarning: Barnes weighting function is deprecated. Please use Barnes 2 to be consistent with Pauley and Wu 1990.\n",
      "  warnings.warn(\"Barnes weighting function is deprecated.\"\n",
      "/Users/adkchappy/anaconda3/envs/pyart_env/lib/python3.8/site-packages/pyart/filters/gatefilter.py:460: DeprecationWarning: `np.bool` is a deprecated alias for the builtin `bool`. To silence this warning, use `bool` by itself. Doing this will not modify any behavior and is safe. If you specifically wanted the numpy scalar type, use `np.bool_` here.\n",
      "Deprecated in NumPy 1.20; for more details and guidance: https://numpy.org/devdocs/release/1.20.0-notes.html#deprecations\n",
      "  self._gate_excluded = np.zeros(shape, dtype=np.bool)\n"
     ]
    },
    {
     "name": "stdout",
     "output_type": "stream",
     "text": [
      "Saved grid to KIND_SDUS53_N0RIND_201105011157_grid.nc\n"
     ]
    },
    {
     "name": "stderr",
     "output_type": "stream",
     "text": [
      "/Users/adkchappy/anaconda3/envs/pyart_env/lib/python3.8/site-packages/pyart/map/gates_to_grid.py:160: DeprecationWarning: Barnes weighting function is deprecated. Please use Barnes 2 to be consistent with Pauley and Wu 1990.\n",
      "  warnings.warn(\"Barnes weighting function is deprecated.\"\n",
      "/Users/adkchappy/anaconda3/envs/pyart_env/lib/python3.8/site-packages/pyart/filters/gatefilter.py:460: DeprecationWarning: `np.bool` is a deprecated alias for the builtin `bool`. To silence this warning, use `bool` by itself. Doing this will not modify any behavior and is safe. If you specifically wanted the numpy scalar type, use `np.bool_` here.\n",
      "Deprecated in NumPy 1.20; for more details and guidance: https://numpy.org/devdocs/release/1.20.0-notes.html#deprecations\n",
      "  self._gate_excluded = np.zeros(shape, dtype=np.bool)\n"
     ]
    },
    {
     "name": "stdout",
     "output_type": "stream",
     "text": [
      "Saved grid to KIND_SDUS53_N0RIND_201105011339_grid.nc\n"
     ]
    },
    {
     "name": "stderr",
     "output_type": "stream",
     "text": [
      "/Users/adkchappy/anaconda3/envs/pyart_env/lib/python3.8/site-packages/pyart/map/gates_to_grid.py:160: DeprecationWarning: Barnes weighting function is deprecated. Please use Barnes 2 to be consistent with Pauley and Wu 1990.\n",
      "  warnings.warn(\"Barnes weighting function is deprecated.\"\n",
      "/Users/adkchappy/anaconda3/envs/pyart_env/lib/python3.8/site-packages/pyart/filters/gatefilter.py:460: DeprecationWarning: `np.bool` is a deprecated alias for the builtin `bool`. To silence this warning, use `bool` by itself. Doing this will not modify any behavior and is safe. If you specifically wanted the numpy scalar type, use `np.bool_` here.\n",
      "Deprecated in NumPy 1.20; for more details and guidance: https://numpy.org/devdocs/release/1.20.0-notes.html#deprecations\n",
      "  self._gate_excluded = np.zeros(shape, dtype=np.bool)\n"
     ]
    },
    {
     "name": "stdout",
     "output_type": "stream",
     "text": [
      "Saved grid to KIND_SDUS53_N0RIND_201105012321_grid.nc\n"
     ]
    },
    {
     "name": "stderr",
     "output_type": "stream",
     "text": [
      "/Users/adkchappy/anaconda3/envs/pyart_env/lib/python3.8/site-packages/pyart/map/gates_to_grid.py:160: DeprecationWarning: Barnes weighting function is deprecated. Please use Barnes 2 to be consistent with Pauley and Wu 1990.\n",
      "  warnings.warn(\"Barnes weighting function is deprecated.\"\n",
      "/Users/adkchappy/anaconda3/envs/pyart_env/lib/python3.8/site-packages/pyart/filters/gatefilter.py:460: DeprecationWarning: `np.bool` is a deprecated alias for the builtin `bool`. To silence this warning, use `bool` by itself. Doing this will not modify any behavior and is safe. If you specifically wanted the numpy scalar type, use `np.bool_` here.\n",
      "Deprecated in NumPy 1.20; for more details and guidance: https://numpy.org/devdocs/release/1.20.0-notes.html#deprecations\n",
      "  self._gate_excluded = np.zeros(shape, dtype=np.bool)\n"
     ]
    },
    {
     "name": "stdout",
     "output_type": "stream",
     "text": [
      "Saved grid to KIND_SDUS53_N0RIND_201105011301_grid.nc\n"
     ]
    },
    {
     "name": "stderr",
     "output_type": "stream",
     "text": [
      "/Users/adkchappy/anaconda3/envs/pyart_env/lib/python3.8/site-packages/pyart/map/gates_to_grid.py:160: DeprecationWarning: Barnes weighting function is deprecated. Please use Barnes 2 to be consistent with Pauley and Wu 1990.\n",
      "  warnings.warn(\"Barnes weighting function is deprecated.\"\n",
      "/Users/adkchappy/anaconda3/envs/pyart_env/lib/python3.8/site-packages/pyart/filters/gatefilter.py:460: DeprecationWarning: `np.bool` is a deprecated alias for the builtin `bool`. To silence this warning, use `bool` by itself. Doing this will not modify any behavior and is safe. If you specifically wanted the numpy scalar type, use `np.bool_` here.\n",
      "Deprecated in NumPy 1.20; for more details and guidance: https://numpy.org/devdocs/release/1.20.0-notes.html#deprecations\n",
      "  self._gate_excluded = np.zeros(shape, dtype=np.bool)\n"
     ]
    },
    {
     "name": "stdout",
     "output_type": "stream",
     "text": [
      "Saved grid to KIND_SDUS53_N0RIND_201105011133_grid.nc\n"
     ]
    },
    {
     "name": "stderr",
     "output_type": "stream",
     "text": [
      "/Users/adkchappy/anaconda3/envs/pyart_env/lib/python3.8/site-packages/pyart/map/gates_to_grid.py:160: DeprecationWarning: Barnes weighting function is deprecated. Please use Barnes 2 to be consistent with Pauley and Wu 1990.\n",
      "  warnings.warn(\"Barnes weighting function is deprecated.\"\n",
      "/Users/adkchappy/anaconda3/envs/pyart_env/lib/python3.8/site-packages/pyart/filters/gatefilter.py:460: DeprecationWarning: `np.bool` is a deprecated alias for the builtin `bool`. To silence this warning, use `bool` by itself. Doing this will not modify any behavior and is safe. If you specifically wanted the numpy scalar type, use `np.bool_` here.\n",
      "Deprecated in NumPy 1.20; for more details and guidance: https://numpy.org/devdocs/release/1.20.0-notes.html#deprecations\n",
      "  self._gate_excluded = np.zeros(shape, dtype=np.bool)\n"
     ]
    },
    {
     "name": "stdout",
     "output_type": "stream",
     "text": [
      "Saved grid to KIND_SDUS53_N0RIND_201105012326_grid.nc\n"
     ]
    },
    {
     "name": "stderr",
     "output_type": "stream",
     "text": [
      "/Users/adkchappy/anaconda3/envs/pyart_env/lib/python3.8/site-packages/pyart/map/gates_to_grid.py:160: DeprecationWarning: Barnes weighting function is deprecated. Please use Barnes 2 to be consistent with Pauley and Wu 1990.\n",
      "  warnings.warn(\"Barnes weighting function is deprecated.\"\n",
      "/Users/adkchappy/anaconda3/envs/pyart_env/lib/python3.8/site-packages/pyart/filters/gatefilter.py:460: DeprecationWarning: `np.bool` is a deprecated alias for the builtin `bool`. To silence this warning, use `bool` by itself. Doing this will not modify any behavior and is safe. If you specifically wanted the numpy scalar type, use `np.bool_` here.\n",
      "Deprecated in NumPy 1.20; for more details and guidance: https://numpy.org/devdocs/release/1.20.0-notes.html#deprecations\n",
      "  self._gate_excluded = np.zeros(shape, dtype=np.bool)\n"
     ]
    },
    {
     "name": "stdout",
     "output_type": "stream",
     "text": [
      "Saved grid to KIND_SDUS53_N0RIND_201105011308_grid.nc\n"
     ]
    },
    {
     "name": "stderr",
     "output_type": "stream",
     "text": [
      "/Users/adkchappy/anaconda3/envs/pyart_env/lib/python3.8/site-packages/pyart/map/gates_to_grid.py:160: DeprecationWarning: Barnes weighting function is deprecated. Please use Barnes 2 to be consistent with Pauley and Wu 1990.\n",
      "  warnings.warn(\"Barnes weighting function is deprecated.\"\n",
      "/Users/adkchappy/anaconda3/envs/pyart_env/lib/python3.8/site-packages/pyart/filters/gatefilter.py:460: DeprecationWarning: `np.bool` is a deprecated alias for the builtin `bool`. To silence this warning, use `bool` by itself. Doing this will not modify any behavior and is safe. If you specifically wanted the numpy scalar type, use `np.bool_` here.\n",
      "Deprecated in NumPy 1.20; for more details and guidance: https://numpy.org/devdocs/release/1.20.0-notes.html#deprecations\n",
      "  self._gate_excluded = np.zeros(shape, dtype=np.bool)\n"
     ]
    },
    {
     "name": "stdout",
     "output_type": "stream",
     "text": [
      "Saved grid to KIND_SDUS53_N0RIND_201105010820_grid.nc\n"
     ]
    },
    {
     "name": "stderr",
     "output_type": "stream",
     "text": [
      "/Users/adkchappy/anaconda3/envs/pyart_env/lib/python3.8/site-packages/pyart/map/gates_to_grid.py:160: DeprecationWarning: Barnes weighting function is deprecated. Please use Barnes 2 to be consistent with Pauley and Wu 1990.\n",
      "  warnings.warn(\"Barnes weighting function is deprecated.\"\n",
      "/Users/adkchappy/anaconda3/envs/pyart_env/lib/python3.8/site-packages/pyart/filters/gatefilter.py:460: DeprecationWarning: `np.bool` is a deprecated alias for the builtin `bool`. To silence this warning, use `bool` by itself. Doing this will not modify any behavior and is safe. If you specifically wanted the numpy scalar type, use `np.bool_` here.\n",
      "Deprecated in NumPy 1.20; for more details and guidance: https://numpy.org/devdocs/release/1.20.0-notes.html#deprecations\n",
      "  self._gate_excluded = np.zeros(shape, dtype=np.bool)\n"
     ]
    },
    {
     "name": "stdout",
     "output_type": "stream",
     "text": [
      "Saved grid to KIND_SDUS53_N0RIND_201105012317_grid.nc\n"
     ]
    },
    {
     "name": "stderr",
     "output_type": "stream",
     "text": [
      "/Users/adkchappy/anaconda3/envs/pyart_env/lib/python3.8/site-packages/pyart/map/gates_to_grid.py:160: DeprecationWarning: Barnes weighting function is deprecated. Please use Barnes 2 to be consistent with Pauley and Wu 1990.\n",
      "  warnings.warn(\"Barnes weighting function is deprecated.\"\n",
      "/Users/adkchappy/anaconda3/envs/pyart_env/lib/python3.8/site-packages/pyart/filters/gatefilter.py:460: DeprecationWarning: `np.bool` is a deprecated alias for the builtin `bool`. To silence this warning, use `bool` by itself. Doing this will not modify any behavior and is safe. If you specifically wanted the numpy scalar type, use `np.bool_` here.\n",
      "Deprecated in NumPy 1.20; for more details and guidance: https://numpy.org/devdocs/release/1.20.0-notes.html#deprecations\n",
      "  self._gate_excluded = np.zeros(shape, dtype=np.bool)\n"
     ]
    },
    {
     "name": "stdout",
     "output_type": "stream",
     "text": [
      "Saved grid to KIND_SDUS53_N0RIND_201105011955_grid.nc\n"
     ]
    },
    {
     "name": "stderr",
     "output_type": "stream",
     "text": [
      "/Users/adkchappy/anaconda3/envs/pyart_env/lib/python3.8/site-packages/pyart/map/gates_to_grid.py:160: DeprecationWarning: Barnes weighting function is deprecated. Please use Barnes 2 to be consistent with Pauley and Wu 1990.\n",
      "  warnings.warn(\"Barnes weighting function is deprecated.\"\n",
      "/Users/adkchappy/anaconda3/envs/pyart_env/lib/python3.8/site-packages/pyart/filters/gatefilter.py:460: DeprecationWarning: `np.bool` is a deprecated alias for the builtin `bool`. To silence this warning, use `bool` by itself. Doing this will not modify any behavior and is safe. If you specifically wanted the numpy scalar type, use `np.bool_` here.\n",
      "Deprecated in NumPy 1.20; for more details and guidance: https://numpy.org/devdocs/release/1.20.0-notes.html#deprecations\n",
      "  self._gate_excluded = np.zeros(shape, dtype=np.bool)\n"
     ]
    },
    {
     "name": "stdout",
     "output_type": "stream",
     "text": [
      "Saved grid to KIND_SDUS53_N0RIND_201105011731_grid.nc\n"
     ]
    },
    {
     "name": "stderr",
     "output_type": "stream",
     "text": [
      "/Users/adkchappy/anaconda3/envs/pyart_env/lib/python3.8/site-packages/pyart/map/gates_to_grid.py:160: DeprecationWarning: Barnes weighting function is deprecated. Please use Barnes 2 to be consistent with Pauley and Wu 1990.\n",
      "  warnings.warn(\"Barnes weighting function is deprecated.\"\n",
      "/Users/adkchappy/anaconda3/envs/pyart_env/lib/python3.8/site-packages/pyart/filters/gatefilter.py:460: DeprecationWarning: `np.bool` is a deprecated alias for the builtin `bool`. To silence this warning, use `bool` by itself. Doing this will not modify any behavior and is safe. If you specifically wanted the numpy scalar type, use `np.bool_` here.\n",
      "Deprecated in NumPy 1.20; for more details and guidance: https://numpy.org/devdocs/release/1.20.0-notes.html#deprecations\n",
      "  self._gate_excluded = np.zeros(shape, dtype=np.bool)\n"
     ]
    },
    {
     "name": "stdout",
     "output_type": "stream",
     "text": [
      "Saved grid to KIND_SDUS53_N0RIND_201105012140_grid.nc\n"
     ]
    },
    {
     "name": "stderr",
     "output_type": "stream",
     "text": [
      "/Users/adkchappy/anaconda3/envs/pyart_env/lib/python3.8/site-packages/pyart/map/gates_to_grid.py:160: DeprecationWarning: Barnes weighting function is deprecated. Please use Barnes 2 to be consistent with Pauley and Wu 1990.\n",
      "  warnings.warn(\"Barnes weighting function is deprecated.\"\n",
      "/Users/adkchappy/anaconda3/envs/pyart_env/lib/python3.8/site-packages/pyart/filters/gatefilter.py:460: DeprecationWarning: `np.bool` is a deprecated alias for the builtin `bool`. To silence this warning, use `bool` by itself. Doing this will not modify any behavior and is safe. If you specifically wanted the numpy scalar type, use `np.bool_` here.\n",
      "Deprecated in NumPy 1.20; for more details and guidance: https://numpy.org/devdocs/release/1.20.0-notes.html#deprecations\n",
      "  self._gate_excluded = np.zeros(shape, dtype=np.bool)\n"
     ]
    },
    {
     "name": "stdout",
     "output_type": "stream",
     "text": [
      "Saved grid to KIND_SDUS53_N0RIND_201105010425_grid.nc\n"
     ]
    },
    {
     "name": "stderr",
     "output_type": "stream",
     "text": [
      "/Users/adkchappy/anaconda3/envs/pyart_env/lib/python3.8/site-packages/pyart/map/gates_to_grid.py:160: DeprecationWarning: Barnes weighting function is deprecated. Please use Barnes 2 to be consistent with Pauley and Wu 1990.\n",
      "  warnings.warn(\"Barnes weighting function is deprecated.\"\n",
      "/Users/adkchappy/anaconda3/envs/pyart_env/lib/python3.8/site-packages/pyart/filters/gatefilter.py:460: DeprecationWarning: `np.bool` is a deprecated alias for the builtin `bool`. To silence this warning, use `bool` by itself. Doing this will not modify any behavior and is safe. If you specifically wanted the numpy scalar type, use `np.bool_` here.\n",
      "Deprecated in NumPy 1.20; for more details and guidance: https://numpy.org/devdocs/release/1.20.0-notes.html#deprecations\n",
      "  self._gate_excluded = np.zeros(shape, dtype=np.bool)\n"
     ]
    },
    {
     "name": "stdout",
     "output_type": "stream",
     "text": [
      "Saved grid to KIND_SDUS53_N0RIND_201105010610_grid.nc\n"
     ]
    },
    {
     "name": "stderr",
     "output_type": "stream",
     "text": [
      "/Users/adkchappy/anaconda3/envs/pyart_env/lib/python3.8/site-packages/pyart/map/gates_to_grid.py:160: DeprecationWarning: Barnes weighting function is deprecated. Please use Barnes 2 to be consistent with Pauley and Wu 1990.\n",
      "  warnings.warn(\"Barnes weighting function is deprecated.\"\n",
      "/Users/adkchappy/anaconda3/envs/pyart_env/lib/python3.8/site-packages/pyart/filters/gatefilter.py:460: DeprecationWarning: `np.bool` is a deprecated alias for the builtin `bool`. To silence this warning, use `bool` by itself. Doing this will not modify any behavior and is safe. If you specifically wanted the numpy scalar type, use `np.bool_` here.\n",
      "Deprecated in NumPy 1.20; for more details and guidance: https://numpy.org/devdocs/release/1.20.0-notes.html#deprecations\n",
      "  self._gate_excluded = np.zeros(shape, dtype=np.bool)\n"
     ]
    },
    {
     "name": "stdout",
     "output_type": "stream",
     "text": [
      "Saved grid to KIND_SDUS53_N0RIND_201105012147_grid.nc\n"
     ]
    },
    {
     "name": "stderr",
     "output_type": "stream",
     "text": [
      "/Users/adkchappy/anaconda3/envs/pyart_env/lib/python3.8/site-packages/pyart/map/gates_to_grid.py:160: DeprecationWarning: Barnes weighting function is deprecated. Please use Barnes 2 to be consistent with Pauley and Wu 1990.\n",
      "  warnings.warn(\"Barnes weighting function is deprecated.\"\n",
      "/Users/adkchappy/anaconda3/envs/pyart_env/lib/python3.8/site-packages/pyart/filters/gatefilter.py:460: DeprecationWarning: `np.bool` is a deprecated alias for the builtin `bool`. To silence this warning, use `bool` by itself. Doing this will not modify any behavior and is safe. If you specifically wanted the numpy scalar type, use `np.bool_` here.\n",
      "Deprecated in NumPy 1.20; for more details and guidance: https://numpy.org/devdocs/release/1.20.0-notes.html#deprecations\n",
      "  self._gate_excluded = np.zeros(shape, dtype=np.bool)\n"
     ]
    },
    {
     "name": "stdout",
     "output_type": "stream",
     "text": [
      "Saved grid to KIND_SDUS53_N0RIND_201105010339_grid.nc\n"
     ]
    },
    {
     "name": "stderr",
     "output_type": "stream",
     "text": [
      "/Users/adkchappy/anaconda3/envs/pyart_env/lib/python3.8/site-packages/pyart/map/gates_to_grid.py:160: DeprecationWarning: Barnes weighting function is deprecated. Please use Barnes 2 to be consistent with Pauley and Wu 1990.\n",
      "  warnings.warn(\"Barnes weighting function is deprecated.\"\n",
      "/Users/adkchappy/anaconda3/envs/pyart_env/lib/python3.8/site-packages/pyart/filters/gatefilter.py:460: DeprecationWarning: `np.bool` is a deprecated alias for the builtin `bool`. To silence this warning, use `bool` by itself. Doing this will not modify any behavior and is safe. If you specifically wanted the numpy scalar type, use `np.bool_` here.\n",
      "Deprecated in NumPy 1.20; for more details and guidance: https://numpy.org/devdocs/release/1.20.0-notes.html#deprecations\n",
      "  self._gate_excluded = np.zeros(shape, dtype=np.bool)\n"
     ]
    },
    {
     "name": "stdout",
     "output_type": "stream",
     "text": [
      "Saved grid to KIND_SDUS53_N0RIND_201105011218_grid.nc\n"
     ]
    },
    {
     "name": "stderr",
     "output_type": "stream",
     "text": [
      "/Users/adkchappy/anaconda3/envs/pyart_env/lib/python3.8/site-packages/pyart/map/gates_to_grid.py:160: DeprecationWarning: Barnes weighting function is deprecated. Please use Barnes 2 to be consistent with Pauley and Wu 1990.\n",
      "  warnings.warn(\"Barnes weighting function is deprecated.\"\n",
      "/Users/adkchappy/anaconda3/envs/pyart_env/lib/python3.8/site-packages/pyart/filters/gatefilter.py:460: DeprecationWarning: `np.bool` is a deprecated alias for the builtin `bool`. To silence this warning, use `bool` by itself. Doing this will not modify any behavior and is safe. If you specifically wanted the numpy scalar type, use `np.bool_` here.\n",
      "Deprecated in NumPy 1.20; for more details and guidance: https://numpy.org/devdocs/release/1.20.0-notes.html#deprecations\n",
      "  self._gate_excluded = np.zeros(shape, dtype=np.bool)\n"
     ]
    },
    {
     "name": "stdout",
     "output_type": "stream",
     "text": [
      "Saved grid to KIND_SDUS53_N0RIND_201105011015_grid.nc\n"
     ]
    },
    {
     "name": "stderr",
     "output_type": "stream",
     "text": [
      "/Users/adkchappy/anaconda3/envs/pyart_env/lib/python3.8/site-packages/pyart/map/gates_to_grid.py:160: DeprecationWarning: Barnes weighting function is deprecated. Please use Barnes 2 to be consistent with Pauley and Wu 1990.\n",
      "  warnings.warn(\"Barnes weighting function is deprecated.\"\n",
      "/Users/adkchappy/anaconda3/envs/pyart_env/lib/python3.8/site-packages/pyart/filters/gatefilter.py:460: DeprecationWarning: `np.bool` is a deprecated alias for the builtin `bool`. To silence this warning, use `bool` by itself. Doing this will not modify any behavior and is safe. If you specifically wanted the numpy scalar type, use `np.bool_` here.\n",
      "Deprecated in NumPy 1.20; for more details and guidance: https://numpy.org/devdocs/release/1.20.0-notes.html#deprecations\n",
      "  self._gate_excluded = np.zeros(shape, dtype=np.bool)\n"
     ]
    },
    {
     "name": "stdout",
     "output_type": "stream",
     "text": [
      "Saved grid to KIND_SDUS53_N0RIND_201105010906_grid.nc\n"
     ]
    },
    {
     "name": "stderr",
     "output_type": "stream",
     "text": [
      "/Users/adkchappy/anaconda3/envs/pyart_env/lib/python3.8/site-packages/pyart/map/gates_to_grid.py:160: DeprecationWarning: Barnes weighting function is deprecated. Please use Barnes 2 to be consistent with Pauley and Wu 1990.\n",
      "  warnings.warn(\"Barnes weighting function is deprecated.\"\n",
      "/Users/adkchappy/anaconda3/envs/pyart_env/lib/python3.8/site-packages/pyart/filters/gatefilter.py:460: DeprecationWarning: `np.bool` is a deprecated alias for the builtin `bool`. To silence this warning, use `bool` by itself. Doing this will not modify any behavior and is safe. If you specifically wanted the numpy scalar type, use `np.bool_` here.\n",
      "Deprecated in NumPy 1.20; for more details and guidance: https://numpy.org/devdocs/release/1.20.0-notes.html#deprecations\n",
      "  self._gate_excluded = np.zeros(shape, dtype=np.bool)\n"
     ]
    },
    {
     "name": "stdout",
     "output_type": "stream",
     "text": [
      "Saved grid to KIND_SDUS53_N0RIND_201105011211_grid.nc\n"
     ]
    },
    {
     "name": "stderr",
     "output_type": "stream",
     "text": [
      "/Users/adkchappy/anaconda3/envs/pyart_env/lib/python3.8/site-packages/pyart/map/gates_to_grid.py:160: DeprecationWarning: Barnes weighting function is deprecated. Please use Barnes 2 to be consistent with Pauley and Wu 1990.\n",
      "  warnings.warn(\"Barnes weighting function is deprecated.\"\n",
      "/Users/adkchappy/anaconda3/envs/pyart_env/lib/python3.8/site-packages/pyart/filters/gatefilter.py:460: DeprecationWarning: `np.bool` is a deprecated alias for the builtin `bool`. To silence this warning, use `bool` by itself. Doing this will not modify any behavior and is safe. If you specifically wanted the numpy scalar type, use `np.bool_` here.\n",
      "Deprecated in NumPy 1.20; for more details and guidance: https://numpy.org/devdocs/release/1.20.0-notes.html#deprecations\n",
      "  self._gate_excluded = np.zeros(shape, dtype=np.bool)\n"
     ]
    },
    {
     "name": "stdout",
     "output_type": "stream",
     "text": [
      "Saved grid to KIND_SDUS53_N0RIND_201105011229_grid.nc\n"
     ]
    },
    {
     "name": "stderr",
     "output_type": "stream",
     "text": [
      "/Users/adkchappy/anaconda3/envs/pyart_env/lib/python3.8/site-packages/pyart/map/gates_to_grid.py:160: DeprecationWarning: Barnes weighting function is deprecated. Please use Barnes 2 to be consistent with Pauley and Wu 1990.\n",
      "  warnings.warn(\"Barnes weighting function is deprecated.\"\n",
      "/Users/adkchappy/anaconda3/envs/pyart_env/lib/python3.8/site-packages/pyart/filters/gatefilter.py:460: DeprecationWarning: `np.bool` is a deprecated alias for the builtin `bool`. To silence this warning, use `bool` by itself. Doing this will not modify any behavior and is safe. If you specifically wanted the numpy scalar type, use `np.bool_` here.\n",
      "Deprecated in NumPy 1.20; for more details and guidance: https://numpy.org/devdocs/release/1.20.0-notes.html#deprecations\n",
      "  self._gate_excluded = np.zeros(shape, dtype=np.bool)\n"
     ]
    },
    {
     "name": "stdout",
     "output_type": "stream",
     "text": [
      "Saved grid to KIND_SDUS53_N0RIND_201105010901_grid.nc\n"
     ]
    },
    {
     "name": "stderr",
     "output_type": "stream",
     "text": [
      "/Users/adkchappy/anaconda3/envs/pyart_env/lib/python3.8/site-packages/pyart/map/gates_to_grid.py:160: DeprecationWarning: Barnes weighting function is deprecated. Please use Barnes 2 to be consistent with Pauley and Wu 1990.\n",
      "  warnings.warn(\"Barnes weighting function is deprecated.\"\n",
      "/Users/adkchappy/anaconda3/envs/pyart_env/lib/python3.8/site-packages/pyart/filters/gatefilter.py:460: DeprecationWarning: `np.bool` is a deprecated alias for the builtin `bool`. To silence this warning, use `bool` by itself. Doing this will not modify any behavior and is safe. If you specifically wanted the numpy scalar type, use `np.bool_` here.\n",
      "Deprecated in NumPy 1.20; for more details and guidance: https://numpy.org/devdocs/release/1.20.0-notes.html#deprecations\n",
      "  self._gate_excluded = np.zeros(shape, dtype=np.bool)\n"
     ]
    },
    {
     "name": "stdout",
     "output_type": "stream",
     "text": [
      "Saved grid to KIND_SDUS53_N0RIND_201105010955_grid.nc\n"
     ]
    },
    {
     "name": "stderr",
     "output_type": "stream",
     "text": [
      "/Users/adkchappy/anaconda3/envs/pyart_env/lib/python3.8/site-packages/pyart/map/gates_to_grid.py:160: DeprecationWarning: Barnes weighting function is deprecated. Please use Barnes 2 to be consistent with Pauley and Wu 1990.\n",
      "  warnings.warn(\"Barnes weighting function is deprecated.\"\n",
      "/Users/adkchappy/anaconda3/envs/pyart_env/lib/python3.8/site-packages/pyart/filters/gatefilter.py:460: DeprecationWarning: `np.bool` is a deprecated alias for the builtin `bool`. To silence this warning, use `bool` by itself. Doing this will not modify any behavior and is safe. If you specifically wanted the numpy scalar type, use `np.bool_` here.\n",
      "Deprecated in NumPy 1.20; for more details and guidance: https://numpy.org/devdocs/release/1.20.0-notes.html#deprecations\n",
      "  self._gate_excluded = np.zeros(shape, dtype=np.bool)\n"
     ]
    },
    {
     "name": "stdout",
     "output_type": "stream",
     "text": [
      "Saved grid to KIND_SDUS53_N0RIND_201105010738_grid.nc\n"
     ]
    },
    {
     "name": "stderr",
     "output_type": "stream",
     "text": [
      "/Users/adkchappy/anaconda3/envs/pyart_env/lib/python3.8/site-packages/pyart/map/gates_to_grid.py:160: DeprecationWarning: Barnes weighting function is deprecated. Please use Barnes 2 to be consistent with Pauley and Wu 1990.\n",
      "  warnings.warn(\"Barnes weighting function is deprecated.\"\n",
      "/Users/adkchappy/anaconda3/envs/pyart_env/lib/python3.8/site-packages/pyart/filters/gatefilter.py:460: DeprecationWarning: `np.bool` is a deprecated alias for the builtin `bool`. To silence this warning, use `bool` by itself. Doing this will not modify any behavior and is safe. If you specifically wanted the numpy scalar type, use `np.bool_` here.\n",
      "Deprecated in NumPy 1.20; for more details and guidance: https://numpy.org/devdocs/release/1.20.0-notes.html#deprecations\n",
      "  self._gate_excluded = np.zeros(shape, dtype=np.bool)\n"
     ]
    },
    {
     "name": "stdout",
     "output_type": "stream",
     "text": [
      "Saved grid to KIND_SDUS53_N0RIND_201105012254_grid.nc\n"
     ]
    },
    {
     "name": "stderr",
     "output_type": "stream",
     "text": [
      "/Users/adkchappy/anaconda3/envs/pyart_env/lib/python3.8/site-packages/pyart/map/gates_to_grid.py:160: DeprecationWarning: Barnes weighting function is deprecated. Please use Barnes 2 to be consistent with Pauley and Wu 1990.\n",
      "  warnings.warn(\"Barnes weighting function is deprecated.\"\n",
      "/Users/adkchappy/anaconda3/envs/pyart_env/lib/python3.8/site-packages/pyart/filters/gatefilter.py:460: DeprecationWarning: `np.bool` is a deprecated alias for the builtin `bool`. To silence this warning, use `bool` by itself. Doing this will not modify any behavior and is safe. If you specifically wanted the numpy scalar type, use `np.bool_` here.\n",
      "Deprecated in NumPy 1.20; for more details and guidance: https://numpy.org/devdocs/release/1.20.0-notes.html#deprecations\n",
      "  self._gate_excluded = np.zeros(shape, dtype=np.bool)\n"
     ]
    },
    {
     "name": "stdout",
     "output_type": "stream",
     "text": [
      "Saved grid to KIND_SDUS53_N0RIND_201105010504_grid.nc\n"
     ]
    },
    {
     "name": "stderr",
     "output_type": "stream",
     "text": [
      "/Users/adkchappy/anaconda3/envs/pyart_env/lib/python3.8/site-packages/pyart/map/gates_to_grid.py:160: DeprecationWarning: Barnes weighting function is deprecated. Please use Barnes 2 to be consistent with Pauley and Wu 1990.\n",
      "  warnings.warn(\"Barnes weighting function is deprecated.\"\n",
      "/Users/adkchappy/anaconda3/envs/pyart_env/lib/python3.8/site-packages/pyart/filters/gatefilter.py:460: DeprecationWarning: `np.bool` is a deprecated alias for the builtin `bool`. To silence this warning, use `bool` by itself. Doing this will not modify any behavior and is safe. If you specifically wanted the numpy scalar type, use `np.bool_` here.\n",
      "Deprecated in NumPy 1.20; for more details and guidance: https://numpy.org/devdocs/release/1.20.0-notes.html#deprecations\n",
      "  self._gate_excluded = np.zeros(shape, dtype=np.bool)\n"
     ]
    },
    {
     "name": "stdout",
     "output_type": "stream",
     "text": [
      "Saved grid to KIND_SDUS53_N0RIND_201105011819_grid.nc\n"
     ]
    },
    {
     "name": "stderr",
     "output_type": "stream",
     "text": [
      "/Users/adkchappy/anaconda3/envs/pyart_env/lib/python3.8/site-packages/pyart/map/gates_to_grid.py:160: DeprecationWarning: Barnes weighting function is deprecated. Please use Barnes 2 to be consistent with Pauley and Wu 1990.\n",
      "  warnings.warn(\"Barnes weighting function is deprecated.\"\n",
      "/Users/adkchappy/anaconda3/envs/pyart_env/lib/python3.8/site-packages/pyart/filters/gatefilter.py:460: DeprecationWarning: `np.bool` is a deprecated alias for the builtin `bool`. To silence this warning, use `bool` by itself. Doing this will not modify any behavior and is safe. If you specifically wanted the numpy scalar type, use `np.bool_` here.\n",
      "Deprecated in NumPy 1.20; for more details and guidance: https://numpy.org/devdocs/release/1.20.0-notes.html#deprecations\n",
      "  self._gate_excluded = np.zeros(shape, dtype=np.bool)\n"
     ]
    },
    {
     "name": "stdout",
     "output_type": "stream",
     "text": [
      "Saved grid to KIND_SDUS53_N0RIND_201105012208_grid.nc\n"
     ]
    },
    {
     "name": "stderr",
     "output_type": "stream",
     "text": [
      "/Users/adkchappy/anaconda3/envs/pyart_env/lib/python3.8/site-packages/pyart/map/gates_to_grid.py:160: DeprecationWarning: Barnes weighting function is deprecated. Please use Barnes 2 to be consistent with Pauley and Wu 1990.\n",
      "  warnings.warn(\"Barnes weighting function is deprecated.\"\n",
      "/Users/adkchappy/anaconda3/envs/pyart_env/lib/python3.8/site-packages/pyart/filters/gatefilter.py:460: DeprecationWarning: `np.bool` is a deprecated alias for the builtin `bool`. To silence this warning, use `bool` by itself. Doing this will not modify any behavior and is safe. If you specifically wanted the numpy scalar type, use `np.bool_` here.\n",
      "Deprecated in NumPy 1.20; for more details and guidance: https://numpy.org/devdocs/release/1.20.0-notes.html#deprecations\n",
      "  self._gate_excluded = np.zeros(shape, dtype=np.bool)\n"
     ]
    },
    {
     "name": "stdout",
     "output_type": "stream",
     "text": [
      "Saved grid to KIND_SDUS53_N0RIND_201105011022_grid.nc\n"
     ]
    },
    {
     "name": "stderr",
     "output_type": "stream",
     "text": [
      "/Users/adkchappy/anaconda3/envs/pyart_env/lib/python3.8/site-packages/pyart/map/gates_to_grid.py:160: DeprecationWarning: Barnes weighting function is deprecated. Please use Barnes 2 to be consistent with Pauley and Wu 1990.\n",
      "  warnings.warn(\"Barnes weighting function is deprecated.\"\n",
      "/Users/adkchappy/anaconda3/envs/pyart_env/lib/python3.8/site-packages/pyart/filters/gatefilter.py:460: DeprecationWarning: `np.bool` is a deprecated alias for the builtin `bool`. To silence this warning, use `bool` by itself. Doing this will not modify any behavior and is safe. If you specifically wanted the numpy scalar type, use `np.bool_` here.\n",
      "Deprecated in NumPy 1.20; for more details and guidance: https://numpy.org/devdocs/release/1.20.0-notes.html#deprecations\n",
      "  self._gate_excluded = np.zeros(shape, dtype=np.bool)\n"
     ]
    },
    {
     "name": "stdout",
     "output_type": "stream",
     "text": [
      "Saved grid to KIND_SDUS53_N0RIND_201105011446_grid.nc\n"
     ]
    },
    {
     "name": "stderr",
     "output_type": "stream",
     "text": [
      "/Users/adkchappy/anaconda3/envs/pyart_env/lib/python3.8/site-packages/pyart/map/gates_to_grid.py:160: DeprecationWarning: Barnes weighting function is deprecated. Please use Barnes 2 to be consistent with Pauley and Wu 1990.\n",
      "  warnings.warn(\"Barnes weighting function is deprecated.\"\n",
      "/Users/adkchappy/anaconda3/envs/pyart_env/lib/python3.8/site-packages/pyart/filters/gatefilter.py:460: DeprecationWarning: `np.bool` is a deprecated alias for the builtin `bool`. To silence this warning, use `bool` by itself. Doing this will not modify any behavior and is safe. If you specifically wanted the numpy scalar type, use `np.bool_` here.\n",
      "Deprecated in NumPy 1.20; for more details and guidance: https://numpy.org/devdocs/release/1.20.0-notes.html#deprecations\n",
      "  self._gate_excluded = np.zeros(shape, dtype=np.bool)\n"
     ]
    },
    {
     "name": "stdout",
     "output_type": "stream",
     "text": [
      "Saved grid to KIND_SDUS53_N0RIND_201105012005_grid.nc\n"
     ]
    },
    {
     "name": "stderr",
     "output_type": "stream",
     "text": [
      "/Users/adkchappy/anaconda3/envs/pyart_env/lib/python3.8/site-packages/pyart/map/gates_to_grid.py:160: DeprecationWarning: Barnes weighting function is deprecated. Please use Barnes 2 to be consistent with Pauley and Wu 1990.\n",
      "  warnings.warn(\"Barnes weighting function is deprecated.\"\n",
      "/Users/adkchappy/anaconda3/envs/pyart_env/lib/python3.8/site-packages/pyart/filters/gatefilter.py:460: DeprecationWarning: `np.bool` is a deprecated alias for the builtin `bool`. To silence this warning, use `bool` by itself. Doing this will not modify any behavior and is safe. If you specifically wanted the numpy scalar type, use `np.bool_` here.\n",
      "Deprecated in NumPy 1.20; for more details and guidance: https://numpy.org/devdocs/release/1.20.0-notes.html#deprecations\n",
      "  self._gate_excluded = np.zeros(shape, dtype=np.bool)\n"
     ]
    },
    {
     "name": "stdout",
     "output_type": "stream",
     "text": [
      "Saved grid to KIND_SDUS53_N0RIND_201105010752_grid.nc\n"
     ]
    },
    {
     "name": "stderr",
     "output_type": "stream",
     "text": [
      "/Users/adkchappy/anaconda3/envs/pyart_env/lib/python3.8/site-packages/pyart/map/gates_to_grid.py:160: DeprecationWarning: Barnes weighting function is deprecated. Please use Barnes 2 to be consistent with Pauley and Wu 1990.\n",
      "  warnings.warn(\"Barnes weighting function is deprecated.\"\n",
      "/Users/adkchappy/anaconda3/envs/pyart_env/lib/python3.8/site-packages/pyart/filters/gatefilter.py:460: DeprecationWarning: `np.bool` is a deprecated alias for the builtin `bool`. To silence this warning, use `bool` by itself. Doing this will not modify any behavior and is safe. If you specifically wanted the numpy scalar type, use `np.bool_` here.\n",
      "Deprecated in NumPy 1.20; for more details and guidance: https://numpy.org/devdocs/release/1.20.0-notes.html#deprecations\n",
      "  self._gate_excluded = np.zeros(shape, dtype=np.bool)\n"
     ]
    },
    {
     "name": "stdout",
     "output_type": "stream",
     "text": [
      "Saved grid to KIND_SDUS53_N0RIND_201105010938_grid.nc\n"
     ]
    },
    {
     "name": "stderr",
     "output_type": "stream",
     "text": [
      "/Users/adkchappy/anaconda3/envs/pyart_env/lib/python3.8/site-packages/pyart/map/gates_to_grid.py:160: DeprecationWarning: Barnes weighting function is deprecated. Please use Barnes 2 to be consistent with Pauley and Wu 1990.\n",
      "  warnings.warn(\"Barnes weighting function is deprecated.\"\n",
      "/Users/adkchappy/anaconda3/envs/pyart_env/lib/python3.8/site-packages/pyart/filters/gatefilter.py:460: DeprecationWarning: `np.bool` is a deprecated alias for the builtin `bool`. To silence this warning, use `bool` by itself. Doing this will not modify any behavior and is safe. If you specifically wanted the numpy scalar type, use `np.bool_` here.\n",
      "Deprecated in NumPy 1.20; for more details and guidance: https://numpy.org/devdocs/release/1.20.0-notes.html#deprecations\n",
      "  self._gate_excluded = np.zeros(shape, dtype=np.bool)\n"
     ]
    },
    {
     "name": "stdout",
     "output_type": "stream",
     "text": [
      "Saved grid to KIND_SDUS53_N0RIND_201105011828_grid.nc\n"
     ]
    },
    {
     "name": "stderr",
     "output_type": "stream",
     "text": [
      "/Users/adkchappy/anaconda3/envs/pyart_env/lib/python3.8/site-packages/pyart/map/gates_to_grid.py:160: DeprecationWarning: Barnes weighting function is deprecated. Please use Barnes 2 to be consistent with Pauley and Wu 1990.\n",
      "  warnings.warn(\"Barnes weighting function is deprecated.\"\n",
      "/Users/adkchappy/anaconda3/envs/pyart_env/lib/python3.8/site-packages/pyart/filters/gatefilter.py:460: DeprecationWarning: `np.bool` is a deprecated alias for the builtin `bool`. To silence this warning, use `bool` by itself. Doing this will not modify any behavior and is safe. If you specifically wanted the numpy scalar type, use `np.bool_` here.\n",
      "Deprecated in NumPy 1.20; for more details and guidance: https://numpy.org/devdocs/release/1.20.0-notes.html#deprecations\n",
      "  self._gate_excluded = np.zeros(shape, dtype=np.bool)\n"
     ]
    },
    {
     "name": "stdout",
     "output_type": "stream",
     "text": [
      "Saved grid to KIND_SDUS53_N0RIND_201105012201_grid.nc\n"
     ]
    },
    {
     "name": "stderr",
     "output_type": "stream",
     "text": [
      "/Users/adkchappy/anaconda3/envs/pyart_env/lib/python3.8/site-packages/pyart/map/gates_to_grid.py:160: DeprecationWarning: Barnes weighting function is deprecated. Please use Barnes 2 to be consistent with Pauley and Wu 1990.\n",
      "  warnings.warn(\"Barnes weighting function is deprecated.\"\n",
      "/Users/adkchappy/anaconda3/envs/pyart_env/lib/python3.8/site-packages/pyart/filters/gatefilter.py:460: DeprecationWarning: `np.bool` is a deprecated alias for the builtin `bool`. To silence this warning, use `bool` by itself. Doing this will not modify any behavior and is safe. If you specifically wanted the numpy scalar type, use `np.bool_` here.\n",
      "Deprecated in NumPy 1.20; for more details and guidance: https://numpy.org/devdocs/release/1.20.0-notes.html#deprecations\n",
      "  self._gate_excluded = np.zeros(shape, dtype=np.bool)\n"
     ]
    },
    {
     "name": "stdout",
     "output_type": "stream",
     "text": [
      "Saved grid to KIND_SDUS53_N0RIND_201105010556_grid.nc\n"
     ]
    },
    {
     "name": "stderr",
     "output_type": "stream",
     "text": [
      "/Users/adkchappy/anaconda3/envs/pyart_env/lib/python3.8/site-packages/pyart/map/gates_to_grid.py:160: DeprecationWarning: Barnes weighting function is deprecated. Please use Barnes 2 to be consistent with Pauley and Wu 1990.\n",
      "  warnings.warn(\"Barnes weighting function is deprecated.\"\n",
      "/Users/adkchappy/anaconda3/envs/pyart_env/lib/python3.8/site-packages/pyart/filters/gatefilter.py:460: DeprecationWarning: `np.bool` is a deprecated alias for the builtin `bool`. To silence this warning, use `bool` by itself. Doing this will not modify any behavior and is safe. If you specifically wanted the numpy scalar type, use `np.bool_` here.\n",
      "Deprecated in NumPy 1.20; for more details and guidance: https://numpy.org/devdocs/release/1.20.0-notes.html#deprecations\n",
      "  self._gate_excluded = np.zeros(shape, dtype=np.bool)\n"
     ]
    },
    {
     "name": "stdout",
     "output_type": "stream",
     "text": [
      "Saved grid to KIND_SDUS53_N0RIND_201105012034_grid.nc\n"
     ]
    },
    {
     "name": "stderr",
     "output_type": "stream",
     "text": [
      "/Users/adkchappy/anaconda3/envs/pyart_env/lib/python3.8/site-packages/pyart/map/gates_to_grid.py:160: DeprecationWarning: Barnes weighting function is deprecated. Please use Barnes 2 to be consistent with Pauley and Wu 1990.\n",
      "  warnings.warn(\"Barnes weighting function is deprecated.\"\n",
      "/Users/adkchappy/anaconda3/envs/pyart_env/lib/python3.8/site-packages/pyart/filters/gatefilter.py:460: DeprecationWarning: `np.bool` is a deprecated alias for the builtin `bool`. To silence this warning, use `bool` by itself. Doing this will not modify any behavior and is safe. If you specifically wanted the numpy scalar type, use `np.bool_` here.\n",
      "Deprecated in NumPy 1.20; for more details and guidance: https://numpy.org/devdocs/release/1.20.0-notes.html#deprecations\n",
      "  self._gate_excluded = np.zeros(shape, dtype=np.bool)\n"
     ]
    },
    {
     "name": "stdout",
     "output_type": "stream",
     "text": [
      "Saved grid to KIND_SDUS53_N0RIND_201105011047_grid.nc\n"
     ]
    },
    {
     "name": "stderr",
     "output_type": "stream",
     "text": [
      "/Users/adkchappy/anaconda3/envs/pyart_env/lib/python3.8/site-packages/pyart/map/gates_to_grid.py:160: DeprecationWarning: Barnes weighting function is deprecated. Please use Barnes 2 to be consistent with Pauley and Wu 1990.\n",
      "  warnings.warn(\"Barnes weighting function is deprecated.\"\n",
      "/Users/adkchappy/anaconda3/envs/pyart_env/lib/python3.8/site-packages/pyart/filters/gatefilter.py:460: DeprecationWarning: `np.bool` is a deprecated alias for the builtin `bool`. To silence this warning, use `bool` by itself. Doing this will not modify any behavior and is safe. If you specifically wanted the numpy scalar type, use `np.bool_` here.\n",
      "Deprecated in NumPy 1.20; for more details and guidance: https://numpy.org/devdocs/release/1.20.0-notes.html#deprecations\n",
      "  self._gate_excluded = np.zeros(shape, dtype=np.bool)\n"
     ]
    },
    {
     "name": "stdout",
     "output_type": "stream",
     "text": [
      "Saved grid to KIND_SDUS53_N0RIND_201105011040_grid.nc\n"
     ]
    },
    {
     "name": "stderr",
     "output_type": "stream",
     "text": [
      "/Users/adkchappy/anaconda3/envs/pyart_env/lib/python3.8/site-packages/pyart/map/gates_to_grid.py:160: DeprecationWarning: Barnes weighting function is deprecated. Please use Barnes 2 to be consistent with Pauley and Wu 1990.\n",
      "  warnings.warn(\"Barnes weighting function is deprecated.\"\n",
      "/Users/adkchappy/anaconda3/envs/pyart_env/lib/python3.8/site-packages/pyart/filters/gatefilter.py:460: DeprecationWarning: `np.bool` is a deprecated alias for the builtin `bool`. To silence this warning, use `bool` by itself. Doing this will not modify any behavior and is safe. If you specifically wanted the numpy scalar type, use `np.bool_` here.\n",
      "Deprecated in NumPy 1.20; for more details and guidance: https://numpy.org/devdocs/release/1.20.0-notes.html#deprecations\n",
      "  self._gate_excluded = np.zeros(shape, dtype=np.bool)\n"
     ]
    },
    {
     "name": "stdout",
     "output_type": "stream",
     "text": [
      "Saved grid to KIND_SDUS53_N0RIND_201105010706_grid.nc\n"
     ]
    },
    {
     "name": "stderr",
     "output_type": "stream",
     "text": [
      "/Users/adkchappy/anaconda3/envs/pyart_env/lib/python3.8/site-packages/pyart/map/gates_to_grid.py:160: DeprecationWarning: Barnes weighting function is deprecated. Please use Barnes 2 to be consistent with Pauley and Wu 1990.\n",
      "  warnings.warn(\"Barnes weighting function is deprecated.\"\n",
      "/Users/adkchappy/anaconda3/envs/pyart_env/lib/python3.8/site-packages/pyart/filters/gatefilter.py:460: DeprecationWarning: `np.bool` is a deprecated alias for the builtin `bool`. To silence this warning, use `bool` by itself. Doing this will not modify any behavior and is safe. If you specifically wanted the numpy scalar type, use `np.bool_` here.\n",
      "Deprecated in NumPy 1.20; for more details and guidance: https://numpy.org/devdocs/release/1.20.0-notes.html#deprecations\n",
      "  self._gate_excluded = np.zeros(shape, dtype=np.bool)\n"
     ]
    },
    {
     "name": "stdout",
     "output_type": "stream",
     "text": [
      "Saved grid to KIND_SDUS53_N0RIND_201105010534_grid.nc\n"
     ]
    },
    {
     "name": "stderr",
     "output_type": "stream",
     "text": [
      "/Users/adkchappy/anaconda3/envs/pyart_env/lib/python3.8/site-packages/pyart/map/gates_to_grid.py:160: DeprecationWarning: Barnes weighting function is deprecated. Please use Barnes 2 to be consistent with Pauley and Wu 1990.\n",
      "  warnings.warn(\"Barnes weighting function is deprecated.\"\n",
      "/Users/adkchappy/anaconda3/envs/pyart_env/lib/python3.8/site-packages/pyart/filters/gatefilter.py:460: DeprecationWarning: `np.bool` is a deprecated alias for the builtin `bool`. To silence this warning, use `bool` by itself. Doing this will not modify any behavior and is safe. If you specifically wanted the numpy scalar type, use `np.bool_` here.\n",
      "Deprecated in NumPy 1.20; for more details and guidance: https://numpy.org/devdocs/release/1.20.0-notes.html#deprecations\n",
      "  self._gate_excluded = np.zeros(shape, dtype=np.bool)\n"
     ]
    },
    {
     "name": "stdout",
     "output_type": "stream",
     "text": [
      "Saved grid to KIND_SDUS53_N0RIND_201105011243_grid.nc\n"
     ]
    }
   ],
   "source": [
    "#Loop through your files to create grid objects\n",
    "\n",
    "for filename in os.listdir(path):\n",
    "    #Loop through the radar files only, not any readme/other documentation files\n",
    "    #This is an example for the KIND (Indianapolis, IN) radar; hence the 'KIND' descriptor\n",
    "    if 'KIND' in filename:\n",
    "        file_path = os.path.join(path, filename)\n",
    "        \n",
    "        try:\n",
    "        \n",
    "            #Read in radar data using pyart\n",
    "            radar = pyart.io.read_nexrad_level3(file_path)\n",
    "\n",
    "            grid_file = pyart.map.grid_from_radars(\n",
    "                radar,\n",
    "                grid_shape=(41, 201, 201),\n",
    "                grid_limits=(\n",
    "                    (\n",
    "                        0.0,\n",
    "                        20000,\n",
    "                    ),\n",
    "                    (-100000.0, 100000.0),\n",
    "                    (-100000, 100000.0),\n",
    "                ),\n",
    "            )\n",
    "\n",
    "            output_filename = filename.replace('.','_') + '_grid.nc'\n",
    "\n",
    "            # Save the grid to a NetCDF file\n",
    "            pyart.io.write_grid(output_filename, grid_file)\n",
    "\n",
    "            print(f\"Saved grid to {output_filename}\")\n",
    "            \n",
    "        except Exception as e:\n",
    "            print(f\"Error processing {filename}: {str(e)}\")"
   ]
  },
  {
   "cell_type": "code",
   "execution_count": null,
   "id": "c171f05a-3668-4780-bd22-e19305c03e64",
   "metadata": {},
   "outputs": [],
   "source": []
  }
 ],
 "metadata": {
  "kernelspec": {
   "display_name": "pyart_env",
   "language": "python",
   "name": "pyart_env"
  },
  "language_info": {
   "codemirror_mode": {
    "name": "ipython",
    "version": 3
   },
   "file_extension": ".py",
   "mimetype": "text/x-python",
   "name": "python",
   "nbconvert_exporter": "python",
   "pygments_lexer": "ipython3",
   "version": "3.8.17"
  }
 },
 "nbformat": 4,
 "nbformat_minor": 5
}
