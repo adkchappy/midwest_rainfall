{
 "cells": [
  {
   "cell_type": "code",
   "execution_count": null,
   "id": "9bdebffa-12a9-4249-a87c-636ddb9e0e79",
   "metadata": {},
   "outputs": [],
   "source": [
    "#This brief script allows users to convert NEXRAD radar files to .nc grid objects\n",
    "#Converting a radar object to a Cartesian grid object can more easily allow for some analytical tasks\n",
    "#The pyart package is a useful tool for working with radar data\n",
    "#See pyart documentation here: https://arm-doe.github.io/pyart/\n",
    "#See also https://arm-doe.github.io/pyart/notebooks/mapping_data_to_a_cartesian_grid.html"
   ]
  },
  {
   "cell_type": "code",
   "execution_count": null,
   "id": "debcd525-609d-4dc4-a400-fdf4277be800",
   "metadata": {
    "tags": []
   },
   "outputs": [],
   "source": [
    "import os\n",
    "import pyart"
   ]
  },
  {
   "cell_type": "code",
   "execution_count": null,
   "id": "e62cc32d-52c8-4215-8af5-4b995d657e89",
   "metadata": {
    "tags": []
   },
   "outputs": [],
   "source": [
    "#Connect to the folder containing your files\n",
    "path=\"path/to/folder\"\n",
    "os.chdir(path)"
   ]
  },
  {
   "cell_type": "code",
   "execution_count": null,
   "id": "db69ed2a-8932-4ccf-82bf-7a54c5878cb1",
   "metadata": {
    "tags": []
   },
   "outputs": [],
   "source": [
    "#Loop through your files to create grid objects\n",
    "\n",
    "for filename in os.listdir(path):\n",
    "    #Loop through the radar files only, not any readme/other documentation files\n",
    "    #This is an example for the KIND (Indianapolis, IN) radar; hence the 'KIND' descriptor\n",
    "    if 'KIND' in filename:\n",
    "        file_path = os.path.join(path, filename)\n",
    "        \n",
    "        try:\n",
    "        \n",
    "            #Read in radar data using pyart\n",
    "            radar = pyart.io.read_nexrad_level3(file_path)\n",
    "\n",
    "            grid_file = pyart.map.grid_from_radars(\n",
    "                radar,\n",
    "                grid_shape=(41, 201, 201),\n",
    "                grid_limits=(\n",
    "                    (\n",
    "                        0.0,\n",
    "                        20000,\n",
    "                    ),\n",
    "                    (-100000.0, 100000.0),\n",
    "                    (-100000, 100000.0),\n",
    "                ),\n",
    "            )\n",
    "\n",
    "            output_filename = filename.replace('.','_') + '_grid.nc'\n",
    "\n",
    "            # Save the grid to a NetCDF file\n",
    "            pyart.io.write_grid(output_filename, grid_file)\n",
    "\n",
    "            print(f\"Saved grid to {output_filename}\")\n",
    "            \n",
    "        except Exception as e:\n",
    "            print(f\"Error processing {filename}: {str(e)}\")"
   ]
  },
  {
   "cell_type": "code",
   "execution_count": null,
   "id": "c171f05a-3668-4780-bd22-e19305c03e64",
   "metadata": {},
   "outputs": [],
   "source": []
  }
 ],
 "metadata": {
  "kernelspec": {
   "display_name": "pyart_env",
   "language": "python",
   "name": "pyart_env"
  },
  "language_info": {
   "codemirror_mode": {
    "name": "ipython",
    "version": 3
   },
   "file_extension": ".py",
   "mimetype": "text/x-python",
   "name": "python",
   "nbconvert_exporter": "python",
   "pygments_lexer": "ipython3",
   "version": "3.8.17"
  }
 },
 "nbformat": 4,
 "nbformat_minor": 5
}
