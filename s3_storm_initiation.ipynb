{
 "cells": [
  {
   "cell_type": "code",
   "execution_count": null,
   "id": "9d19db8b-dd03-4fa9-a22e-c328dad44948",
   "metadata": {},
   "outputs": [],
   "source": [
    "#Create grids of level-2 NEXRAD data and identify convective cells using tint package\n",
    "#Identify the time, lat, and lon of convective initiation for each cell\n",
    "#Largely based off this tutorial: https://notebook.community/openradar/TINT/examples/tint_demo\n",
    "#More info on tint: https://github.com/openradar/TINT/tree/master\n",
    "#More info on pyart: https://github.com/ARM-DOE/pyart"
   ]
  },
  {
   "cell_type": "code",
   "execution_count": null,
   "id": "d853b7d1-ce7a-496c-b601-5c3643c1f5e0",
   "metadata": {
    "tags": []
   },
   "outputs": [],
   "source": [
    "import numpy as np\n",
    "import tempfile\n",
    "import os\n",
    "import shutil\n",
    "import pyart\n",
    "from tint.data_utils import get_nexrad_keys, read_nexrad_key\n",
    "from tint import Cell_tracks"
   ]
  },
  {
   "cell_type": "code",
   "execution_count": null,
   "id": "044b47ee-425f-4a89-a962-2bed362c98e3",
   "metadata": {
    "tags": []
   },
   "outputs": [],
   "source": [
    "#Connect to the repository (https://noaa-nexrad-level2.s3.amazonaws.com/index.html)\n",
    "#For example, connect to the Indianapolis, IN (KIND) radar on May 3, 2013 from 00:00 GMT to 23:59 GMT\n",
    "keys = get_nexrad_keys('kind', start='20130503_000000', end='20130503_235959')"
   ]
  },
  {
   "cell_type": "code",
   "execution_count": null,
   "id": "443975fd-1a72-46a8-a3bf-77ae22afc7d8",
   "metadata": {
    "tags": []
   },
   "outputs": [],
   "source": [
    "#create a function to retrieve grids\n",
    "def get_grid(radar):\n",
    "    grid = pyart.map.grid_from_radars(\n",
    "        radar, grid_shape=(10, 241, 241),\n",
    "        grid_limits=((0, 10000), (-200000.0, 200000.0), (-200000.0, 200000.0)),\n",
    "        fields=['reflectivity'], gridding_algo='map_gates_to_grid', h_factor=1., nb=1., bsp=0., min_radius=200.)\n",
    "    return grid"
   ]
  },
  {
   "cell_type": "code",
   "execution_count": null,
   "id": "4f48cb9c-bb63-493f-831a-c257429ab9f9",
   "metadata": {
    "tags": []
   },
   "outputs": [],
   "source": [
    "# Create a temporary directory for our grids\n",
    "tmp_dir = tempfile.mkdtemp()\n",
    "print('temporary directory:', tmp_dir)\n",
    "filenames = []"
   ]
  },
  {
   "cell_type": "code",
   "execution_count": null,
   "id": "b03e4d2c-5d64-419d-a83c-18948a3d1c24",
   "metadata": {
    "tags": []
   },
   "outputs": [],
   "source": [
    "#Write the radar files to grid files using pyart\n",
    "#This can take several minutes, as noted by https://notebook.community/openradar/TINT/examples/tint_demo\n",
    "\n",
    "for num, key in enumerate(keys):\n",
    "    print('saving grid', num)\n",
    "    radar = read_nexrad_key(key)\n",
    "    grid = get_grid(radar)\n",
    "    name = os.path.join(tmp_dir, 'grid_' + str(num).zfill(3) + '.nc')\n",
    "    filenames.append(name)\n",
    "    pyart.io.write_grid(name, grid)\n",
    "    del radar, grid"
   ]
  },
  {
   "cell_type": "code",
   "execution_count": null,
   "id": "bdc0cc12-6fee-4332-a873-d6a28e42a52c",
   "metadata": {
    "tags": []
   },
   "outputs": [],
   "source": [
    "#Read in the grid files using pyart\n",
    "grids = (pyart.io.read_grid(fn) for fn in filenames)"
   ]
  },
  {
   "cell_type": "code",
   "execution_count": null,
   "id": "bc6ad63d-0864-4ae1-8234-fb527fcfa7a6",
   "metadata": {
    "tags": []
   },
   "outputs": [],
   "source": [
    "#Initialize the cell tracking method and check the parameters\n",
    "tracks_obj = Cell_tracks()\n",
    "tracks_obj.params"
   ]
  },
  {
   "cell_type": "code",
   "execution_count": null,
   "id": "31a539c6-e73a-4199-b797-ae36a53c065c",
   "metadata": {
    "tags": []
   },
   "outputs": [],
   "source": [
    "#Detect any cell at or above 35 dBZ\n",
    "tracks_obj.params['FIELD_THRESH'] = 35\n",
    "\n",
    "#To be isolated, I am going to require a cell may only have up to 4 contiguous pixels with another cell\n",
    "tracks_obj.params['ISO'] = 4\n",
    "\n",
    "#Double check the parameters\n",
    "tracks_obj.params"
   ]
  },
  {
   "cell_type": "code",
   "execution_count": null,
   "id": "1466812c-7743-4b41-b665-61cee7d90444",
   "metadata": {
    "tags": []
   },
   "outputs": [],
   "source": [
    "#Get the tracks\n",
    "tracks_obj.get_tracks(grids)"
   ]
  },
  {
   "cell_type": "code",
   "execution_count": null,
   "id": "42df1f7a-7838-423d-b240-45e7e74e929c",
   "metadata": {
    "tags": []
   },
   "outputs": [],
   "source": [
    "#create a dataframe\n",
    "import pandas as pd\n",
    "df=pd.DataFrame(tracks_obj.tracks)"
   ]
  },
  {
   "cell_type": "code",
   "execution_count": null,
   "id": "bb420109-90c2-4a8f-9842-ce629ec3e4b8",
   "metadata": {
    "tags": []
   },
   "outputs": [],
   "source": [
    "#visualize the first few entries\n",
    "df.head(20)"
   ]
  },
  {
   "cell_type": "code",
   "execution_count": null,
   "id": "1f1a7295-f752-406d-8811-dd9d3567920d",
   "metadata": {
    "tags": []
   },
   "outputs": [],
   "source": [
    "#the dataframe sets uid (cell id) as an object; reset this so that we can sort the df by uid\n",
    "df = df.reset_index()\n",
    "df"
   ]
  },
  {
   "cell_type": "code",
   "execution_count": null,
   "id": "d192e321-67d5-42ef-b350-b21b40f0a177",
   "metadata": {
    "tags": []
   },
   "outputs": [],
   "source": [
    "#uid is also not in integer format; convert to make future sorting easier\n",
    "df.uid = df.uid.astype('int')"
   ]
  },
  {
   "cell_type": "code",
   "execution_count": null,
   "id": "cd6d7e46-814f-4710-9272-ee4ee6bd8720",
   "metadata": {
    "tags": []
   },
   "outputs": [],
   "source": [
    "#sort by cell id ('uid')\n",
    "df = df.sort_values(by=['uid'])\n",
    "df"
   ]
  },
  {
   "cell_type": "code",
   "execution_count": null,
   "id": "9fca9296-ed01-483c-9440-e19862395336",
   "metadata": {
    "tags": []
   },
   "outputs": [],
   "source": [
    "#remove cell id duplicates to get a list of the first detection of each cell\n",
    "df = df.drop_duplicates(subset=['uid'], keep='first')\n",
    "\n",
    "#Only keep the isolated cells; remove cells where isolated = False\n",
    "df = df[df['isolated']]\n",
    "df"
   ]
  },
  {
   "cell_type": "code",
   "execution_count": null,
   "id": "41b90cce-b6ff-4134-a951-2256151ab07f",
   "metadata": {
    "tags": []
   },
   "outputs": [],
   "source": [
    "#generate a csv file\n",
    "df.to_csv('3may2013tracks.csv')"
   ]
  },
  {
   "cell_type": "code",
   "execution_count": null,
   "id": "4073c75d-6b0b-4e83-8b2d-82b4fd845086",
   "metadata": {
    "tags": []
   },
   "outputs": [],
   "source": [
    "#Delete the temporary directory when you no longer need the files\n",
    "shutil.rmtree(tmp_dir)\n",
    "print('temporary directory removed')"
   ]
  },
  {
   "cell_type": "code",
   "execution_count": null,
   "id": "fdaa692c-9681-45de-a6d3-674fc784eb9c",
   "metadata": {},
   "outputs": [],
   "source": []
  }
 ],
 "metadata": {
  "kernelspec": {
   "display_name": "pyart_env",
   "language": "python",
   "name": "pyart_env"
  },
  "language_info": {
   "codemirror_mode": {
    "name": "ipython",
    "version": 3
   },
   "file_extension": ".py",
   "mimetype": "text/x-python",
   "name": "python",
   "nbconvert_exporter": "python",
   "pygments_lexer": "ipython3",
   "version": "3.8.18"
  }
 },
 "nbformat": 4,
 "nbformat_minor": 5
}
